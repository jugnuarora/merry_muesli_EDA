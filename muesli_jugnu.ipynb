{
 "cells": [
  {
   "cell_type": "markdown",
   "metadata": {},
   "source": [
    "# Import Libraries #"
   ]
  },
  {
   "cell_type": "code",
   "execution_count": 123,
   "metadata": {},
   "outputs": [],
   "source": [
    "import pandas as pd\n",
    "import matplotlib\n",
    "import matplotlib.pyplot as plt\n",
    "import seaborn as sns"
   ]
  },
  {
   "cell_type": "markdown",
   "metadata": {},
   "source": [
    "# Read in sheets of xlsx file #"
   ]
  },
  {
   "cell_type": "code",
   "execution_count": 124,
   "metadata": {},
   "outputs": [],
   "source": [
    "df1 = pd.read_excel('data/Muesli Project raw data.xlsx', 0, header=1)\n",
    "df2 = pd.read_excel('data/Muesli Project raw data.xlsx', 1, header=0)\n",
    "df3 = pd.read_excel('data/Muesli Project raw data.xlsx', 2, header=0)\n",
    "df4 = pd.read_excel('data/Muesli Project raw data.xlsx', 3, header=0)"
   ]
  },
  {
   "cell_type": "markdown",
   "metadata": {},
   "source": [
    "# Column names restructuring #"
   ]
  },
  {
   "cell_type": "code",
   "execution_count": 125,
   "metadata": {},
   "outputs": [],
   "source": [
    "df1.columns = df1.columns.str.lower()\n",
    "df2.columns = df2.columns.str.lower()\n",
    "df3.columns = df3.columns.str.lower()\n",
    "df4.columns = df4.columns.str.lower()"
   ]
  },
  {
   "cell_type": "code",
   "execution_count": 126,
   "metadata": {},
   "outputs": [],
   "source": [
    "df1.columns = df1.columns.str.replace(' ', '_').str.replace('-', '_')\n",
    "df2.columns = df2.columns.str.replace(' ', '_')\n",
    "df3.columns = df3.columns.str.replace(' ', '_')\n",
    "df4.columns = df4.columns.str.replace(' ', '_')"
   ]
  },
  {
   "cell_type": "markdown",
   "metadata": {},
   "source": [
    "Understand your data"
   ]
  },
  {
   "cell_type": "code",
   "execution_count": 127,
   "metadata": {},
   "outputs": [
    {
     "data": {
      "text/html": [
       "<div>\n",
       "<style scoped>\n",
       "    .dataframe tbody tr th:only-of-type {\n",
       "        vertical-align: middle;\n",
       "    }\n",
       "\n",
       "    .dataframe tbody tr th {\n",
       "        vertical-align: top;\n",
       "    }\n",
       "\n",
       "    .dataframe thead th {\n",
       "        text-align: right;\n",
       "    }\n",
       "</style>\n",
       "<table border=\"1\" class=\"dataframe\">\n",
       "  <thead>\n",
       "    <tr style=\"text-align: right;\">\n",
       "      <th></th>\n",
       "      <th>index</th>\n",
       "      <th>order_id</th>\n",
       "      <th>order_date</th>\n",
       "      <th>ship_mode</th>\n",
       "      <th>customer_id</th>\n",
       "      <th>customer_name</th>\n",
       "      <th>origin_channel</th>\n",
       "      <th>country/region</th>\n",
       "      <th>city</th>\n",
       "      <th>state</th>\n",
       "      <th>postal_code</th>\n",
       "      <th>region</th>\n",
       "      <th>category</th>\n",
       "      <th>sub_category</th>\n",
       "      <th>product_id</th>\n",
       "      <th>sales</th>\n",
       "      <th>quantity</th>\n",
       "      <th>discount</th>\n",
       "      <th>profit</th>\n",
       "    </tr>\n",
       "  </thead>\n",
       "  <tbody>\n",
       "    <tr>\n",
       "      <th>0</th>\n",
       "      <td>27</td>\n",
       "      <td>CA-2019-121755</td>\n",
       "      <td>2019-01-16</td>\n",
       "      <td>Second Class</td>\n",
       "      <td>EH-13945</td>\n",
       "      <td>Eric Hoffmann</td>\n",
       "      <td>Email</td>\n",
       "      <td>United States</td>\n",
       "      <td>Los Angeles</td>\n",
       "      <td>California</td>\n",
       "      <td>90049.0</td>\n",
       "      <td>West</td>\n",
       "      <td>Special Projects Muesil</td>\n",
       "      <td>Gluten Free</td>\n",
       "      <td>TEC-AC-10003027</td>\n",
       "      <td>90.57</td>\n",
       "      <td>3</td>\n",
       "      <td>0.0</td>\n",
       "      <td>11.7741</td>\n",
       "    </tr>\n",
       "    <tr>\n",
       "      <th>1</th>\n",
       "      <td>45</td>\n",
       "      <td>CA-2019-118255</td>\n",
       "      <td>2019-03-11</td>\n",
       "      <td>First Class</td>\n",
       "      <td>ON-18715</td>\n",
       "      <td>Odella Nelson</td>\n",
       "      <td>Sales</td>\n",
       "      <td>United States</td>\n",
       "      <td>Eagan</td>\n",
       "      <td>Minnesota</td>\n",
       "      <td>55122.0</td>\n",
       "      <td>Central</td>\n",
       "      <td>Special Projects Muesil</td>\n",
       "      <td>Gluten Free</td>\n",
       "      <td>TEC-AC-10000171</td>\n",
       "      <td>45.98</td>\n",
       "      <td>2</td>\n",
       "      <td>0.0</td>\n",
       "      <td>19.7714</td>\n",
       "    </tr>\n",
       "    <tr>\n",
       "      <th>2</th>\n",
       "      <td>48</td>\n",
       "      <td>CA-2019-169194</td>\n",
       "      <td>2019-06-20</td>\n",
       "      <td>Standard Class</td>\n",
       "      <td>LH-16900</td>\n",
       "      <td>Lena Hernandez</td>\n",
       "      <td>Email</td>\n",
       "      <td>United States</td>\n",
       "      <td>Dover</td>\n",
       "      <td>Delaware</td>\n",
       "      <td>19901.0</td>\n",
       "      <td>East</td>\n",
       "      <td>Special Projects Muesil</td>\n",
       "      <td>Gluten Free</td>\n",
       "      <td>TEC-AC-10002167</td>\n",
       "      <td>45.00</td>\n",
       "      <td>3</td>\n",
       "      <td>0.0</td>\n",
       "      <td>4.9500</td>\n",
       "    </tr>\n",
       "    <tr>\n",
       "      <th>3</th>\n",
       "      <td>60</td>\n",
       "      <td>CA-2019-111682</td>\n",
       "      <td>2019-06-17</td>\n",
       "      <td>First Class</td>\n",
       "      <td>TB-21055</td>\n",
       "      <td>Ted Butterfield</td>\n",
       "      <td>Email</td>\n",
       "      <td>United States</td>\n",
       "      <td>Troy</td>\n",
       "      <td>New York</td>\n",
       "      <td>12180.0</td>\n",
       "      <td>East</td>\n",
       "      <td>Special Projects Muesil</td>\n",
       "      <td>Gluten Free</td>\n",
       "      <td>TEC-AC-10002167</td>\n",
       "      <td>30.00</td>\n",
       "      <td>2</td>\n",
       "      <td>0.0</td>\n",
       "      <td>3.3000</td>\n",
       "    </tr>\n",
       "    <tr>\n",
       "      <th>4</th>\n",
       "      <td>63</td>\n",
       "      <td>CA-2018-135545</td>\n",
       "      <td>2018-11-24</td>\n",
       "      <td>Standard Class</td>\n",
       "      <td>KM-16720</td>\n",
       "      <td>Kunst Miller</td>\n",
       "      <td>Email</td>\n",
       "      <td>United States</td>\n",
       "      <td>Los Angeles</td>\n",
       "      <td>California</td>\n",
       "      <td>90004.0</td>\n",
       "      <td>West</td>\n",
       "      <td>Special Projects Muesil</td>\n",
       "      <td>Gluten Free</td>\n",
       "      <td>TEC-AC-10004633</td>\n",
       "      <td>13.98</td>\n",
       "      <td>2</td>\n",
       "      <td>0.0</td>\n",
       "      <td>6.1512</td>\n",
       "    </tr>\n",
       "  </tbody>\n",
       "</table>\n",
       "</div>"
      ],
      "text/plain": [
       "   index        order_id order_date       ship_mode customer_id  \\\n",
       "0     27  CA-2019-121755 2019-01-16    Second Class    EH-13945   \n",
       "1     45  CA-2019-118255 2019-03-11     First Class    ON-18715   \n",
       "2     48  CA-2019-169194 2019-06-20  Standard Class    LH-16900   \n",
       "3     60  CA-2019-111682 2019-06-17     First Class    TB-21055   \n",
       "4     63  CA-2018-135545 2018-11-24  Standard Class    KM-16720   \n",
       "\n",
       "     customer_name origin_channel country/region         city       state  \\\n",
       "0    Eric Hoffmann          Email  United States  Los Angeles  California   \n",
       "1    Odella Nelson          Sales  United States        Eagan   Minnesota   \n",
       "2   Lena Hernandez          Email  United States        Dover    Delaware   \n",
       "3  Ted Butterfield          Email  United States         Troy    New York   \n",
       "4     Kunst Miller          Email  United States  Los Angeles  California   \n",
       "\n",
       "   postal_code   region                 category sub_category  \\\n",
       "0      90049.0     West  Special Projects Muesil  Gluten Free   \n",
       "1      55122.0  Central  Special Projects Muesil  Gluten Free   \n",
       "2      19901.0     East  Special Projects Muesil  Gluten Free   \n",
       "3      12180.0     East  Special Projects Muesil  Gluten Free   \n",
       "4      90004.0     West  Special Projects Muesil  Gluten Free   \n",
       "\n",
       "        product_id  sales  quantity  discount   profit  \n",
       "0  TEC-AC-10003027  90.57         3       0.0  11.7741  \n",
       "1  TEC-AC-10000171  45.98         2       0.0  19.7714  \n",
       "2  TEC-AC-10002167  45.00         3       0.0   4.9500  \n",
       "3  TEC-AC-10002167  30.00         2       0.0   3.3000  \n",
       "4  TEC-AC-10004633  13.98         2       0.0   6.1512  "
      ]
     },
     "execution_count": 127,
     "metadata": {},
     "output_type": "execute_result"
    }
   ],
   "source": [
    "df1.head()"
   ]
  },
  {
   "cell_type": "code",
   "execution_count": 7,
   "metadata": {},
   "outputs": [
    {
     "name": "stdout",
     "output_type": "stream",
     "text": [
      "['Email' 'Sales' 'Facebook']\n",
      "['United States']\n",
      "14\n"
     ]
    }
   ],
   "source": [
    "print(df1.origin_channel.unique())\n",
    "print(df1['country/region'].unique())\n",
    "print(df1.quantity.max())"
   ]
  },
  {
   "cell_type": "code",
   "execution_count": 8,
   "metadata": {},
   "outputs": [
    {
     "data": {
      "text/html": [
       "<div>\n",
       "<style scoped>\n",
       "    .dataframe tbody tr th:only-of-type {\n",
       "        vertical-align: middle;\n",
       "    }\n",
       "\n",
       "    .dataframe tbody tr th {\n",
       "        vertical-align: top;\n",
       "    }\n",
       "\n",
       "    .dataframe thead th {\n",
       "        text-align: right;\n",
       "    }\n",
       "</style>\n",
       "<table border=\"1\" class=\"dataframe\">\n",
       "  <thead>\n",
       "    <tr style=\"text-align: right;\">\n",
       "      <th></th>\n",
       "      <th>order_id</th>\n",
       "      <th>arrival_scan_date</th>\n",
       "      <th>customer_name</th>\n",
       "    </tr>\n",
       "  </thead>\n",
       "  <tbody>\n",
       "    <tr>\n",
       "      <th>0</th>\n",
       "      <td>CA-2019-109666</td>\n",
       "      <td>2019-05-03</td>\n",
       "      <td>Kunst Miller</td>\n",
       "    </tr>\n",
       "    <tr>\n",
       "      <th>1</th>\n",
       "      <td>CA-2019-138933</td>\n",
       "      <td>2019-05-03</td>\n",
       "      <td>Jack Lebron</td>\n",
       "    </tr>\n",
       "    <tr>\n",
       "      <th>2</th>\n",
       "      <td>CA-2019-130001</td>\n",
       "      <td>2019-05-03</td>\n",
       "      <td>Heather Kirkland</td>\n",
       "    </tr>\n",
       "    <tr>\n",
       "      <th>3</th>\n",
       "      <td>CA-2019-113061</td>\n",
       "      <td>2019-05-06</td>\n",
       "      <td>Ed Ludwig</td>\n",
       "    </tr>\n",
       "    <tr>\n",
       "      <th>4</th>\n",
       "      <td>CA-2019-162138</td>\n",
       "      <td>2019-05-06</td>\n",
       "      <td>Grace Kelly</td>\n",
       "    </tr>\n",
       "  </tbody>\n",
       "</table>\n",
       "</div>"
      ],
      "text/plain": [
       "         order_id arrival_scan_date     customer_name\n",
       "0  CA-2019-109666        2019-05-03      Kunst Miller\n",
       "1  CA-2019-138933        2019-05-03       Jack Lebron\n",
       "2  CA-2019-130001        2019-05-03  Heather Kirkland\n",
       "3  CA-2019-113061        2019-05-06         Ed Ludwig\n",
       "4  CA-2019-162138        2019-05-06       Grace Kelly"
      ]
     },
     "execution_count": 8,
     "metadata": {},
     "output_type": "execute_result"
    }
   ],
   "source": [
    "df2.head()"
   ]
  },
  {
   "cell_type": "code",
   "execution_count": 9,
   "metadata": {},
   "outputs": [
    {
     "data": {
      "text/html": [
       "<div>\n",
       "<style scoped>\n",
       "    .dataframe tbody tr th:only-of-type {\n",
       "        vertical-align: middle;\n",
       "    }\n",
       "\n",
       "    .dataframe tbody tr th {\n",
       "        vertical-align: top;\n",
       "    }\n",
       "\n",
       "    .dataframe thead th {\n",
       "        text-align: right;\n",
       "    }\n",
       "</style>\n",
       "<table border=\"1\" class=\"dataframe\">\n",
       "  <thead>\n",
       "    <tr style=\"text-align: right;\">\n",
       "      <th></th>\n",
       "      <th>row_id</th>\n",
       "      <th>order_id</th>\n",
       "      <th>order_date</th>\n",
       "      <th>on_truck_scan_date</th>\n",
       "      <th>ship_mode</th>\n",
       "    </tr>\n",
       "  </thead>\n",
       "  <tbody>\n",
       "    <tr>\n",
       "      <th>0</th>\n",
       "      <td>3074</td>\n",
       "      <td>CA-2019-125206</td>\n",
       "      <td>2019-01-03</td>\n",
       "      <td>2019-01-07</td>\n",
       "      <td>Express</td>\n",
       "    </tr>\n",
       "    <tr>\n",
       "      <th>1</th>\n",
       "      <td>4919</td>\n",
       "      <td>CA-2019-160304</td>\n",
       "      <td>2019-01-02</td>\n",
       "      <td>2019-01-09</td>\n",
       "      <td>Standard Processing</td>\n",
       "    </tr>\n",
       "    <tr>\n",
       "      <th>2</th>\n",
       "      <td>4920</td>\n",
       "      <td>CA-2019-160304</td>\n",
       "      <td>2019-01-02</td>\n",
       "      <td>2019-01-09</td>\n",
       "      <td>Standard Processing</td>\n",
       "    </tr>\n",
       "    <tr>\n",
       "      <th>3</th>\n",
       "      <td>8604</td>\n",
       "      <td>US-2019-116365</td>\n",
       "      <td>2019-01-03</td>\n",
       "      <td>2019-01-09</td>\n",
       "      <td>Standard Processing</td>\n",
       "    </tr>\n",
       "    <tr>\n",
       "      <th>4</th>\n",
       "      <td>8605</td>\n",
       "      <td>US-2019-116365</td>\n",
       "      <td>2019-01-03</td>\n",
       "      <td>2019-01-09</td>\n",
       "      <td>Standard Processing</td>\n",
       "    </tr>\n",
       "  </tbody>\n",
       "</table>\n",
       "</div>"
      ],
      "text/plain": [
       "   row_id        order_id order_date on_truck_scan_date            ship_mode\n",
       "0    3074  CA-2019-125206 2019-01-03         2019-01-07              Express\n",
       "1    4919  CA-2019-160304 2019-01-02         2019-01-09  Standard Processing\n",
       "2    4920  CA-2019-160304 2019-01-02         2019-01-09  Standard Processing\n",
       "3    8604  US-2019-116365 2019-01-03         2019-01-09  Standard Processing\n",
       "4    8605  US-2019-116365 2019-01-03         2019-01-09  Standard Processing"
      ]
     },
     "execution_count": 9,
     "metadata": {},
     "output_type": "execute_result"
    }
   ],
   "source": [
    "df3.head()"
   ]
  },
  {
   "cell_type": "code",
   "execution_count": 10,
   "metadata": {},
   "outputs": [
    {
     "data": {
      "text/html": [
       "<div>\n",
       "<style scoped>\n",
       "    .dataframe tbody tr th:only-of-type {\n",
       "        vertical-align: middle;\n",
       "    }\n",
       "\n",
       "    .dataframe tbody tr th {\n",
       "        vertical-align: top;\n",
       "    }\n",
       "\n",
       "    .dataframe thead th {\n",
       "        text-align: right;\n",
       "    }\n",
       "</style>\n",
       "<table border=\"1\" class=\"dataframe\">\n",
       "  <thead>\n",
       "    <tr style=\"text-align: right;\">\n",
       "      <th></th>\n",
       "      <th>order_id</th>\n",
       "      <th>ready_to_ship_date</th>\n",
       "      <th>pickup_date</th>\n",
       "    </tr>\n",
       "  </thead>\n",
       "  <tbody>\n",
       "    <tr>\n",
       "      <th>0</th>\n",
       "      <td>CA-2019-116540</td>\n",
       "      <td>2019-09-02</td>\n",
       "      <td>2019-09-03</td>\n",
       "    </tr>\n",
       "    <tr>\n",
       "      <th>1</th>\n",
       "      <td>CA-2019-116540</td>\n",
       "      <td>2019-09-02</td>\n",
       "      <td>2019-09-03</td>\n",
       "    </tr>\n",
       "    <tr>\n",
       "      <th>2</th>\n",
       "      <td>CA-2019-129847</td>\n",
       "      <td>2019-09-04</td>\n",
       "      <td>2019-09-04</td>\n",
       "    </tr>\n",
       "    <tr>\n",
       "      <th>3</th>\n",
       "      <td>CA-2019-129630</td>\n",
       "      <td>2019-09-04</td>\n",
       "      <td>2019-09-04</td>\n",
       "    </tr>\n",
       "    <tr>\n",
       "      <th>4</th>\n",
       "      <td>CA-2019-106278</td>\n",
       "      <td>2019-09-05</td>\n",
       "      <td>2019-09-06</td>\n",
       "    </tr>\n",
       "  </tbody>\n",
       "</table>\n",
       "</div>"
      ],
      "text/plain": [
       "         order_id ready_to_ship_date pickup_date\n",
       "0  CA-2019-116540         2019-09-02  2019-09-03\n",
       "1  CA-2019-116540         2019-09-02  2019-09-03\n",
       "2  CA-2019-129847         2019-09-04  2019-09-04\n",
       "3  CA-2019-129630         2019-09-04  2019-09-04\n",
       "4  CA-2019-106278         2019-09-05  2019-09-06"
      ]
     },
     "execution_count": 10,
     "metadata": {},
     "output_type": "execute_result"
    }
   ],
   "source": [
    "df4.head()"
   ]
  },
  {
   "cell_type": "code",
   "execution_count": 11,
   "metadata": {},
   "outputs": [
    {
     "name": "stdout",
     "output_type": "stream",
     "text": [
      "<class 'pandas.core.frame.DataFrame'>\n",
      "RangeIndex: 9994 entries, 0 to 9993\n",
      "Data columns (total 19 columns):\n",
      " #   Column          Non-Null Count  Dtype         \n",
      "---  ------          --------------  -----         \n",
      " 0   index           9994 non-null   int64         \n",
      " 1   order_id        9994 non-null   object        \n",
      " 2   order_date      9994 non-null   datetime64[ns]\n",
      " 3   ship_mode       9994 non-null   object        \n",
      " 4   customer_id     9994 non-null   object        \n",
      " 5   customer_name   9994 non-null   object        \n",
      " 6   origin_channel  9994 non-null   object        \n",
      " 7   country/region  9994 non-null   object        \n",
      " 8   city            9994 non-null   object        \n",
      " 9   state           9994 non-null   object        \n",
      " 10  postal_code     9983 non-null   float64       \n",
      " 11  region          9994 non-null   object        \n",
      " 12  category        9994 non-null   object        \n",
      " 13  sub-category    9994 non-null   object        \n",
      " 14  product_id      9994 non-null   object        \n",
      " 15  sales           9994 non-null   float64       \n",
      " 16  quantity        9994 non-null   int64         \n",
      " 17  discount        9994 non-null   float64       \n",
      " 18  profit          9994 non-null   float64       \n",
      "dtypes: datetime64[ns](1), float64(4), int64(2), object(12)\n",
      "memory usage: 1.4+ MB\n"
     ]
    }
   ],
   "source": [
    "df1.info()"
   ]
  },
  {
   "cell_type": "code",
   "execution_count": 12,
   "metadata": {},
   "outputs": [
    {
     "name": "stdout",
     "output_type": "stream",
     "text": [
      "2017-01-03 00:00:00\n",
      "2020-12-30 00:00:00\n"
     ]
    }
   ],
   "source": [
    "print(df1.order_date.min())\n",
    "print(df1.order_date.max())"
   ]
  },
  {
   "cell_type": "code",
   "execution_count": 13,
   "metadata": {},
   "outputs": [
    {
     "name": "stdout",
     "output_type": "stream",
     "text": [
      "<class 'pandas.core.frame.DataFrame'>\n",
      "RangeIndex: 333 entries, 0 to 332\n",
      "Data columns (total 3 columns):\n",
      " #   Column             Non-Null Count  Dtype         \n",
      "---  ------             --------------  -----         \n",
      " 0   order_id           333 non-null    object        \n",
      " 1   arrival_scan_date  333 non-null    datetime64[ns]\n",
      " 2   customer_name      333 non-null    object        \n",
      "dtypes: datetime64[ns](1), object(2)\n",
      "memory usage: 7.9+ KB\n"
     ]
    }
   ],
   "source": [
    "df2.info()"
   ]
  },
  {
   "cell_type": "code",
   "execution_count": 14,
   "metadata": {},
   "outputs": [
    {
     "name": "stdout",
     "output_type": "stream",
     "text": [
      "<class 'pandas.core.frame.DataFrame'>\n",
      "RangeIndex: 5899 entries, 0 to 5898\n",
      "Data columns (total 5 columns):\n",
      " #   Column              Non-Null Count  Dtype         \n",
      "---  ------              --------------  -----         \n",
      " 0   row_id              5899 non-null   int64         \n",
      " 1   order_id            5899 non-null   object        \n",
      " 2   order_date          5899 non-null   datetime64[ns]\n",
      " 3   on_truck_scan_date  5899 non-null   datetime64[ns]\n",
      " 4   ship_mode           5899 non-null   object        \n",
      "dtypes: datetime64[ns](2), int64(1), object(2)\n",
      "memory usage: 230.6+ KB\n"
     ]
    }
   ],
   "source": [
    "df3.info()"
   ]
  },
  {
   "cell_type": "code",
   "execution_count": 15,
   "metadata": {},
   "outputs": [
    {
     "name": "stdout",
     "output_type": "stream",
     "text": [
      "<class 'pandas.core.frame.DataFrame'>\n",
      "RangeIndex: 290 entries, 0 to 289\n",
      "Data columns (total 3 columns):\n",
      " #   Column              Non-Null Count  Dtype         \n",
      "---  ------              --------------  -----         \n",
      " 0   order_id            290 non-null    object        \n",
      " 1   ready_to_ship_date  290 non-null    datetime64[ns]\n",
      " 2   pickup_date         290 non-null    datetime64[ns]\n",
      "dtypes: datetime64[ns](2), object(1)\n",
      "memory usage: 6.9+ KB\n"
     ]
    }
   ],
   "source": [
    "df4.info()"
   ]
  },
  {
   "cell_type": "markdown",
   "metadata": {},
   "source": [
    "# Data Cleaning #"
   ]
  },
  {
   "cell_type": "markdown",
   "metadata": {},
   "source": [
    "## Remove Duplicates ##"
   ]
  },
  {
   "cell_type": "code",
   "execution_count": 16,
   "metadata": {},
   "outputs": [
    {
     "data": {
      "text/plain": [
       "False    5009\n",
       "True     4985\n",
       "Name: order_id, dtype: int64"
      ]
     },
     "execution_count": 16,
     "metadata": {},
     "output_type": "execute_result"
    }
   ],
   "source": [
    "#df1['order_id'].duplicated().value_counts()\n",
    "\n",
    "# one order can contain several products"
   ]
  },
  {
   "cell_type": "code",
   "execution_count": 17,
   "metadata": {},
   "outputs": [
    {
     "data": {
      "text/html": [
       "<div>\n",
       "<style scoped>\n",
       "    .dataframe tbody tr th:only-of-type {\n",
       "        vertical-align: middle;\n",
       "    }\n",
       "\n",
       "    .dataframe tbody tr th {\n",
       "        vertical-align: top;\n",
       "    }\n",
       "\n",
       "    .dataframe thead th {\n",
       "        text-align: right;\n",
       "    }\n",
       "</style>\n",
       "<table border=\"1\" class=\"dataframe\">\n",
       "  <thead>\n",
       "    <tr style=\"text-align: right;\">\n",
       "      <th></th>\n",
       "      <th>order_id</th>\n",
       "      <th>order_date</th>\n",
       "      <th>ship_mode</th>\n",
       "      <th>origin_channel</th>\n",
       "      <th>city</th>\n",
       "      <th>state</th>\n",
       "      <th>quantity</th>\n",
       "    </tr>\n",
       "  </thead>\n",
       "  <tbody>\n",
       "    <tr>\n",
       "      <th>0</th>\n",
       "      <td>CA-2019-121755</td>\n",
       "      <td>2019-01-16</td>\n",
       "      <td>Second Class</td>\n",
       "      <td>Email</td>\n",
       "      <td>Los Angeles</td>\n",
       "      <td>California</td>\n",
       "      <td>3</td>\n",
       "    </tr>\n",
       "    <tr>\n",
       "      <th>1</th>\n",
       "      <td>CA-2019-118255</td>\n",
       "      <td>2019-03-11</td>\n",
       "      <td>First Class</td>\n",
       "      <td>Sales</td>\n",
       "      <td>Eagan</td>\n",
       "      <td>Minnesota</td>\n",
       "      <td>2</td>\n",
       "    </tr>\n",
       "    <tr>\n",
       "      <th>2</th>\n",
       "      <td>CA-2019-169194</td>\n",
       "      <td>2019-06-20</td>\n",
       "      <td>Standard Class</td>\n",
       "      <td>Email</td>\n",
       "      <td>Dover</td>\n",
       "      <td>Delaware</td>\n",
       "      <td>3</td>\n",
       "    </tr>\n",
       "    <tr>\n",
       "      <th>3</th>\n",
       "      <td>CA-2019-111682</td>\n",
       "      <td>2019-06-17</td>\n",
       "      <td>First Class</td>\n",
       "      <td>Email</td>\n",
       "      <td>Troy</td>\n",
       "      <td>New York</td>\n",
       "      <td>2</td>\n",
       "    </tr>\n",
       "    <tr>\n",
       "      <th>4</th>\n",
       "      <td>CA-2018-135545</td>\n",
       "      <td>2018-11-24</td>\n",
       "      <td>Standard Class</td>\n",
       "      <td>Email</td>\n",
       "      <td>Los Angeles</td>\n",
       "      <td>California</td>\n",
       "      <td>2</td>\n",
       "    </tr>\n",
       "  </tbody>\n",
       "</table>\n",
       "</div>"
      ],
      "text/plain": [
       "         order_id order_date       ship_mode origin_channel         city  \\\n",
       "0  CA-2019-121755 2019-01-16    Second Class          Email  Los Angeles   \n",
       "1  CA-2019-118255 2019-03-11     First Class          Sales        Eagan   \n",
       "2  CA-2019-169194 2019-06-20  Standard Class          Email        Dover   \n",
       "3  CA-2019-111682 2019-06-17     First Class          Email         Troy   \n",
       "4  CA-2018-135545 2018-11-24  Standard Class          Email  Los Angeles   \n",
       "\n",
       "        state  quantity  \n",
       "0  California         3  \n",
       "1   Minnesota         2  \n",
       "2    Delaware         3  \n",
       "3    New York         2  \n",
       "4  California         2  "
      ]
     },
     "execution_count": 17,
     "metadata": {},
     "output_type": "execute_result"
    }
   ],
   "source": [
    "df1.drop(columns=['index', 'customer_id', 'customer_name', 'country/region', 'postal_code',\n",
    " 'region', 'category', 'sub-category', 'product_id', 'sales', 'discount', 'profit'], inplace=True)\n",
    "\n",
    "df1.head()"
   ]
  },
  {
   "cell_type": "code",
   "execution_count": 18,
   "metadata": {},
   "outputs": [
    {
     "data": {
      "text/plain": [
       "9994"
      ]
     },
     "execution_count": 18,
     "metadata": {},
     "output_type": "execute_result"
    }
   ],
   "source": [
    "df1.order_id.count()"
   ]
  },
  {
   "cell_type": "code",
   "execution_count": 19,
   "metadata": {},
   "outputs": [
    {
     "data": {
      "text/html": [
       "<div>\n",
       "<style scoped>\n",
       "    .dataframe tbody tr th:only-of-type {\n",
       "        vertical-align: middle;\n",
       "    }\n",
       "\n",
       "    .dataframe tbody tr th {\n",
       "        vertical-align: top;\n",
       "    }\n",
       "\n",
       "    .dataframe thead th {\n",
       "        text-align: right;\n",
       "    }\n",
       "</style>\n",
       "<table border=\"1\" class=\"dataframe\">\n",
       "  <thead>\n",
       "    <tr style=\"text-align: right;\">\n",
       "      <th></th>\n",
       "      <th>order_id</th>\n",
       "      <th>arrival_scan_date</th>\n",
       "    </tr>\n",
       "  </thead>\n",
       "  <tbody>\n",
       "    <tr>\n",
       "      <th>0</th>\n",
       "      <td>CA-2019-109666</td>\n",
       "      <td>2019-05-03</td>\n",
       "    </tr>\n",
       "    <tr>\n",
       "      <th>1</th>\n",
       "      <td>CA-2019-138933</td>\n",
       "      <td>2019-05-03</td>\n",
       "    </tr>\n",
       "    <tr>\n",
       "      <th>2</th>\n",
       "      <td>CA-2019-130001</td>\n",
       "      <td>2019-05-03</td>\n",
       "    </tr>\n",
       "    <tr>\n",
       "      <th>3</th>\n",
       "      <td>CA-2019-113061</td>\n",
       "      <td>2019-05-06</td>\n",
       "    </tr>\n",
       "    <tr>\n",
       "      <th>4</th>\n",
       "      <td>CA-2019-162138</td>\n",
       "      <td>2019-05-06</td>\n",
       "    </tr>\n",
       "  </tbody>\n",
       "</table>\n",
       "</div>"
      ],
      "text/plain": [
       "         order_id arrival_scan_date\n",
       "0  CA-2019-109666        2019-05-03\n",
       "1  CA-2019-138933        2019-05-03\n",
       "2  CA-2019-130001        2019-05-03\n",
       "3  CA-2019-113061        2019-05-06\n",
       "4  CA-2019-162138        2019-05-06"
      ]
     },
     "execution_count": 19,
     "metadata": {},
     "output_type": "execute_result"
    }
   ],
   "source": [
    "df2.drop(columns='customer_name', inplace=True)\n",
    "\n",
    "df2.head()"
   ]
  },
  {
   "cell_type": "code",
   "execution_count": 20,
   "metadata": {},
   "outputs": [
    {
     "data": {
      "text/plain": [
       "0      False\n",
       "1      False\n",
       "2      False\n",
       "3      False\n",
       "4      False\n",
       "       ...  \n",
       "328    False\n",
       "329    False\n",
       "330    False\n",
       "331    False\n",
       "332    False\n",
       "Name: order_id, Length: 333, dtype: bool"
      ]
     },
     "execution_count": 20,
     "metadata": {},
     "output_type": "execute_result"
    }
   ],
   "source": [
    "df2['order_id'].duplicated()"
   ]
  },
  {
   "cell_type": "code",
   "execution_count": 21,
   "metadata": {},
   "outputs": [
    {
     "data": {
      "text/plain": [
       "333"
      ]
     },
     "execution_count": 21,
     "metadata": {},
     "output_type": "execute_result"
    }
   ],
   "source": [
    "df2.order_id.count()"
   ]
  },
  {
   "cell_type": "code",
   "execution_count": 22,
   "metadata": {},
   "outputs": [
    {
     "data": {
      "text/html": [
       "<div>\n",
       "<style scoped>\n",
       "    .dataframe tbody tr th:only-of-type {\n",
       "        vertical-align: middle;\n",
       "    }\n",
       "\n",
       "    .dataframe tbody tr th {\n",
       "        vertical-align: top;\n",
       "    }\n",
       "\n",
       "    .dataframe thead th {\n",
       "        text-align: right;\n",
       "    }\n",
       "</style>\n",
       "<table border=\"1\" class=\"dataframe\">\n",
       "  <thead>\n",
       "    <tr style=\"text-align: right;\">\n",
       "      <th></th>\n",
       "      <th>order_id</th>\n",
       "      <th>order_date</th>\n",
       "      <th>on_truck_scan_date</th>\n",
       "      <th>ship_mode</th>\n",
       "    </tr>\n",
       "  </thead>\n",
       "  <tbody>\n",
       "    <tr>\n",
       "      <th>0</th>\n",
       "      <td>CA-2019-125206</td>\n",
       "      <td>2019-01-03</td>\n",
       "      <td>2019-01-07</td>\n",
       "      <td>Express</td>\n",
       "    </tr>\n",
       "    <tr>\n",
       "      <th>1</th>\n",
       "      <td>CA-2019-160304</td>\n",
       "      <td>2019-01-02</td>\n",
       "      <td>2019-01-09</td>\n",
       "      <td>Standard Processing</td>\n",
       "    </tr>\n",
       "    <tr>\n",
       "      <th>2</th>\n",
       "      <td>CA-2019-160304</td>\n",
       "      <td>2019-01-02</td>\n",
       "      <td>2019-01-09</td>\n",
       "      <td>Standard Processing</td>\n",
       "    </tr>\n",
       "    <tr>\n",
       "      <th>3</th>\n",
       "      <td>US-2019-116365</td>\n",
       "      <td>2019-01-03</td>\n",
       "      <td>2019-01-09</td>\n",
       "      <td>Standard Processing</td>\n",
       "    </tr>\n",
       "    <tr>\n",
       "      <th>4</th>\n",
       "      <td>US-2019-116365</td>\n",
       "      <td>2019-01-03</td>\n",
       "      <td>2019-01-09</td>\n",
       "      <td>Standard Processing</td>\n",
       "    </tr>\n",
       "  </tbody>\n",
       "</table>\n",
       "</div>"
      ],
      "text/plain": [
       "         order_id order_date on_truck_scan_date            ship_mode\n",
       "0  CA-2019-125206 2019-01-03         2019-01-07              Express\n",
       "1  CA-2019-160304 2019-01-02         2019-01-09  Standard Processing\n",
       "2  CA-2019-160304 2019-01-02         2019-01-09  Standard Processing\n",
       "3  US-2019-116365 2019-01-03         2019-01-09  Standard Processing\n",
       "4  US-2019-116365 2019-01-03         2019-01-09  Standard Processing"
      ]
     },
     "execution_count": 22,
     "metadata": {},
     "output_type": "execute_result"
    }
   ],
   "source": [
    "df3.drop(columns='row_id', inplace=True)\n",
    "\n",
    "df3.head()"
   ]
  },
  {
   "cell_type": "code",
   "execution_count": 23,
   "metadata": {},
   "outputs": [],
   "source": [
    "df3.drop_duplicates(keep='first', inplace=True)"
   ]
  },
  {
   "cell_type": "code",
   "execution_count": 24,
   "metadata": {},
   "outputs": [
    {
     "data": {
      "text/plain": [
       "(3003, 4)"
      ]
     },
     "execution_count": 24,
     "metadata": {},
     "output_type": "execute_result"
    }
   ],
   "source": [
    "df3.shape\n",
    "#df3.order_id.count()"
   ]
  },
  {
   "cell_type": "code",
   "execution_count": 25,
   "metadata": {},
   "outputs": [
    {
     "data": {
      "text/html": [
       "<div>\n",
       "<style scoped>\n",
       "    .dataframe tbody tr th:only-of-type {\n",
       "        vertical-align: middle;\n",
       "    }\n",
       "\n",
       "    .dataframe tbody tr th {\n",
       "        vertical-align: top;\n",
       "    }\n",
       "\n",
       "    .dataframe thead th {\n",
       "        text-align: right;\n",
       "    }\n",
       "</style>\n",
       "<table border=\"1\" class=\"dataframe\">\n",
       "  <thead>\n",
       "    <tr style=\"text-align: right;\">\n",
       "      <th></th>\n",
       "      <th>order_id</th>\n",
       "      <th>ready_to_ship_date</th>\n",
       "    </tr>\n",
       "  </thead>\n",
       "  <tbody>\n",
       "    <tr>\n",
       "      <th>0</th>\n",
       "      <td>CA-2019-116540</td>\n",
       "      <td>2019-09-02</td>\n",
       "    </tr>\n",
       "    <tr>\n",
       "      <th>1</th>\n",
       "      <td>CA-2019-116540</td>\n",
       "      <td>2019-09-02</td>\n",
       "    </tr>\n",
       "    <tr>\n",
       "      <th>2</th>\n",
       "      <td>CA-2019-129847</td>\n",
       "      <td>2019-09-04</td>\n",
       "    </tr>\n",
       "    <tr>\n",
       "      <th>3</th>\n",
       "      <td>CA-2019-129630</td>\n",
       "      <td>2019-09-04</td>\n",
       "    </tr>\n",
       "    <tr>\n",
       "      <th>4</th>\n",
       "      <td>CA-2019-106278</td>\n",
       "      <td>2019-09-05</td>\n",
       "    </tr>\n",
       "  </tbody>\n",
       "</table>\n",
       "</div>"
      ],
      "text/plain": [
       "         order_id ready_to_ship_date\n",
       "0  CA-2019-116540         2019-09-02\n",
       "1  CA-2019-116540         2019-09-02\n",
       "2  CA-2019-129847         2019-09-04\n",
       "3  CA-2019-129630         2019-09-04\n",
       "4  CA-2019-106278         2019-09-05"
      ]
     },
     "execution_count": 25,
     "metadata": {},
     "output_type": "execute_result"
    }
   ],
   "source": [
    "df4.drop(columns='pickup_date', inplace=True)\n",
    "\n",
    "df4.head()"
   ]
  },
  {
   "cell_type": "code",
   "execution_count": 26,
   "metadata": {},
   "outputs": [],
   "source": [
    "df4.drop_duplicates(keep='first', inplace=True)"
   ]
  },
  {
   "cell_type": "code",
   "execution_count": 27,
   "metadata": {},
   "outputs": [
    {
     "data": {
      "text/plain": [
       "204"
      ]
     },
     "execution_count": 27,
     "metadata": {},
     "output_type": "execute_result"
    }
   ],
   "source": [
    "df4.order_id.count()"
   ]
  },
  {
   "cell_type": "markdown",
   "metadata": {},
   "source": [
    "Combine dataframes"
   ]
  },
  {
   "cell_type": "markdown",
   "metadata": {},
   "source": [
    "df1: Orders including date and types and contents of order <br>\n",
    "df3: time from order date to on truck scan <br>\n",
    "df4: time from ready to ship to pickup (express vs regular) <br>\n",
    "df2: QR scan date, arrival date at the customer <br>"
   ]
  },
  {
   "cell_type": "code",
   "execution_count": 28,
   "metadata": {},
   "outputs": [
    {
     "data": {
      "text/html": [
       "<div>\n",
       "<style scoped>\n",
       "    .dataframe tbody tr th:only-of-type {\n",
       "        vertical-align: middle;\n",
       "    }\n",
       "\n",
       "    .dataframe tbody tr th {\n",
       "        vertical-align: top;\n",
       "    }\n",
       "\n",
       "    .dataframe thead th {\n",
       "        text-align: right;\n",
       "    }\n",
       "</style>\n",
       "<table border=\"1\" class=\"dataframe\">\n",
       "  <thead>\n",
       "    <tr style=\"text-align: right;\">\n",
       "      <th></th>\n",
       "      <th>order_id</th>\n",
       "      <th>order_date</th>\n",
       "      <th>on_truck_scan_date</th>\n",
       "      <th>ship_mode</th>\n",
       "      <th>ready_to_ship_date</th>\n",
       "    </tr>\n",
       "  </thead>\n",
       "  <tbody>\n",
       "    <tr>\n",
       "      <th>0</th>\n",
       "      <td>CA-2019-125206</td>\n",
       "      <td>2019-01-03</td>\n",
       "      <td>2019-01-07</td>\n",
       "      <td>Express</td>\n",
       "      <td>NaT</td>\n",
       "    </tr>\n",
       "    <tr>\n",
       "      <th>1</th>\n",
       "      <td>CA-2019-160304</td>\n",
       "      <td>2019-01-02</td>\n",
       "      <td>2019-01-09</td>\n",
       "      <td>Standard Processing</td>\n",
       "      <td>NaT</td>\n",
       "    </tr>\n",
       "    <tr>\n",
       "      <th>2</th>\n",
       "      <td>US-2019-116365</td>\n",
       "      <td>2019-01-03</td>\n",
       "      <td>2019-01-09</td>\n",
       "      <td>Standard Processing</td>\n",
       "      <td>NaT</td>\n",
       "    </tr>\n",
       "    <tr>\n",
       "      <th>3</th>\n",
       "      <td>CA-2019-105207</td>\n",
       "      <td>2019-01-03</td>\n",
       "      <td>2019-01-09</td>\n",
       "      <td>Standard Processing</td>\n",
       "      <td>NaT</td>\n",
       "    </tr>\n",
       "    <tr>\n",
       "      <th>4</th>\n",
       "      <td>CA-2019-158211</td>\n",
       "      <td>2019-01-04</td>\n",
       "      <td>2019-01-09</td>\n",
       "      <td>Standard Processing</td>\n",
       "      <td>NaT</td>\n",
       "    </tr>\n",
       "  </tbody>\n",
       "</table>\n",
       "</div>"
      ],
      "text/plain": [
       "         order_id order_date on_truck_scan_date            ship_mode  \\\n",
       "0  CA-2019-125206 2019-01-03         2019-01-07              Express   \n",
       "1  CA-2019-160304 2019-01-02         2019-01-09  Standard Processing   \n",
       "2  US-2019-116365 2019-01-03         2019-01-09  Standard Processing   \n",
       "3  CA-2019-105207 2019-01-03         2019-01-09  Standard Processing   \n",
       "4  CA-2019-158211 2019-01-04         2019-01-09  Standard Processing   \n",
       "\n",
       "  ready_to_ship_date  \n",
       "0                NaT  \n",
       "1                NaT  \n",
       "2                NaT  \n",
       "3                NaT  \n",
       "4                NaT  "
      ]
     },
     "execution_count": 28,
     "metadata": {},
     "output_type": "execute_result"
    }
   ],
   "source": [
    "order_ready_truck = pd.merge(df3, df4, how='left', on='order_id', sort=False)\n",
    "order_ready_truck.head()"
   ]
  },
  {
   "cell_type": "code",
   "execution_count": 29,
   "metadata": {},
   "outputs": [
    {
     "data": {
      "text/plain": [
       "3003"
      ]
     },
     "execution_count": 29,
     "metadata": {},
     "output_type": "execute_result"
    }
   ],
   "source": [
    "order_ready_truck.order_id.count()"
   ]
  },
  {
   "cell_type": "code",
   "execution_count": 30,
   "metadata": {},
   "outputs": [
    {
     "data": {
      "text/html": [
       "<div>\n",
       "<style scoped>\n",
       "    .dataframe tbody tr th:only-of-type {\n",
       "        vertical-align: middle;\n",
       "    }\n",
       "\n",
       "    .dataframe tbody tr th {\n",
       "        vertical-align: top;\n",
       "    }\n",
       "\n",
       "    .dataframe thead th {\n",
       "        text-align: right;\n",
       "    }\n",
       "</style>\n",
       "<table border=\"1\" class=\"dataframe\">\n",
       "  <thead>\n",
       "    <tr style=\"text-align: right;\">\n",
       "      <th></th>\n",
       "      <th>order_id</th>\n",
       "      <th>order_date</th>\n",
       "      <th>on_truck_scan_date</th>\n",
       "      <th>ship_mode</th>\n",
       "      <th>ready_to_ship_date</th>\n",
       "      <th>arrival_scan_date</th>\n",
       "    </tr>\n",
       "  </thead>\n",
       "  <tbody>\n",
       "    <tr>\n",
       "      <th>0</th>\n",
       "      <td>CA-2019-125206</td>\n",
       "      <td>2019-01-03</td>\n",
       "      <td>2019-01-07</td>\n",
       "      <td>Express</td>\n",
       "      <td>NaT</td>\n",
       "      <td>NaT</td>\n",
       "    </tr>\n",
       "    <tr>\n",
       "      <th>1</th>\n",
       "      <td>CA-2019-160304</td>\n",
       "      <td>2019-01-02</td>\n",
       "      <td>2019-01-09</td>\n",
       "      <td>Standard Processing</td>\n",
       "      <td>NaT</td>\n",
       "      <td>NaT</td>\n",
       "    </tr>\n",
       "    <tr>\n",
       "      <th>2</th>\n",
       "      <td>US-2019-116365</td>\n",
       "      <td>2019-01-03</td>\n",
       "      <td>2019-01-09</td>\n",
       "      <td>Standard Processing</td>\n",
       "      <td>NaT</td>\n",
       "      <td>NaT</td>\n",
       "    </tr>\n",
       "    <tr>\n",
       "      <th>3</th>\n",
       "      <td>CA-2019-105207</td>\n",
       "      <td>2019-01-03</td>\n",
       "      <td>2019-01-09</td>\n",
       "      <td>Standard Processing</td>\n",
       "      <td>NaT</td>\n",
       "      <td>NaT</td>\n",
       "    </tr>\n",
       "    <tr>\n",
       "      <th>4</th>\n",
       "      <td>CA-2019-158211</td>\n",
       "      <td>2019-01-04</td>\n",
       "      <td>2019-01-09</td>\n",
       "      <td>Standard Processing</td>\n",
       "      <td>NaT</td>\n",
       "      <td>NaT</td>\n",
       "    </tr>\n",
       "  </tbody>\n",
       "</table>\n",
       "</div>"
      ],
      "text/plain": [
       "         order_id order_date on_truck_scan_date            ship_mode  \\\n",
       "0  CA-2019-125206 2019-01-03         2019-01-07              Express   \n",
       "1  CA-2019-160304 2019-01-02         2019-01-09  Standard Processing   \n",
       "2  US-2019-116365 2019-01-03         2019-01-09  Standard Processing   \n",
       "3  CA-2019-105207 2019-01-03         2019-01-09  Standard Processing   \n",
       "4  CA-2019-158211 2019-01-04         2019-01-09  Standard Processing   \n",
       "\n",
       "  ready_to_ship_date arrival_scan_date  \n",
       "0                NaT               NaT  \n",
       "1                NaT               NaT  \n",
       "2                NaT               NaT  \n",
       "3                NaT               NaT  \n",
       "4                NaT               NaT  "
      ]
     },
     "execution_count": 30,
     "metadata": {},
     "output_type": "execute_result"
    }
   ],
   "source": [
    "order_arrival = pd.merge(order_ready_truck, df2, how='left', on='order_id', sort=False)\n",
    "order_arrival.head()"
   ]
  },
  {
   "cell_type": "code",
   "execution_count": 31,
   "metadata": {},
   "outputs": [
    {
     "data": {
      "text/plain": [
       "order_id              3003\n",
       "order_date            3003\n",
       "on_truck_scan_date    3003\n",
       "ship_mode             3003\n",
       "ready_to_ship_date     204\n",
       "arrival_scan_date      333\n",
       "dtype: int64"
      ]
     },
     "execution_count": 31,
     "metadata": {},
     "output_type": "execute_result"
    }
   ],
   "source": [
    "order_arrival.count()"
   ]
  },
  {
   "cell_type": "code",
   "execution_count": 32,
   "metadata": {},
   "outputs": [
    {
     "data": {
      "text/html": [
       "<div>\n",
       "<style scoped>\n",
       "    .dataframe tbody tr th:only-of-type {\n",
       "        vertical-align: middle;\n",
       "    }\n",
       "\n",
       "    .dataframe tbody tr th {\n",
       "        vertical-align: top;\n",
       "    }\n",
       "\n",
       "    .dataframe thead th {\n",
       "        text-align: right;\n",
       "    }\n",
       "</style>\n",
       "<table border=\"1\" class=\"dataframe\">\n",
       "  <thead>\n",
       "    <tr style=\"text-align: right;\">\n",
       "      <th></th>\n",
       "      <th>order_id</th>\n",
       "      <th>order_date</th>\n",
       "      <th>on_truck_scan_date</th>\n",
       "      <th>ship_mode</th>\n",
       "      <th>ready_to_ship_date</th>\n",
       "      <th>arrival_scan_date</th>\n",
       "      <th>order_weekday</th>\n",
       "    </tr>\n",
       "  </thead>\n",
       "  <tbody>\n",
       "    <tr>\n",
       "      <th>0</th>\n",
       "      <td>CA-2019-125206</td>\n",
       "      <td>2019-01-03</td>\n",
       "      <td>2019-01-07</td>\n",
       "      <td>Express</td>\n",
       "      <td>NaT</td>\n",
       "      <td>NaT</td>\n",
       "      <td>3</td>\n",
       "    </tr>\n",
       "    <tr>\n",
       "      <th>1</th>\n",
       "      <td>CA-2019-160304</td>\n",
       "      <td>2019-01-02</td>\n",
       "      <td>2019-01-09</td>\n",
       "      <td>Standard Processing</td>\n",
       "      <td>NaT</td>\n",
       "      <td>NaT</td>\n",
       "      <td>2</td>\n",
       "    </tr>\n",
       "    <tr>\n",
       "      <th>2</th>\n",
       "      <td>US-2019-116365</td>\n",
       "      <td>2019-01-03</td>\n",
       "      <td>2019-01-09</td>\n",
       "      <td>Standard Processing</td>\n",
       "      <td>NaT</td>\n",
       "      <td>NaT</td>\n",
       "      <td>3</td>\n",
       "    </tr>\n",
       "    <tr>\n",
       "      <th>3</th>\n",
       "      <td>CA-2019-105207</td>\n",
       "      <td>2019-01-03</td>\n",
       "      <td>2019-01-09</td>\n",
       "      <td>Standard Processing</td>\n",
       "      <td>NaT</td>\n",
       "      <td>NaT</td>\n",
       "      <td>3</td>\n",
       "    </tr>\n",
       "    <tr>\n",
       "      <th>4</th>\n",
       "      <td>CA-2019-158211</td>\n",
       "      <td>2019-01-04</td>\n",
       "      <td>2019-01-09</td>\n",
       "      <td>Standard Processing</td>\n",
       "      <td>NaT</td>\n",
       "      <td>NaT</td>\n",
       "      <td>4</td>\n",
       "    </tr>\n",
       "    <tr>\n",
       "      <th>5</th>\n",
       "      <td>CA-2019-134474</td>\n",
       "      <td>2019-01-05</td>\n",
       "      <td>2019-01-11</td>\n",
       "      <td>Standard Processing</td>\n",
       "      <td>NaT</td>\n",
       "      <td>NaT</td>\n",
       "      <td>5</td>\n",
       "    </tr>\n",
       "    <tr>\n",
       "      <th>6</th>\n",
       "      <td>US-2019-164630</td>\n",
       "      <td>2019-01-04</td>\n",
       "      <td>2019-01-11</td>\n",
       "      <td>Standard Processing</td>\n",
       "      <td>NaT</td>\n",
       "      <td>NaT</td>\n",
       "      <td>4</td>\n",
       "    </tr>\n",
       "    <tr>\n",
       "      <th>7</th>\n",
       "      <td>CA-2019-158806</td>\n",
       "      <td>2019-01-07</td>\n",
       "      <td>2019-01-14</td>\n",
       "      <td>Standard Processing</td>\n",
       "      <td>NaT</td>\n",
       "      <td>NaT</td>\n",
       "      <td>0</td>\n",
       "    </tr>\n",
       "    <tr>\n",
       "      <th>8</th>\n",
       "      <td>CA-2019-140746</td>\n",
       "      <td>2019-01-15</td>\n",
       "      <td>2019-01-16</td>\n",
       "      <td>Express</td>\n",
       "      <td>NaT</td>\n",
       "      <td>NaT</td>\n",
       "      <td>1</td>\n",
       "    </tr>\n",
       "    <tr>\n",
       "      <th>9</th>\n",
       "      <td>CA-2019-126543</td>\n",
       "      <td>2019-01-09</td>\n",
       "      <td>2019-01-16</td>\n",
       "      <td>Standard Processing</td>\n",
       "      <td>NaT</td>\n",
       "      <td>NaT</td>\n",
       "      <td>2</td>\n",
       "    </tr>\n",
       "    <tr>\n",
       "      <th>10</th>\n",
       "      <td>CA-2019-163937</td>\n",
       "      <td>2019-01-10</td>\n",
       "      <td>2019-01-16</td>\n",
       "      <td>Standard Processing</td>\n",
       "      <td>NaT</td>\n",
       "      <td>NaT</td>\n",
       "      <td>3</td>\n",
       "    </tr>\n",
       "    <tr>\n",
       "      <th>11</th>\n",
       "      <td>CA-2019-126529</td>\n",
       "      <td>2019-01-11</td>\n",
       "      <td>2019-01-16</td>\n",
       "      <td>Standard Processing</td>\n",
       "      <td>NaT</td>\n",
       "      <td>NaT</td>\n",
       "      <td>4</td>\n",
       "    </tr>\n",
       "    <tr>\n",
       "      <th>12</th>\n",
       "      <td>CA-2019-101938</td>\n",
       "      <td>2019-01-07</td>\n",
       "      <td>2019-01-16</td>\n",
       "      <td>Standard Processing</td>\n",
       "      <td>NaT</td>\n",
       "      <td>NaT</td>\n",
       "      <td>0</td>\n",
       "    </tr>\n",
       "    <tr>\n",
       "      <th>13</th>\n",
       "      <td>US-2019-100461</td>\n",
       "      <td>2019-01-08</td>\n",
       "      <td>2019-01-16</td>\n",
       "      <td>Standard Processing</td>\n",
       "      <td>NaT</td>\n",
       "      <td>NaT</td>\n",
       "      <td>1</td>\n",
       "    </tr>\n",
       "    <tr>\n",
       "      <th>14</th>\n",
       "      <td>US-2019-137295</td>\n",
       "      <td>2019-01-08</td>\n",
       "      <td>2019-01-16</td>\n",
       "      <td>Standard Processing</td>\n",
       "      <td>NaT</td>\n",
       "      <td>NaT</td>\n",
       "      <td>1</td>\n",
       "    </tr>\n",
       "  </tbody>\n",
       "</table>\n",
       "</div>"
      ],
      "text/plain": [
       "          order_id order_date on_truck_scan_date            ship_mode  \\\n",
       "0   CA-2019-125206 2019-01-03         2019-01-07              Express   \n",
       "1   CA-2019-160304 2019-01-02         2019-01-09  Standard Processing   \n",
       "2   US-2019-116365 2019-01-03         2019-01-09  Standard Processing   \n",
       "3   CA-2019-105207 2019-01-03         2019-01-09  Standard Processing   \n",
       "4   CA-2019-158211 2019-01-04         2019-01-09  Standard Processing   \n",
       "5   CA-2019-134474 2019-01-05         2019-01-11  Standard Processing   \n",
       "6   US-2019-164630 2019-01-04         2019-01-11  Standard Processing   \n",
       "7   CA-2019-158806 2019-01-07         2019-01-14  Standard Processing   \n",
       "8   CA-2019-140746 2019-01-15         2019-01-16              Express   \n",
       "9   CA-2019-126543 2019-01-09         2019-01-16  Standard Processing   \n",
       "10  CA-2019-163937 2019-01-10         2019-01-16  Standard Processing   \n",
       "11  CA-2019-126529 2019-01-11         2019-01-16  Standard Processing   \n",
       "12  CA-2019-101938 2019-01-07         2019-01-16  Standard Processing   \n",
       "13  US-2019-100461 2019-01-08         2019-01-16  Standard Processing   \n",
       "14  US-2019-137295 2019-01-08         2019-01-16  Standard Processing   \n",
       "\n",
       "   ready_to_ship_date arrival_scan_date  order_weekday  \n",
       "0                 NaT               NaT              3  \n",
       "1                 NaT               NaT              2  \n",
       "2                 NaT               NaT              3  \n",
       "3                 NaT               NaT              3  \n",
       "4                 NaT               NaT              4  \n",
       "5                 NaT               NaT              5  \n",
       "6                 NaT               NaT              4  \n",
       "7                 NaT               NaT              0  \n",
       "8                 NaT               NaT              1  \n",
       "9                 NaT               NaT              2  \n",
       "10                NaT               NaT              3  \n",
       "11                NaT               NaT              4  \n",
       "12                NaT               NaT              0  \n",
       "13                NaT               NaT              1  \n",
       "14                NaT               NaT              1  "
      ]
     },
     "execution_count": 32,
     "metadata": {},
     "output_type": "execute_result"
    }
   ],
   "source": [
    "order_arrival['order_weekday'] = order_arrival['order_date'].dt.dayofweek # dayofweek means weekdays, 0=Monday, 6=Sunday\n",
    "order_arrival.head(15)"
   ]
  },
  {
   "cell_type": "markdown",
   "metadata": {},
   "source": [
    "Data augmentation + KPIs"
   ]
  },
  {
   "cell_type": "code",
   "execution_count": 36,
   "metadata": {},
   "outputs": [
    {
     "data": {
      "text/html": [
       "<div>\n",
       "<style scoped>\n",
       "    .dataframe tbody tr th:only-of-type {\n",
       "        vertical-align: middle;\n",
       "    }\n",
       "\n",
       "    .dataframe tbody tr th {\n",
       "        vertical-align: top;\n",
       "    }\n",
       "\n",
       "    .dataframe thead th {\n",
       "        text-align: right;\n",
       "    }\n",
       "</style>\n",
       "<table border=\"1\" class=\"dataframe\">\n",
       "  <thead>\n",
       "    <tr style=\"text-align: right;\">\n",
       "      <th></th>\n",
       "      <th>order_id</th>\n",
       "      <th>order_date</th>\n",
       "      <th>on_truck_scan_date</th>\n",
       "      <th>ship_mode</th>\n",
       "      <th>ready_to_ship_date</th>\n",
       "      <th>arrival_scan_date</th>\n",
       "      <th>order_weekday</th>\n",
       "    </tr>\n",
       "  </thead>\n",
       "  <tbody>\n",
       "    <tr>\n",
       "      <th>0</th>\n",
       "      <td>CA-2019-125206</td>\n",
       "      <td>2019-01-03</td>\n",
       "      <td>2019-01-07</td>\n",
       "      <td>Express</td>\n",
       "      <td>NaT</td>\n",
       "      <td>NaT</td>\n",
       "      <td>3</td>\n",
       "    </tr>\n",
       "    <tr>\n",
       "      <th>1</th>\n",
       "      <td>CA-2019-160304</td>\n",
       "      <td>2019-01-02</td>\n",
       "      <td>2019-01-09</td>\n",
       "      <td>Standard Processing</td>\n",
       "      <td>NaT</td>\n",
       "      <td>NaT</td>\n",
       "      <td>2</td>\n",
       "    </tr>\n",
       "    <tr>\n",
       "      <th>2</th>\n",
       "      <td>US-2019-116365</td>\n",
       "      <td>2019-01-03</td>\n",
       "      <td>2019-01-09</td>\n",
       "      <td>Standard Processing</td>\n",
       "      <td>NaT</td>\n",
       "      <td>NaT</td>\n",
       "      <td>3</td>\n",
       "    </tr>\n",
       "    <tr>\n",
       "      <th>3</th>\n",
       "      <td>CA-2019-105207</td>\n",
       "      <td>2019-01-03</td>\n",
       "      <td>2019-01-09</td>\n",
       "      <td>Standard Processing</td>\n",
       "      <td>NaT</td>\n",
       "      <td>NaT</td>\n",
       "      <td>3</td>\n",
       "    </tr>\n",
       "    <tr>\n",
       "      <th>4</th>\n",
       "      <td>CA-2019-158211</td>\n",
       "      <td>2019-01-04</td>\n",
       "      <td>2019-01-09</td>\n",
       "      <td>Standard Processing</td>\n",
       "      <td>NaT</td>\n",
       "      <td>NaT</td>\n",
       "      <td>4</td>\n",
       "    </tr>\n",
       "  </tbody>\n",
       "</table>\n",
       "</div>"
      ],
      "text/plain": [
       "         order_id order_date on_truck_scan_date            ship_mode  \\\n",
       "0  CA-2019-125206 2019-01-03         2019-01-07              Express   \n",
       "1  CA-2019-160304 2019-01-02         2019-01-09  Standard Processing   \n",
       "2  US-2019-116365 2019-01-03         2019-01-09  Standard Processing   \n",
       "3  CA-2019-105207 2019-01-03         2019-01-09  Standard Processing   \n",
       "4  CA-2019-158211 2019-01-04         2019-01-09  Standard Processing   \n",
       "\n",
       "  ready_to_ship_date arrival_scan_date  order_weekday  \n",
       "0                NaT               NaT              3  \n",
       "1                NaT               NaT              2  \n",
       "2                NaT               NaT              3  \n",
       "3                NaT               NaT              3  \n",
       "4                NaT               NaT              4  "
      ]
     },
     "execution_count": 36,
     "metadata": {},
     "output_type": "execute_result"
    }
   ],
   "source": [
    "order_arrival.head()"
   ]
  },
  {
   "cell_type": "code",
   "execution_count": 116,
   "metadata": {},
   "outputs": [
    {
     "data": {
      "text/html": [
       "<div>\n",
       "<style scoped>\n",
       "    .dataframe tbody tr th:only-of-type {\n",
       "        vertical-align: middle;\n",
       "    }\n",
       "\n",
       "    .dataframe tbody tr th {\n",
       "        vertical-align: top;\n",
       "    }\n",
       "\n",
       "    .dataframe thead th {\n",
       "        text-align: right;\n",
       "    }\n",
       "</style>\n",
       "<table border=\"1\" class=\"dataframe\">\n",
       "  <thead>\n",
       "    <tr style=\"text-align: right;\">\n",
       "      <th></th>\n",
       "      <th>order_id</th>\n",
       "      <th>order_date</th>\n",
       "      <th>on_truck_scan_date</th>\n",
       "      <th>ship_mode</th>\n",
       "      <th>ready_to_ship_date</th>\n",
       "      <th>arrival_scan_date</th>\n",
       "      <th>order_weekday</th>\n",
       "      <th>timetoship</th>\n",
       "      <th>transittime</th>\n",
       "      <th>order_to_ready</th>\n",
       "    </tr>\n",
       "  </thead>\n",
       "  <tbody>\n",
       "    <tr>\n",
       "      <th>0</th>\n",
       "      <td>CA-2019-125206</td>\n",
       "      <td>2019-01-03</td>\n",
       "      <td>2019-01-07</td>\n",
       "      <td>Express</td>\n",
       "      <td>NaT</td>\n",
       "      <td>NaT</td>\n",
       "      <td>3</td>\n",
       "      <td>4</td>\n",
       "      <td>NaN</td>\n",
       "      <td>NaN</td>\n",
       "    </tr>\n",
       "    <tr>\n",
       "      <th>1</th>\n",
       "      <td>CA-2019-160304</td>\n",
       "      <td>2019-01-02</td>\n",
       "      <td>2019-01-09</td>\n",
       "      <td>Standard Processing</td>\n",
       "      <td>NaT</td>\n",
       "      <td>NaT</td>\n",
       "      <td>2</td>\n",
       "      <td>7</td>\n",
       "      <td>NaN</td>\n",
       "      <td>NaN</td>\n",
       "    </tr>\n",
       "    <tr>\n",
       "      <th>2</th>\n",
       "      <td>US-2019-116365</td>\n",
       "      <td>2019-01-03</td>\n",
       "      <td>2019-01-09</td>\n",
       "      <td>Standard Processing</td>\n",
       "      <td>NaT</td>\n",
       "      <td>NaT</td>\n",
       "      <td>3</td>\n",
       "      <td>6</td>\n",
       "      <td>NaN</td>\n",
       "      <td>NaN</td>\n",
       "    </tr>\n",
       "    <tr>\n",
       "      <th>3</th>\n",
       "      <td>CA-2019-105207</td>\n",
       "      <td>2019-01-03</td>\n",
       "      <td>2019-01-09</td>\n",
       "      <td>Standard Processing</td>\n",
       "      <td>NaT</td>\n",
       "      <td>NaT</td>\n",
       "      <td>3</td>\n",
       "      <td>6</td>\n",
       "      <td>NaN</td>\n",
       "      <td>NaN</td>\n",
       "    </tr>\n",
       "    <tr>\n",
       "      <th>4</th>\n",
       "      <td>CA-2019-158211</td>\n",
       "      <td>2019-01-04</td>\n",
       "      <td>2019-01-09</td>\n",
       "      <td>Standard Processing</td>\n",
       "      <td>NaT</td>\n",
       "      <td>NaT</td>\n",
       "      <td>4</td>\n",
       "      <td>5</td>\n",
       "      <td>NaN</td>\n",
       "      <td>NaN</td>\n",
       "    </tr>\n",
       "  </tbody>\n",
       "</table>\n",
       "</div>"
      ],
      "text/plain": [
       "         order_id order_date on_truck_scan_date            ship_mode  \\\n",
       "0  CA-2019-125206 2019-01-03         2019-01-07              Express   \n",
       "1  CA-2019-160304 2019-01-02         2019-01-09  Standard Processing   \n",
       "2  US-2019-116365 2019-01-03         2019-01-09  Standard Processing   \n",
       "3  CA-2019-105207 2019-01-03         2019-01-09  Standard Processing   \n",
       "4  CA-2019-158211 2019-01-04         2019-01-09  Standard Processing   \n",
       "\n",
       "  ready_to_ship_date arrival_scan_date  order_weekday  timetoship  \\\n",
       "0                NaT               NaT              3           4   \n",
       "1                NaT               NaT              2           7   \n",
       "2                NaT               NaT              3           6   \n",
       "3                NaT               NaT              3           6   \n",
       "4                NaT               NaT              4           5   \n",
       "\n",
       "   transittime  order_to_ready  \n",
       "0          NaN             NaN  \n",
       "1          NaN             NaN  \n",
       "2          NaN             NaN  \n",
       "3          NaN             NaN  \n",
       "4          NaN             NaN  "
      ]
     },
     "execution_count": 116,
     "metadata": {},
     "output_type": "execute_result"
    }
   ],
   "source": [
    "order_arrival['ordertoready'] = order_arrival['ready_to_ship_date'] - order_arrival['order_date']\n",
    "order_arrival['order_to_ready'] = order_arrival['ordertoready'].apply(lambda x: x.days)\n",
    "order_arrival.drop(columns='ordertoready', inplace=True)\n",
    "order_arrival.head()"
   ]
  },
  {
   "cell_type": "code",
   "execution_count": 39,
   "metadata": {},
   "outputs": [
    {
     "data": {
      "text/html": [
       "<div>\n",
       "<style scoped>\n",
       "    .dataframe tbody tr th:only-of-type {\n",
       "        vertical-align: middle;\n",
       "    }\n",
       "\n",
       "    .dataframe tbody tr th {\n",
       "        vertical-align: top;\n",
       "    }\n",
       "\n",
       "    .dataframe thead th {\n",
       "        text-align: right;\n",
       "    }\n",
       "</style>\n",
       "<table border=\"1\" class=\"dataframe\">\n",
       "  <thead>\n",
       "    <tr style=\"text-align: right;\">\n",
       "      <th></th>\n",
       "      <th>order_id</th>\n",
       "      <th>order_date</th>\n",
       "      <th>on_truck_scan_date</th>\n",
       "      <th>ship_mode</th>\n",
       "      <th>ready_to_ship_date</th>\n",
       "      <th>arrival_scan_date</th>\n",
       "      <th>order_weekday</th>\n",
       "      <th>order_to_ready</th>\n",
       "      <th>time_to_ship</th>\n",
       "    </tr>\n",
       "  </thead>\n",
       "  <tbody>\n",
       "    <tr>\n",
       "      <th>0</th>\n",
       "      <td>CA-2019-125206</td>\n",
       "      <td>2019-01-03</td>\n",
       "      <td>2019-01-07</td>\n",
       "      <td>Express</td>\n",
       "      <td>NaT</td>\n",
       "      <td>NaT</td>\n",
       "      <td>3</td>\n",
       "      <td>NaT</td>\n",
       "      <td>4 days</td>\n",
       "    </tr>\n",
       "    <tr>\n",
       "      <th>1</th>\n",
       "      <td>CA-2019-160304</td>\n",
       "      <td>2019-01-02</td>\n",
       "      <td>2019-01-09</td>\n",
       "      <td>Standard Processing</td>\n",
       "      <td>NaT</td>\n",
       "      <td>NaT</td>\n",
       "      <td>2</td>\n",
       "      <td>NaT</td>\n",
       "      <td>7 days</td>\n",
       "    </tr>\n",
       "    <tr>\n",
       "      <th>2</th>\n",
       "      <td>US-2019-116365</td>\n",
       "      <td>2019-01-03</td>\n",
       "      <td>2019-01-09</td>\n",
       "      <td>Standard Processing</td>\n",
       "      <td>NaT</td>\n",
       "      <td>NaT</td>\n",
       "      <td>3</td>\n",
       "      <td>NaT</td>\n",
       "      <td>6 days</td>\n",
       "    </tr>\n",
       "    <tr>\n",
       "      <th>3</th>\n",
       "      <td>CA-2019-105207</td>\n",
       "      <td>2019-01-03</td>\n",
       "      <td>2019-01-09</td>\n",
       "      <td>Standard Processing</td>\n",
       "      <td>NaT</td>\n",
       "      <td>NaT</td>\n",
       "      <td>3</td>\n",
       "      <td>NaT</td>\n",
       "      <td>6 days</td>\n",
       "    </tr>\n",
       "    <tr>\n",
       "      <th>4</th>\n",
       "      <td>CA-2019-158211</td>\n",
       "      <td>2019-01-04</td>\n",
       "      <td>2019-01-09</td>\n",
       "      <td>Standard Processing</td>\n",
       "      <td>NaT</td>\n",
       "      <td>NaT</td>\n",
       "      <td>4</td>\n",
       "      <td>NaT</td>\n",
       "      <td>5 days</td>\n",
       "    </tr>\n",
       "  </tbody>\n",
       "</table>\n",
       "</div>"
      ],
      "text/plain": [
       "         order_id order_date on_truck_scan_date            ship_mode  \\\n",
       "0  CA-2019-125206 2019-01-03         2019-01-07              Express   \n",
       "1  CA-2019-160304 2019-01-02         2019-01-09  Standard Processing   \n",
       "2  US-2019-116365 2019-01-03         2019-01-09  Standard Processing   \n",
       "3  CA-2019-105207 2019-01-03         2019-01-09  Standard Processing   \n",
       "4  CA-2019-158211 2019-01-04         2019-01-09  Standard Processing   \n",
       "\n",
       "  ready_to_ship_date arrival_scan_date  order_weekday order_to_ready  \\\n",
       "0                NaT               NaT              3            NaT   \n",
       "1                NaT               NaT              2            NaT   \n",
       "2                NaT               NaT              3            NaT   \n",
       "3                NaT               NaT              3            NaT   \n",
       "4                NaT               NaT              4            NaT   \n",
       "\n",
       "  time_to_ship  \n",
       "0       4 days  \n",
       "1       7 days  \n",
       "2       6 days  \n",
       "3       6 days  \n",
       "4       5 days  "
      ]
     },
     "execution_count": 39,
     "metadata": {},
     "output_type": "execute_result"
    }
   ],
   "source": [
    "order_arrival['time_to_ship'] = order_arrival['on_truck_scan_date'] - order_arrival['order_date']\n",
    "order_arrival.head()"
   ]
  },
  {
   "cell_type": "code",
   "execution_count": 40,
   "metadata": {},
   "outputs": [
    {
     "name": "stdout",
     "output_type": "stream",
     "text": [
      "<class 'pandas.core.series.Series'>\n",
      "Int64Index: 3003 entries, 0 to 3002\n",
      "Series name: time_to_ship\n",
      "Non-Null Count  Dtype          \n",
      "--------------  -----          \n",
      "3003 non-null   timedelta64[ns]\n",
      "dtypes: timedelta64[ns](1)\n",
      "memory usage: 46.9 KB\n"
     ]
    }
   ],
   "source": [
    "order_arrival['time_to_ship'].info()"
   ]
  },
  {
   "cell_type": "code",
   "execution_count": 41,
   "metadata": {},
   "outputs": [
    {
     "data": {
      "text/plain": [
       "(3003, 9)"
      ]
     },
     "execution_count": 41,
     "metadata": {},
     "output_type": "execute_result"
    }
   ],
   "source": [
    "df_merged = order_arrival.copy()\n",
    "df_merged.shape"
   ]
  },
  {
   "cell_type": "code",
   "execution_count": 42,
   "metadata": {},
   "outputs": [
    {
     "data": {
      "text/html": [
       "<div>\n",
       "<style scoped>\n",
       "    .dataframe tbody tr th:only-of-type {\n",
       "        vertical-align: middle;\n",
       "    }\n",
       "\n",
       "    .dataframe tbody tr th {\n",
       "        vertical-align: top;\n",
       "    }\n",
       "\n",
       "    .dataframe thead th {\n",
       "        text-align: right;\n",
       "    }\n",
       "</style>\n",
       "<table border=\"1\" class=\"dataframe\">\n",
       "  <thead>\n",
       "    <tr style=\"text-align: right;\">\n",
       "      <th></th>\n",
       "      <th>order_id</th>\n",
       "      <th>order_date</th>\n",
       "      <th>on_truck_scan_date</th>\n",
       "      <th>ship_mode</th>\n",
       "      <th>ready_to_ship_date</th>\n",
       "      <th>arrival_scan_date</th>\n",
       "      <th>order_weekday</th>\n",
       "      <th>time_to_ship</th>\n",
       "      <th>ordertoready</th>\n",
       "    </tr>\n",
       "  </thead>\n",
       "  <tbody>\n",
       "    <tr>\n",
       "      <th>0</th>\n",
       "      <td>CA-2019-125206</td>\n",
       "      <td>2019-01-03</td>\n",
       "      <td>2019-01-07</td>\n",
       "      <td>Express</td>\n",
       "      <td>NaT</td>\n",
       "      <td>NaT</td>\n",
       "      <td>3</td>\n",
       "      <td>4 days</td>\n",
       "      <td>NaN</td>\n",
       "    </tr>\n",
       "    <tr>\n",
       "      <th>1</th>\n",
       "      <td>CA-2019-160304</td>\n",
       "      <td>2019-01-02</td>\n",
       "      <td>2019-01-09</td>\n",
       "      <td>Standard Processing</td>\n",
       "      <td>NaT</td>\n",
       "      <td>NaT</td>\n",
       "      <td>2</td>\n",
       "      <td>7 days</td>\n",
       "      <td>NaN</td>\n",
       "    </tr>\n",
       "    <tr>\n",
       "      <th>2</th>\n",
       "      <td>US-2019-116365</td>\n",
       "      <td>2019-01-03</td>\n",
       "      <td>2019-01-09</td>\n",
       "      <td>Standard Processing</td>\n",
       "      <td>NaT</td>\n",
       "      <td>NaT</td>\n",
       "      <td>3</td>\n",
       "      <td>6 days</td>\n",
       "      <td>NaN</td>\n",
       "    </tr>\n",
       "    <tr>\n",
       "      <th>3</th>\n",
       "      <td>CA-2019-105207</td>\n",
       "      <td>2019-01-03</td>\n",
       "      <td>2019-01-09</td>\n",
       "      <td>Standard Processing</td>\n",
       "      <td>NaT</td>\n",
       "      <td>NaT</td>\n",
       "      <td>3</td>\n",
       "      <td>6 days</td>\n",
       "      <td>NaN</td>\n",
       "    </tr>\n",
       "    <tr>\n",
       "      <th>4</th>\n",
       "      <td>CA-2019-158211</td>\n",
       "      <td>2019-01-04</td>\n",
       "      <td>2019-01-09</td>\n",
       "      <td>Standard Processing</td>\n",
       "      <td>NaT</td>\n",
       "      <td>NaT</td>\n",
       "      <td>4</td>\n",
       "      <td>5 days</td>\n",
       "      <td>NaN</td>\n",
       "    </tr>\n",
       "  </tbody>\n",
       "</table>\n",
       "</div>"
      ],
      "text/plain": [
       "         order_id order_date on_truck_scan_date            ship_mode  \\\n",
       "0  CA-2019-125206 2019-01-03         2019-01-07              Express   \n",
       "1  CA-2019-160304 2019-01-02         2019-01-09  Standard Processing   \n",
       "2  US-2019-116365 2019-01-03         2019-01-09  Standard Processing   \n",
       "3  CA-2019-105207 2019-01-03         2019-01-09  Standard Processing   \n",
       "4  CA-2019-158211 2019-01-04         2019-01-09  Standard Processing   \n",
       "\n",
       "  ready_to_ship_date arrival_scan_date  order_weekday time_to_ship  \\\n",
       "0                NaT               NaT              3       4 days   \n",
       "1                NaT               NaT              2       7 days   \n",
       "2                NaT               NaT              3       6 days   \n",
       "3                NaT               NaT              3       6 days   \n",
       "4                NaT               NaT              4       5 days   \n",
       "\n",
       "   ordertoready  \n",
       "0           NaN  \n",
       "1           NaN  \n",
       "2           NaN  \n",
       "3           NaN  \n",
       "4           NaN  "
      ]
     },
     "execution_count": 42,
     "metadata": {},
     "output_type": "execute_result"
    }
   ],
   "source": [
    "order_arrival['ordertoready'] = order_arrival['order_to_ready'].apply(lambda x: x.days)\n",
    "order_arrival.drop(columns='order_to_ready', inplace=True)\n",
    "order_arrival.head()"
   ]
  },
  {
   "cell_type": "code",
   "execution_count": 43,
   "metadata": {},
   "outputs": [],
   "source": [
    "#orderarrival_sub1 = order_arrival.sort_values('ordertoready')[order_arrival['ordertoready'] >= 1]\n",
    "#orderarrival_sub1.head()"
   ]
  },
  {
   "cell_type": "code",
   "execution_count": 44,
   "metadata": {},
   "outputs": [],
   "source": [
    "#print(order_arrival.time_to_ship.describe())\n",
    "#print(order_arrival.time_to_ship.info())"
   ]
  },
  {
   "cell_type": "code",
   "execution_count": 45,
   "metadata": {},
   "outputs": [
    {
     "data": {
      "text/html": [
       "<div>\n",
       "<style scoped>\n",
       "    .dataframe tbody tr th:only-of-type {\n",
       "        vertical-align: middle;\n",
       "    }\n",
       "\n",
       "    .dataframe tbody tr th {\n",
       "        vertical-align: top;\n",
       "    }\n",
       "\n",
       "    .dataframe thead th {\n",
       "        text-align: right;\n",
       "    }\n",
       "</style>\n",
       "<table border=\"1\" class=\"dataframe\">\n",
       "  <thead>\n",
       "    <tr style=\"text-align: right;\">\n",
       "      <th></th>\n",
       "      <th>order_id</th>\n",
       "      <th>order_date</th>\n",
       "      <th>on_truck_scan_date</th>\n",
       "      <th>ship_mode</th>\n",
       "      <th>ready_to_ship_date</th>\n",
       "      <th>arrival_scan_date</th>\n",
       "      <th>order_weekday</th>\n",
       "      <th>ordertoready</th>\n",
       "      <th>timetoship</th>\n",
       "    </tr>\n",
       "  </thead>\n",
       "  <tbody>\n",
       "    <tr>\n",
       "      <th>0</th>\n",
       "      <td>CA-2019-125206</td>\n",
       "      <td>2019-01-03</td>\n",
       "      <td>2019-01-07</td>\n",
       "      <td>Express</td>\n",
       "      <td>NaT</td>\n",
       "      <td>NaT</td>\n",
       "      <td>3</td>\n",
       "      <td>NaN</td>\n",
       "      <td>4</td>\n",
       "    </tr>\n",
       "    <tr>\n",
       "      <th>1</th>\n",
       "      <td>CA-2019-160304</td>\n",
       "      <td>2019-01-02</td>\n",
       "      <td>2019-01-09</td>\n",
       "      <td>Standard Processing</td>\n",
       "      <td>NaT</td>\n",
       "      <td>NaT</td>\n",
       "      <td>2</td>\n",
       "      <td>NaN</td>\n",
       "      <td>7</td>\n",
       "    </tr>\n",
       "    <tr>\n",
       "      <th>2</th>\n",
       "      <td>US-2019-116365</td>\n",
       "      <td>2019-01-03</td>\n",
       "      <td>2019-01-09</td>\n",
       "      <td>Standard Processing</td>\n",
       "      <td>NaT</td>\n",
       "      <td>NaT</td>\n",
       "      <td>3</td>\n",
       "      <td>NaN</td>\n",
       "      <td>6</td>\n",
       "    </tr>\n",
       "    <tr>\n",
       "      <th>3</th>\n",
       "      <td>CA-2019-105207</td>\n",
       "      <td>2019-01-03</td>\n",
       "      <td>2019-01-09</td>\n",
       "      <td>Standard Processing</td>\n",
       "      <td>NaT</td>\n",
       "      <td>NaT</td>\n",
       "      <td>3</td>\n",
       "      <td>NaN</td>\n",
       "      <td>6</td>\n",
       "    </tr>\n",
       "    <tr>\n",
       "      <th>4</th>\n",
       "      <td>CA-2019-158211</td>\n",
       "      <td>2019-01-04</td>\n",
       "      <td>2019-01-09</td>\n",
       "      <td>Standard Processing</td>\n",
       "      <td>NaT</td>\n",
       "      <td>NaT</td>\n",
       "      <td>4</td>\n",
       "      <td>NaN</td>\n",
       "      <td>5</td>\n",
       "    </tr>\n",
       "  </tbody>\n",
       "</table>\n",
       "</div>"
      ],
      "text/plain": [
       "         order_id order_date on_truck_scan_date            ship_mode  \\\n",
       "0  CA-2019-125206 2019-01-03         2019-01-07              Express   \n",
       "1  CA-2019-160304 2019-01-02         2019-01-09  Standard Processing   \n",
       "2  US-2019-116365 2019-01-03         2019-01-09  Standard Processing   \n",
       "3  CA-2019-105207 2019-01-03         2019-01-09  Standard Processing   \n",
       "4  CA-2019-158211 2019-01-04         2019-01-09  Standard Processing   \n",
       "\n",
       "  ready_to_ship_date arrival_scan_date  order_weekday  ordertoready  \\\n",
       "0                NaT               NaT              3           NaN   \n",
       "1                NaT               NaT              2           NaN   \n",
       "2                NaT               NaT              3           NaN   \n",
       "3                NaT               NaT              3           NaN   \n",
       "4                NaT               NaT              4           NaN   \n",
       "\n",
       "   timetoship  \n",
       "0           4  \n",
       "1           7  \n",
       "2           6  \n",
       "3           6  \n",
       "4           5  "
      ]
     },
     "execution_count": 45,
     "metadata": {},
     "output_type": "execute_result"
    }
   ],
   "source": [
    "order_arrival['timetoship'] = order_arrival['time_to_ship'].apply(lambda x: x.days)\n",
    "order_arrival.drop(columns='time_to_ship', inplace=True)\n",
    "order_arrival.head()"
   ]
  },
  {
   "cell_type": "code",
   "execution_count": 46,
   "metadata": {},
   "outputs": [],
   "source": [
    "#orderarrival_sub2 = order_arrival.sort_values('timetoship')[order_arrival['timetoship'] >= 1]\n",
    "#orderarrival_sub2.head()"
   ]
  },
  {
   "cell_type": "code",
   "execution_count": 47,
   "metadata": {},
   "outputs": [
    {
     "data": {
      "text/html": [
       "<div>\n",
       "<style scoped>\n",
       "    .dataframe tbody tr th:only-of-type {\n",
       "        vertical-align: middle;\n",
       "    }\n",
       "\n",
       "    .dataframe tbody tr th {\n",
       "        vertical-align: top;\n",
       "    }\n",
       "\n",
       "    .dataframe thead th {\n",
       "        text-align: right;\n",
       "    }\n",
       "</style>\n",
       "<table border=\"1\" class=\"dataframe\">\n",
       "  <thead>\n",
       "    <tr style=\"text-align: right;\">\n",
       "      <th></th>\n",
       "      <th>order_id</th>\n",
       "      <th>order_date</th>\n",
       "      <th>on_truck_scan_date</th>\n",
       "      <th>ship_mode</th>\n",
       "      <th>ready_to_ship_date</th>\n",
       "      <th>arrival_scan_date</th>\n",
       "      <th>order_weekday</th>\n",
       "      <th>ordertoready</th>\n",
       "      <th>timetoship</th>\n",
       "      <th>transit_time</th>\n",
       "    </tr>\n",
       "  </thead>\n",
       "  <tbody>\n",
       "    <tr>\n",
       "      <th>0</th>\n",
       "      <td>CA-2019-125206</td>\n",
       "      <td>2019-01-03</td>\n",
       "      <td>2019-01-07</td>\n",
       "      <td>Express</td>\n",
       "      <td>NaT</td>\n",
       "      <td>NaT</td>\n",
       "      <td>3</td>\n",
       "      <td>NaN</td>\n",
       "      <td>4</td>\n",
       "      <td>NaT</td>\n",
       "    </tr>\n",
       "    <tr>\n",
       "      <th>1</th>\n",
       "      <td>CA-2019-160304</td>\n",
       "      <td>2019-01-02</td>\n",
       "      <td>2019-01-09</td>\n",
       "      <td>Standard Processing</td>\n",
       "      <td>NaT</td>\n",
       "      <td>NaT</td>\n",
       "      <td>2</td>\n",
       "      <td>NaN</td>\n",
       "      <td>7</td>\n",
       "      <td>NaT</td>\n",
       "    </tr>\n",
       "    <tr>\n",
       "      <th>2</th>\n",
       "      <td>US-2019-116365</td>\n",
       "      <td>2019-01-03</td>\n",
       "      <td>2019-01-09</td>\n",
       "      <td>Standard Processing</td>\n",
       "      <td>NaT</td>\n",
       "      <td>NaT</td>\n",
       "      <td>3</td>\n",
       "      <td>NaN</td>\n",
       "      <td>6</td>\n",
       "      <td>NaT</td>\n",
       "    </tr>\n",
       "    <tr>\n",
       "      <th>3</th>\n",
       "      <td>CA-2019-105207</td>\n",
       "      <td>2019-01-03</td>\n",
       "      <td>2019-01-09</td>\n",
       "      <td>Standard Processing</td>\n",
       "      <td>NaT</td>\n",
       "      <td>NaT</td>\n",
       "      <td>3</td>\n",
       "      <td>NaN</td>\n",
       "      <td>6</td>\n",
       "      <td>NaT</td>\n",
       "    </tr>\n",
       "    <tr>\n",
       "      <th>4</th>\n",
       "      <td>CA-2019-158211</td>\n",
       "      <td>2019-01-04</td>\n",
       "      <td>2019-01-09</td>\n",
       "      <td>Standard Processing</td>\n",
       "      <td>NaT</td>\n",
       "      <td>NaT</td>\n",
       "      <td>4</td>\n",
       "      <td>NaN</td>\n",
       "      <td>5</td>\n",
       "      <td>NaT</td>\n",
       "    </tr>\n",
       "  </tbody>\n",
       "</table>\n",
       "</div>"
      ],
      "text/plain": [
       "         order_id order_date on_truck_scan_date            ship_mode  \\\n",
       "0  CA-2019-125206 2019-01-03         2019-01-07              Express   \n",
       "1  CA-2019-160304 2019-01-02         2019-01-09  Standard Processing   \n",
       "2  US-2019-116365 2019-01-03         2019-01-09  Standard Processing   \n",
       "3  CA-2019-105207 2019-01-03         2019-01-09  Standard Processing   \n",
       "4  CA-2019-158211 2019-01-04         2019-01-09  Standard Processing   \n",
       "\n",
       "  ready_to_ship_date arrival_scan_date  order_weekday  ordertoready  \\\n",
       "0                NaT               NaT              3           NaN   \n",
       "1                NaT               NaT              2           NaN   \n",
       "2                NaT               NaT              3           NaN   \n",
       "3                NaT               NaT              3           NaN   \n",
       "4                NaT               NaT              4           NaN   \n",
       "\n",
       "   timetoship transit_time  \n",
       "0           4          NaT  \n",
       "1           7          NaT  \n",
       "2           6          NaT  \n",
       "3           6          NaT  \n",
       "4           5          NaT  "
      ]
     },
     "execution_count": 47,
     "metadata": {},
     "output_type": "execute_result"
    }
   ],
   "source": [
    "order_arrival['transit_time'] = order_arrival['arrival_scan_date'] - order_arrival['on_truck_scan_date']\n",
    "order_arrival.head()"
   ]
  },
  {
   "cell_type": "code",
   "execution_count": 48,
   "metadata": {},
   "outputs": [],
   "source": [
    "#print(order_arrival.transit_time.describe())\n",
    "#print(order_arrival.transit_time.info())"
   ]
  },
  {
   "cell_type": "code",
   "execution_count": 49,
   "metadata": {},
   "outputs": [
    {
     "data": {
      "text/html": [
       "<div>\n",
       "<style scoped>\n",
       "    .dataframe tbody tr th:only-of-type {\n",
       "        vertical-align: middle;\n",
       "    }\n",
       "\n",
       "    .dataframe tbody tr th {\n",
       "        vertical-align: top;\n",
       "    }\n",
       "\n",
       "    .dataframe thead th {\n",
       "        text-align: right;\n",
       "    }\n",
       "</style>\n",
       "<table border=\"1\" class=\"dataframe\">\n",
       "  <thead>\n",
       "    <tr style=\"text-align: right;\">\n",
       "      <th></th>\n",
       "      <th>order_id</th>\n",
       "      <th>order_date</th>\n",
       "      <th>on_truck_scan_date</th>\n",
       "      <th>ship_mode</th>\n",
       "      <th>ready_to_ship_date</th>\n",
       "      <th>arrival_scan_date</th>\n",
       "      <th>order_weekday</th>\n",
       "      <th>ordertoready</th>\n",
       "      <th>timetoship</th>\n",
       "      <th>transittime</th>\n",
       "    </tr>\n",
       "  </thead>\n",
       "  <tbody>\n",
       "    <tr>\n",
       "      <th>0</th>\n",
       "      <td>CA-2019-125206</td>\n",
       "      <td>2019-01-03</td>\n",
       "      <td>2019-01-07</td>\n",
       "      <td>Express</td>\n",
       "      <td>NaT</td>\n",
       "      <td>NaT</td>\n",
       "      <td>3</td>\n",
       "      <td>NaN</td>\n",
       "      <td>4</td>\n",
       "      <td>NaN</td>\n",
       "    </tr>\n",
       "    <tr>\n",
       "      <th>1</th>\n",
       "      <td>CA-2019-160304</td>\n",
       "      <td>2019-01-02</td>\n",
       "      <td>2019-01-09</td>\n",
       "      <td>Standard Processing</td>\n",
       "      <td>NaT</td>\n",
       "      <td>NaT</td>\n",
       "      <td>2</td>\n",
       "      <td>NaN</td>\n",
       "      <td>7</td>\n",
       "      <td>NaN</td>\n",
       "    </tr>\n",
       "    <tr>\n",
       "      <th>2</th>\n",
       "      <td>US-2019-116365</td>\n",
       "      <td>2019-01-03</td>\n",
       "      <td>2019-01-09</td>\n",
       "      <td>Standard Processing</td>\n",
       "      <td>NaT</td>\n",
       "      <td>NaT</td>\n",
       "      <td>3</td>\n",
       "      <td>NaN</td>\n",
       "      <td>6</td>\n",
       "      <td>NaN</td>\n",
       "    </tr>\n",
       "    <tr>\n",
       "      <th>3</th>\n",
       "      <td>CA-2019-105207</td>\n",
       "      <td>2019-01-03</td>\n",
       "      <td>2019-01-09</td>\n",
       "      <td>Standard Processing</td>\n",
       "      <td>NaT</td>\n",
       "      <td>NaT</td>\n",
       "      <td>3</td>\n",
       "      <td>NaN</td>\n",
       "      <td>6</td>\n",
       "      <td>NaN</td>\n",
       "    </tr>\n",
       "    <tr>\n",
       "      <th>4</th>\n",
       "      <td>CA-2019-158211</td>\n",
       "      <td>2019-01-04</td>\n",
       "      <td>2019-01-09</td>\n",
       "      <td>Standard Processing</td>\n",
       "      <td>NaT</td>\n",
       "      <td>NaT</td>\n",
       "      <td>4</td>\n",
       "      <td>NaN</td>\n",
       "      <td>5</td>\n",
       "      <td>NaN</td>\n",
       "    </tr>\n",
       "  </tbody>\n",
       "</table>\n",
       "</div>"
      ],
      "text/plain": [
       "         order_id order_date on_truck_scan_date            ship_mode  \\\n",
       "0  CA-2019-125206 2019-01-03         2019-01-07              Express   \n",
       "1  CA-2019-160304 2019-01-02         2019-01-09  Standard Processing   \n",
       "2  US-2019-116365 2019-01-03         2019-01-09  Standard Processing   \n",
       "3  CA-2019-105207 2019-01-03         2019-01-09  Standard Processing   \n",
       "4  CA-2019-158211 2019-01-04         2019-01-09  Standard Processing   \n",
       "\n",
       "  ready_to_ship_date arrival_scan_date  order_weekday  ordertoready  \\\n",
       "0                NaT               NaT              3           NaN   \n",
       "1                NaT               NaT              2           NaN   \n",
       "2                NaT               NaT              3           NaN   \n",
       "3                NaT               NaT              3           NaN   \n",
       "4                NaT               NaT              4           NaN   \n",
       "\n",
       "   timetoship  transittime  \n",
       "0           4          NaN  \n",
       "1           7          NaN  \n",
       "2           6          NaN  \n",
       "3           6          NaN  \n",
       "4           5          NaN  "
      ]
     },
     "execution_count": 49,
     "metadata": {},
     "output_type": "execute_result"
    }
   ],
   "source": [
    "order_arrival['transittime'] = order_arrival['transit_time'].apply(lambda x: x.days)\n",
    "order_arrival.drop(columns='transit_time', inplace=True)\n",
    "order_arrival.head()"
   ]
  },
  {
   "cell_type": "code",
   "execution_count": 50,
   "metadata": {},
   "outputs": [],
   "source": [
    "#orderarrival_sub3 = order_arrival.sort_values('transittime')[order_arrival['transittime'] >= 1]\n",
    "#orderarrival_sub3.head()"
   ]
  },
  {
   "cell_type": "markdown",
   "metadata": {},
   "source": [
    "Ploting"
   ]
  },
  {
   "cell_type": "code",
   "execution_count": 51,
   "metadata": {},
   "outputs": [],
   "source": [
    "# plt.figure(figsize =(5, 5))\n",
    "# plt.boxplot(x = order_arrival['ordertoready'])"
   ]
  },
  {
   "cell_type": "code",
   "execution_count": 52,
   "metadata": {},
   "outputs": [],
   "source": [
    "# plt.figure(figsize =(5, 5))\n",
    "# plt.boxplot(x = order_arrival['timetoship'])"
   ]
  },
  {
   "cell_type": "code",
   "execution_count": 53,
   "metadata": {},
   "outputs": [],
   "source": [
    "# plt.figure(figsize =(5, 5))\n",
    "# plt.boxplot(x = order_arrival['transittime'])"
   ]
  },
  {
   "cell_type": "code",
   "execution_count": 54,
   "metadata": {},
   "outputs": [],
   "source": [
    "# Standard_Realization_Time = {0: 4, 1: 3, 2: 5, 3: 6, 4: 5, 5: 4, 6: 3}\n",
    "# Express_Realization_time = {0: 2, 1: 3, 2: 2, 3: 4, 4: 5, 5: 4, 6: 3}"
   ]
  },
  {
   "cell_type": "code",
   "execution_count": 55,
   "metadata": {},
   "outputs": [],
   "source": [
    "df_merged = order_arrival.copy()"
   ]
  },
  {
   "cell_type": "code",
   "execution_count": 56,
   "metadata": {},
   "outputs": [
    {
     "data": {
      "text/plain": [
       "(2340, 10)"
      ]
     },
     "execution_count": 56,
     "metadata": {},
     "output_type": "execute_result"
    }
   ],
   "source": [
    "df_merged_standard = df_merged[df_merged[\"ship_mode\"] == \"Standard Processing\"]\n",
    "df_merged_standard.shape"
   ]
  },
  {
   "cell_type": "code",
   "execution_count": 57,
   "metadata": {},
   "outputs": [
    {
     "data": {
      "text/plain": [
       "(663, 10)"
      ]
     },
     "execution_count": 57,
     "metadata": {},
     "output_type": "execute_result"
    }
   ],
   "source": [
    "df_merged_express = df_merged[df_merged[\"ship_mode\"] == \"Express\"]\n",
    "df_merged_express.shape"
   ]
  },
  {
   "cell_type": "markdown",
   "metadata": {},
   "source": [
    "# Processing Time Analysis #\n",
    "\n",
    "Analysis of time taken by the warehouse from the order received till it is ready to ship."
   ]
  },
  {
   "cell_type": "code",
   "execution_count": 58,
   "metadata": {},
   "outputs": [],
   "source": [
    "Standard_processing_Time = {0: 2, 1: 2, 2: 2, 3: 4, 4: 4, 5: 4, 6: 2}\n",
    "Express_processing_time = {0: 2, 1: 2, 2: 2, 3: 4, 4: 4, 5: 3, 6: 2}"
   ]
  },
  {
   "cell_type": "code",
   "execution_count": 59,
   "metadata": {},
   "outputs": [
    {
     "name": "stderr",
     "output_type": "stream",
     "text": [
      "/var/folders/zb/5pjlmnyj1wdg0qvcvbw6ysv80000gn/T/ipykernel_3028/236644081.py:1: SettingWithCopyWarning: \n",
      "A value is trying to be set on a copy of a slice from a DataFrame.\n",
      "Try using .loc[row_indexer,col_indexer] = value instead\n",
      "\n",
      "See the caveats in the documentation: https://pandas.pydata.org/pandas-docs/stable/user_guide/indexing.html#returning-a-view-versus-a-copy\n",
      "  df_merged_standard[\"expected_processing_time\"] =  df_merged_standard['order_weekday'].map(Standard_processing_Time)\n",
      "/var/folders/zb/5pjlmnyj1wdg0qvcvbw6ysv80000gn/T/ipykernel_3028/236644081.py:2: SettingWithCopyWarning: \n",
      "A value is trying to be set on a copy of a slice from a DataFrame.\n",
      "Try using .loc[row_indexer,col_indexer] = value instead\n",
      "\n",
      "See the caveats in the documentation: https://pandas.pydata.org/pandas-docs/stable/user_guide/indexing.html#returning-a-view-versus-a-copy\n",
      "  df_merged_express[\"expected_processing_time\"] =  df_merged_express['order_weekday'].map(Express_processing_time)\n"
     ]
    }
   ],
   "source": [
    "df_merged_standard[\"expected_processing_time\"] =  df_merged_standard['order_weekday'].map(Standard_processing_Time)\n",
    "df_merged_express[\"expected_processing_time\"] =  df_merged_express['order_weekday'].map(Express_processing_time)"
   ]
  },
  {
   "cell_type": "code",
   "execution_count": 60,
   "metadata": {},
   "outputs": [
    {
     "name": "stdout",
     "output_type": "stream",
     "text": [
      "<class 'pandas.core.frame.DataFrame'>\n",
      "Int64Index: 151 entries, 669 to 2800\n",
      "Data columns (total 11 columns):\n",
      " #   Column                    Non-Null Count  Dtype         \n",
      "---  ------                    --------------  -----         \n",
      " 0   order_id                  151 non-null    object        \n",
      " 1   order_date                151 non-null    datetime64[ns]\n",
      " 2   on_truck_scan_date        151 non-null    datetime64[ns]\n",
      " 3   ship_mode                 151 non-null    object        \n",
      " 4   ready_to_ship_date        151 non-null    datetime64[ns]\n",
      " 5   arrival_scan_date         18 non-null     datetime64[ns]\n",
      " 6   order_weekday             151 non-null    int64         \n",
      " 7   ordertoready              151 non-null    float64       \n",
      " 8   timetoship                151 non-null    int64         \n",
      " 9   transittime               18 non-null     float64       \n",
      " 10  expected_processing_time  151 non-null    int64         \n",
      "dtypes: datetime64[ns](4), float64(2), int64(3), object(2)\n",
      "memory usage: 14.2+ KB\n"
     ]
    }
   ],
   "source": [
    "df_processing_standard = df_merged_standard[df_merged_standard['ordertoready'] >= 0]\n",
    "df_processing_standard.info()"
   ]
  },
  {
   "cell_type": "code",
   "execution_count": 61,
   "metadata": {},
   "outputs": [
    {
     "name": "stdout",
     "output_type": "stream",
     "text": [
      "<class 'pandas.core.frame.DataFrame'>\n",
      "Int64Index: 53 entries, 641 to 2762\n",
      "Data columns (total 11 columns):\n",
      " #   Column                    Non-Null Count  Dtype         \n",
      "---  ------                    --------------  -----         \n",
      " 0   order_id                  53 non-null     object        \n",
      " 1   order_date                53 non-null     datetime64[ns]\n",
      " 2   on_truck_scan_date        53 non-null     datetime64[ns]\n",
      " 3   ship_mode                 53 non-null     object        \n",
      " 4   ready_to_ship_date        53 non-null     datetime64[ns]\n",
      " 5   arrival_scan_date         4 non-null      datetime64[ns]\n",
      " 6   order_weekday             53 non-null     int64         \n",
      " 7   ordertoready              53 non-null     float64       \n",
      " 8   timetoship                53 non-null     int64         \n",
      " 9   transittime               4 non-null      float64       \n",
      " 10  expected_processing_time  53 non-null     int64         \n",
      "dtypes: datetime64[ns](4), float64(2), int64(3), object(2)\n",
      "memory usage: 5.0+ KB\n"
     ]
    }
   ],
   "source": [
    "df_processing_express = df_merged_express[df_merged_express['ordertoready'] >= 0]\n",
    "df_processing_express.info()"
   ]
  },
  {
   "cell_type": "code",
   "execution_count": 62,
   "metadata": {},
   "outputs": [
    {
     "name": "stderr",
     "output_type": "stream",
     "text": [
      "/var/folders/zb/5pjlmnyj1wdg0qvcvbw6ysv80000gn/T/ipykernel_3028/4035748512.py:1: SettingWithCopyWarning: \n",
      "A value is trying to be set on a copy of a slice from a DataFrame.\n",
      "Try using .loc[row_indexer,col_indexer] = value instead\n",
      "\n",
      "See the caveats in the documentation: https://pandas.pydata.org/pandas-docs/stable/user_guide/indexing.html#returning-a-view-versus-a-copy\n",
      "  df_processing_standard['processing_time'] = df_processing_standard['ordertoready'] - df_processing_standard['expected_processing_time']\n",
      "/var/folders/zb/5pjlmnyj1wdg0qvcvbw6ysv80000gn/T/ipykernel_3028/4035748512.py:2: SettingWithCopyWarning: \n",
      "A value is trying to be set on a copy of a slice from a DataFrame.\n",
      "Try using .loc[row_indexer,col_indexer] = value instead\n",
      "\n",
      "See the caveats in the documentation: https://pandas.pydata.org/pandas-docs/stable/user_guide/indexing.html#returning-a-view-versus-a-copy\n",
      "  df_processing_standard['processed_on_time_y/n'] = df_processing_standard['processing_time'].apply(lambda x: 'yes' if x <= 0 else 'no')\n"
     ]
    }
   ],
   "source": [
    "df_processing_standard['processing_time'] = df_processing_standard['ordertoready'] - df_processing_standard['expected_processing_time']\n",
    "df_processing_standard['processed_on_time_y/n'] = df_processing_standard['processing_time'].apply(lambda x: 'yes' if x <= 0 else 'no')"
   ]
  },
  {
   "cell_type": "code",
   "execution_count": 63,
   "metadata": {},
   "outputs": [
    {
     "name": "stderr",
     "output_type": "stream",
     "text": [
      "/var/folders/zb/5pjlmnyj1wdg0qvcvbw6ysv80000gn/T/ipykernel_3028/225367680.py:1: SettingWithCopyWarning: \n",
      "A value is trying to be set on a copy of a slice from a DataFrame.\n",
      "Try using .loc[row_indexer,col_indexer] = value instead\n",
      "\n",
      "See the caveats in the documentation: https://pandas.pydata.org/pandas-docs/stable/user_guide/indexing.html#returning-a-view-versus-a-copy\n",
      "  df_processing_express['processing_time'] = df_processing_express['ordertoready'] - df_processing_express['expected_processing_time']\n",
      "/var/folders/zb/5pjlmnyj1wdg0qvcvbw6ysv80000gn/T/ipykernel_3028/225367680.py:2: SettingWithCopyWarning: \n",
      "A value is trying to be set on a copy of a slice from a DataFrame.\n",
      "Try using .loc[row_indexer,col_indexer] = value instead\n",
      "\n",
      "See the caveats in the documentation: https://pandas.pydata.org/pandas-docs/stable/user_guide/indexing.html#returning-a-view-versus-a-copy\n",
      "  df_processing_express['processed_on_time_y/n'] = df_processing_express['processing_time'].apply(lambda x: 'yes' if x <= 0 else 'no')\n"
     ]
    }
   ],
   "source": [
    "df_processing_express['processing_time'] = df_processing_express['ordertoready'] - df_processing_express['expected_processing_time']\n",
    "df_processing_express['processed_on_time_y/n'] = df_processing_express['processing_time'].apply(lambda x: 'yes' if x <= 0 else 'no')"
   ]
  },
  {
   "cell_type": "code",
   "execution_count": 64,
   "metadata": {},
   "outputs": [
    {
     "data": {
      "text/plain": [
       "count      53\n",
       "unique      2\n",
       "top       yes\n",
       "freq       41\n",
       "Name: processed_on_time_y/n, dtype: object"
      ]
     },
     "execution_count": 64,
     "metadata": {},
     "output_type": "execute_result"
    }
   ],
   "source": [
    "df_processing_express['processed_on_time_y/n'].describe()"
   ]
  },
  {
   "cell_type": "code",
   "execution_count": 65,
   "metadata": {},
   "outputs": [
    {
     "data": {
      "text/plain": [
       "[Text(0, 0, 'Yes'), Text(1, 0, 'No')]"
      ]
     },
     "execution_count": 65,
     "metadata": {},
     "output_type": "execute_result"
    },
    {
     "data": {
      "image/png": "[encoded data removed]",
      "text/plain": [
       "<Figure size 600x500 with 1 Axes>"
      ]
     },
     "metadata": {},
     "output_type": "display_data"
    }
   ],
   "source": [
    "df_processing_standard\n",
    "fig, ax = plt.subplots(1, figsize=(6,5))\n",
    "\n",
    "#fig.light_palette('seagreen')\n",
    "ax=sns.countplot(x=df_processing_standard['processed_on_time_y/n'], order=['yes', 'no'], palette='Paired', width=0.4)\n",
    "fig.suptitle('Processing Time - Standard Delivery')\n",
    "ax.set_xlabel('Processed On Time')\n",
    "ax.set_ylabel('Count of Orders')\n",
    "ax.set_xticklabels(('Yes', 'No'))"
   ]
  },
  {
   "cell_type": "code",
   "execution_count": 66,
   "metadata": {},
   "outputs": [
    {
     "data": {
      "text/plain": [
       "[Text(0, 0, 'Yes'), Text(1, 0, 'No')]"
      ]
     },
     "execution_count": 66,
     "metadata": {},
     "output_type": "execute_result"
    },
    {
     "data": {
      "image/png": "[encoded data removed]",
      "text/plain": [
       "<Figure size 600x500 with 1 Axes>"
      ]
     },
     "metadata": {},
     "output_type": "display_data"
    }
   ],
   "source": [
    "fig, ax = plt.subplots(1, figsize=(6,5))\n",
    "\n",
    "\n",
    "ax=sns.countplot(x=df_processing_express['processed_on_time_y/n'], order=['yes', 'no'], palette='Paired', width=0.4)\n",
    "fig.suptitle('Processing Time - Express Delivery')\n",
    "ax.set_xlabel('Processed On Time')\n",
    "ax.set_ylabel('Count of Orders')\n",
    "ax.set_xticklabels(('Yes', 'No'))"
   ]
  },
  {
   "cell_type": "markdown",
   "metadata": {},
   "source": [
    "# Pick-up time analysis #\n",
    "\n",
    "Analysis of time lapse between the order is ready to ship till the order is actually picked up."
   ]
  },
  {
   "cell_type": "code",
   "execution_count": 67,
   "metadata": {},
   "outputs": [],
   "source": [
    "Standard_pickup_time = {0: 2, 1: 1, 2: 3, 3: 2, 4: 1, 5: 1, 6: 1}\n",
    "Express_pickup_time = {0: 0, 1: 1, 2: 0, 3: 0, 4: 1, 5: 1, 6: 1}"
   ]
  },
  {
   "cell_type": "code",
   "execution_count": 68,
   "metadata": {},
   "outputs": [],
   "source": [
    "#df_merged.head()"
   ]
  },
  {
   "cell_type": "code",
   "execution_count": 69,
   "metadata": {},
   "outputs": [
    {
     "name": "stderr",
     "output_type": "stream",
     "text": [
      "/var/folders/zb/5pjlmnyj1wdg0qvcvbw6ysv80000gn/T/ipykernel_3028/3281566377.py:1: SettingWithCopyWarning: \n",
      "A value is trying to be set on a copy of a slice from a DataFrame.\n",
      "Try using .loc[row_indexer,col_indexer] = value instead\n",
      "\n",
      "See the caveats in the documentation: https://pandas.pydata.org/pandas-docs/stable/user_guide/indexing.html#returning-a-view-versus-a-copy\n",
      "  df_merged_standard['ready_to_truck'] = df_merged_standard['on_truck_scan_date'] - df_merged_standard['ready_to_ship_date']\n",
      "/var/folders/zb/5pjlmnyj1wdg0qvcvbw6ysv80000gn/T/ipykernel_3028/3281566377.py:2: SettingWithCopyWarning: \n",
      "A value is trying to be set on a copy of a slice from a DataFrame.\n",
      "Try using .loc[row_indexer,col_indexer] = value instead\n",
      "\n",
      "See the caveats in the documentation: https://pandas.pydata.org/pandas-docs/stable/user_guide/indexing.html#returning-a-view-versus-a-copy\n",
      "  df_merged_express['ready_to_truck'] = df_merged_express['on_truck_scan_date'] - df_merged_express['ready_to_ship_date']\n"
     ]
    }
   ],
   "source": [
    "df_merged_standard['ready_to_truck'] = df_merged_standard['on_truck_scan_date'] - df_merged_standard['ready_to_ship_date']\n",
    "df_merged_express['ready_to_truck'] = df_merged_express['on_truck_scan_date'] - df_merged_express['ready_to_ship_date']"
   ]
  },
  {
   "cell_type": "code",
   "execution_count": 70,
   "metadata": {},
   "outputs": [
    {
     "name": "stderr",
     "output_type": "stream",
     "text": [
      "/var/folders/zb/5pjlmnyj1wdg0qvcvbw6ysv80000gn/T/ipykernel_3028/2604737101.py:1: SettingWithCopyWarning: \n",
      "A value is trying to be set on a copy of a slice from a DataFrame.\n",
      "Try using .loc[row_indexer,col_indexer] = value instead\n",
      "\n",
      "See the caveats in the documentation: https://pandas.pydata.org/pandas-docs/stable/user_guide/indexing.html#returning-a-view-versus-a-copy\n",
      "  df_merged_standard[\"expected_pickup_time\"] =  df_merged_standard['order_weekday'].map(Standard_pickup_time)\n",
      "/var/folders/zb/5pjlmnyj1wdg0qvcvbw6ysv80000gn/T/ipykernel_3028/2604737101.py:2: SettingWithCopyWarning: \n",
      "A value is trying to be set on a copy of a slice from a DataFrame.\n",
      "Try using .loc[row_indexer,col_indexer] = value instead\n",
      "\n",
      "See the caveats in the documentation: https://pandas.pydata.org/pandas-docs/stable/user_guide/indexing.html#returning-a-view-versus-a-copy\n",
      "  df_merged_express[\"expected_pickup_time\"] =  df_merged_express['order_weekday'].map(Express_pickup_time)\n"
     ]
    }
   ],
   "source": [
    "df_merged_standard[\"expected_pickup_time\"] =  df_merged_standard['order_weekday'].map(Standard_pickup_time)\n",
    "df_merged_express[\"expected_pickup_time\"] =  df_merged_express['order_weekday'].map(Express_pickup_time)\n"
   ]
  },
  {
   "cell_type": "code",
   "execution_count": 71,
   "metadata": {},
   "outputs": [
    {
     "name": "stderr",
     "output_type": "stream",
     "text": [
      "/var/folders/zb/5pjlmnyj1wdg0qvcvbw6ysv80000gn/T/ipykernel_3028/3264648435.py:1: SettingWithCopyWarning: \n",
      "A value is trying to be set on a copy of a slice from a DataFrame.\n",
      "Try using .loc[row_indexer,col_indexer] = value instead\n",
      "\n",
      "See the caveats in the documentation: https://pandas.pydata.org/pandas-docs/stable/user_guide/indexing.html#returning-a-view-versus-a-copy\n",
      "  df_merged_standard['pickuptime'] = df_merged_standard['ready_to_truck'].apply(lambda x: x.days)\n",
      "/var/folders/zb/5pjlmnyj1wdg0qvcvbw6ysv80000gn/T/ipykernel_3028/3264648435.py:2: SettingWithCopyWarning: \n",
      "A value is trying to be set on a copy of a slice from a DataFrame\n",
      "\n",
      "See the caveats in the documentation: https://pandas.pydata.org/pandas-docs/stable/user_guide/indexing.html#returning-a-view-versus-a-copy\n",
      "  df_merged_standard.drop(columns='ready_to_truck', inplace=True)\n"
     ]
    },
    {
     "data": {
      "text/html": [
       "<div>\n",
       "<style scoped>\n",
       "    .dataframe tbody tr th:only-of-type {\n",
       "        vertical-align: middle;\n",
       "    }\n",
       "\n",
       "    .dataframe tbody tr th {\n",
       "        vertical-align: top;\n",
       "    }\n",
       "\n",
       "    .dataframe thead th {\n",
       "        text-align: right;\n",
       "    }\n",
       "</style>\n",
       "<table border=\"1\" class=\"dataframe\">\n",
       "  <thead>\n",
       "    <tr style=\"text-align: right;\">\n",
       "      <th></th>\n",
       "      <th>order_id</th>\n",
       "      <th>order_date</th>\n",
       "      <th>on_truck_scan_date</th>\n",
       "      <th>ship_mode</th>\n",
       "      <th>ready_to_ship_date</th>\n",
       "      <th>arrival_scan_date</th>\n",
       "      <th>order_weekday</th>\n",
       "      <th>ordertoready</th>\n",
       "      <th>timetoship</th>\n",
       "      <th>transittime</th>\n",
       "      <th>expected_processing_time</th>\n",
       "      <th>expected_pickup_time</th>\n",
       "      <th>pickuptime</th>\n",
       "    </tr>\n",
       "  </thead>\n",
       "  <tbody>\n",
       "    <tr>\n",
       "      <th>669</th>\n",
       "      <td>CA-2019-106278</td>\n",
       "      <td>2019-09-02</td>\n",
       "      <td>2019-09-06</td>\n",
       "      <td>Standard Processing</td>\n",
       "      <td>2019-09-05</td>\n",
       "      <td>2019-09-10</td>\n",
       "      <td>0</td>\n",
       "      <td>3.0</td>\n",
       "      <td>4</td>\n",
       "      <td>4.0</td>\n",
       "      <td>2</td>\n",
       "      <td>2</td>\n",
       "      <td>1.0</td>\n",
       "    </tr>\n",
       "    <tr>\n",
       "      <th>678</th>\n",
       "      <td>CA-2019-130407</td>\n",
       "      <td>2019-09-02</td>\n",
       "      <td>2019-09-09</td>\n",
       "      <td>Standard Processing</td>\n",
       "      <td>2019-09-06</td>\n",
       "      <td>NaT</td>\n",
       "      <td>0</td>\n",
       "      <td>4.0</td>\n",
       "      <td>7</td>\n",
       "      <td>NaN</td>\n",
       "      <td>2</td>\n",
       "      <td>2</td>\n",
       "      <td>3.0</td>\n",
       "    </tr>\n",
       "    <tr>\n",
       "      <th>679</th>\n",
       "      <td>CA-2019-106950</td>\n",
       "      <td>2019-09-02</td>\n",
       "      <td>2019-09-09</td>\n",
       "      <td>Standard Processing</td>\n",
       "      <td>2019-09-06</td>\n",
       "      <td>NaT</td>\n",
       "      <td>0</td>\n",
       "      <td>4.0</td>\n",
       "      <td>7</td>\n",
       "      <td>NaN</td>\n",
       "      <td>2</td>\n",
       "      <td>2</td>\n",
       "      <td>3.0</td>\n",
       "    </tr>\n",
       "    <tr>\n",
       "      <th>680</th>\n",
       "      <td>CA-2019-126732</td>\n",
       "      <td>2019-09-02</td>\n",
       "      <td>2019-09-09</td>\n",
       "      <td>Standard Processing</td>\n",
       "      <td>2019-09-06</td>\n",
       "      <td>NaT</td>\n",
       "      <td>0</td>\n",
       "      <td>4.0</td>\n",
       "      <td>7</td>\n",
       "      <td>NaN</td>\n",
       "      <td>2</td>\n",
       "      <td>2</td>\n",
       "      <td>3.0</td>\n",
       "    </tr>\n",
       "    <tr>\n",
       "      <th>684</th>\n",
       "      <td>US-2019-147711</td>\n",
       "      <td>2019-09-03</td>\n",
       "      <td>2019-09-11</td>\n",
       "      <td>Standard Processing</td>\n",
       "      <td>2019-09-09</td>\n",
       "      <td>NaT</td>\n",
       "      <td>1</td>\n",
       "      <td>6.0</td>\n",
       "      <td>8</td>\n",
       "      <td>NaN</td>\n",
       "      <td>2</td>\n",
       "      <td>1</td>\n",
       "      <td>2.0</td>\n",
       "    </tr>\n",
       "  </tbody>\n",
       "</table>\n",
       "</div>"
      ],
      "text/plain": [
       "           order_id order_date on_truck_scan_date            ship_mode  \\\n",
       "669  CA-2019-106278 2019-09-02         2019-09-06  Standard Processing   \n",
       "678  CA-2019-130407 2019-09-02         2019-09-09  Standard Processing   \n",
       "679  CA-2019-106950 2019-09-02         2019-09-09  Standard Processing   \n",
       "680  CA-2019-126732 2019-09-02         2019-09-09  Standard Processing   \n",
       "684  US-2019-147711 2019-09-03         2019-09-11  Standard Processing   \n",
       "\n",
       "    ready_to_ship_date arrival_scan_date  order_weekday  ordertoready  \\\n",
       "669         2019-09-05        2019-09-10              0           3.0   \n",
       "678         2019-09-06               NaT              0           4.0   \n",
       "679         2019-09-06               NaT              0           4.0   \n",
       "680         2019-09-06               NaT              0           4.0   \n",
       "684         2019-09-09               NaT              1           6.0   \n",
       "\n",
       "     timetoship  transittime  expected_processing_time  expected_pickup_time  \\\n",
       "669           4          4.0                         2                     2   \n",
       "678           7          NaN                         2                     2   \n",
       "679           7          NaN                         2                     2   \n",
       "680           7          NaN                         2                     2   \n",
       "684           8          NaN                         2                     1   \n",
       "\n",
       "     pickuptime  \n",
       "669         1.0  \n",
       "678         3.0  \n",
       "679         3.0  \n",
       "680         3.0  \n",
       "684         2.0  "
      ]
     },
     "execution_count": 71,
     "metadata": {},
     "output_type": "execute_result"
    }
   ],
   "source": [
    "df_merged_standard['pickuptime'] = df_merged_standard['ready_to_truck'].apply(lambda x: x.days)\n",
    "df_merged_standard.drop(columns='ready_to_truck', inplace=True)\n",
    "df_pickuptime_standard = df_merged_standard[df_merged_standard['pickuptime'] >= 0]\n",
    "df_pickuptime_standard.head()"
   ]
  },
  {
   "cell_type": "code",
   "execution_count": 72,
   "metadata": {},
   "outputs": [
    {
     "name": "stderr",
     "output_type": "stream",
     "text": [
      "/var/folders/zb/5pjlmnyj1wdg0qvcvbw6ysv80000gn/T/ipykernel_3028/2300462120.py:1: SettingWithCopyWarning: \n",
      "A value is trying to be set on a copy of a slice from a DataFrame.\n",
      "Try using .loc[row_indexer,col_indexer] = value instead\n",
      "\n",
      "See the caveats in the documentation: https://pandas.pydata.org/pandas-docs/stable/user_guide/indexing.html#returning-a-view-versus-a-copy\n",
      "  df_merged_express['pickuptime'] = df_merged_express['ready_to_truck'].apply(lambda x: x.days)\n",
      "/var/folders/zb/5pjlmnyj1wdg0qvcvbw6ysv80000gn/T/ipykernel_3028/2300462120.py:2: SettingWithCopyWarning: \n",
      "A value is trying to be set on a copy of a slice from a DataFrame\n",
      "\n",
      "See the caveats in the documentation: https://pandas.pydata.org/pandas-docs/stable/user_guide/indexing.html#returning-a-view-versus-a-copy\n",
      "  df_merged_express.drop(columns='ready_to_truck', inplace=True)\n"
     ]
    },
    {
     "data": {
      "text/html": [
       "<div>\n",
       "<style scoped>\n",
       "    .dataframe tbody tr th:only-of-type {\n",
       "        vertical-align: middle;\n",
       "    }\n",
       "\n",
       "    .dataframe tbody tr th {\n",
       "        vertical-align: top;\n",
       "    }\n",
       "\n",
       "    .dataframe thead th {\n",
       "        text-align: right;\n",
       "    }\n",
       "</style>\n",
       "<table border=\"1\" class=\"dataframe\">\n",
       "  <thead>\n",
       "    <tr style=\"text-align: right;\">\n",
       "      <th></th>\n",
       "      <th>order_id</th>\n",
       "      <th>order_date</th>\n",
       "      <th>on_truck_scan_date</th>\n",
       "      <th>ship_mode</th>\n",
       "      <th>ready_to_ship_date</th>\n",
       "      <th>arrival_scan_date</th>\n",
       "      <th>order_weekday</th>\n",
       "      <th>ordertoready</th>\n",
       "      <th>timetoship</th>\n",
       "      <th>transittime</th>\n",
       "      <th>expected_processing_time</th>\n",
       "      <th>expected_pickup_time</th>\n",
       "      <th>pickuptime</th>\n",
       "    </tr>\n",
       "  </thead>\n",
       "  <tbody>\n",
       "    <tr>\n",
       "      <th>641</th>\n",
       "      <td>CA-2019-116540</td>\n",
       "      <td>2019-09-02</td>\n",
       "      <td>2019-09-03</td>\n",
       "      <td>Express</td>\n",
       "      <td>2019-09-02</td>\n",
       "      <td>NaT</td>\n",
       "      <td>0</td>\n",
       "      <td>0.0</td>\n",
       "      <td>1</td>\n",
       "      <td>NaN</td>\n",
       "      <td>2</td>\n",
       "      <td>0</td>\n",
       "      <td>1.0</td>\n",
       "    </tr>\n",
       "    <tr>\n",
       "      <th>648</th>\n",
       "      <td>CA-2019-129847</td>\n",
       "      <td>2019-09-02</td>\n",
       "      <td>2019-09-04</td>\n",
       "      <td>Express</td>\n",
       "      <td>2019-09-04</td>\n",
       "      <td>2019-09-10</td>\n",
       "      <td>0</td>\n",
       "      <td>2.0</td>\n",
       "      <td>2</td>\n",
       "      <td>6.0</td>\n",
       "      <td>2</td>\n",
       "      <td>0</td>\n",
       "      <td>0.0</td>\n",
       "    </tr>\n",
       "    <tr>\n",
       "      <th>649</th>\n",
       "      <td>CA-2019-129630</td>\n",
       "      <td>2019-09-04</td>\n",
       "      <td>2019-09-04</td>\n",
       "      <td>Express</td>\n",
       "      <td>2019-09-04</td>\n",
       "      <td>2019-09-09</td>\n",
       "      <td>2</td>\n",
       "      <td>0.0</td>\n",
       "      <td>0</td>\n",
       "      <td>5.0</td>\n",
       "      <td>2</td>\n",
       "      <td>0</td>\n",
       "      <td>0.0</td>\n",
       "    </tr>\n",
       "    <tr>\n",
       "      <th>663</th>\n",
       "      <td>CA-2019-158099</td>\n",
       "      <td>2019-09-03</td>\n",
       "      <td>2019-09-06</td>\n",
       "      <td>Express</td>\n",
       "      <td>2019-09-05</td>\n",
       "      <td>2019-09-11</td>\n",
       "      <td>1</td>\n",
       "      <td>2.0</td>\n",
       "      <td>3</td>\n",
       "      <td>5.0</td>\n",
       "      <td>2</td>\n",
       "      <td>1</td>\n",
       "      <td>1.0</td>\n",
       "    </tr>\n",
       "    <tr>\n",
       "      <th>664</th>\n",
       "      <td>CA-2019-132143</td>\n",
       "      <td>2019-09-03</td>\n",
       "      <td>2019-09-06</td>\n",
       "      <td>Express</td>\n",
       "      <td>2019-09-05</td>\n",
       "      <td>NaT</td>\n",
       "      <td>1</td>\n",
       "      <td>2.0</td>\n",
       "      <td>3</td>\n",
       "      <td>NaN</td>\n",
       "      <td>2</td>\n",
       "      <td>1</td>\n",
       "      <td>1.0</td>\n",
       "    </tr>\n",
       "  </tbody>\n",
       "</table>\n",
       "</div>"
      ],
      "text/plain": [
       "           order_id order_date on_truck_scan_date ship_mode  \\\n",
       "641  CA-2019-116540 2019-09-02         2019-09-03   Express   \n",
       "648  CA-2019-129847 2019-09-02         2019-09-04   Express   \n",
       "649  CA-2019-129630 2019-09-04         2019-09-04   Express   \n",
       "663  CA-2019-158099 2019-09-03         2019-09-06   Express   \n",
       "664  CA-2019-132143 2019-09-03         2019-09-06   Express   \n",
       "\n",
       "    ready_to_ship_date arrival_scan_date  order_weekday  ordertoready  \\\n",
       "641         2019-09-02               NaT              0           0.0   \n",
       "648         2019-09-04        2019-09-10              0           2.0   \n",
       "649         2019-09-04        2019-09-09              2           0.0   \n",
       "663         2019-09-05        2019-09-11              1           2.0   \n",
       "664         2019-09-05               NaT              1           2.0   \n",
       "\n",
       "     timetoship  transittime  expected_processing_time  expected_pickup_time  \\\n",
       "641           1          NaN                         2                     0   \n",
       "648           2          6.0                         2                     0   \n",
       "649           0          5.0                         2                     0   \n",
       "663           3          5.0                         2                     1   \n",
       "664           3          NaN                         2                     1   \n",
       "\n",
       "     pickuptime  \n",
       "641         1.0  \n",
       "648         0.0  \n",
       "649         0.0  \n",
       "663         1.0  \n",
       "664         1.0  "
      ]
     },
     "execution_count": 72,
     "metadata": {},
     "output_type": "execute_result"
    }
   ],
   "source": [
    "df_merged_express['pickuptime'] = df_merged_express['ready_to_truck'].apply(lambda x: x.days)\n",
    "df_merged_express.drop(columns='ready_to_truck', inplace=True)\n",
    "df_pickuptime_express = df_merged_express[df_merged_express['pickuptime'] >= 0]\n",
    "df_pickuptime_express.head()"
   ]
  },
  {
   "cell_type": "code",
   "execution_count": 73,
   "metadata": {},
   "outputs": [],
   "source": [
    "# df_merged_express[\"expected_order_truck_time\"] =  df_merged_express['order_weekday'].map(Express_Realization_time )"
   ]
  },
  {
   "cell_type": "code",
   "execution_count": 74,
   "metadata": {},
   "outputs": [
    {
     "name": "stderr",
     "output_type": "stream",
     "text": [
      "/var/folders/zb/5pjlmnyj1wdg0qvcvbw6ysv80000gn/T/ipykernel_3028/3000218530.py:1: SettingWithCopyWarning: \n",
      "A value is trying to be set on a copy of a slice from a DataFrame.\n",
      "Try using .loc[row_indexer,col_indexer] = value instead\n",
      "\n",
      "See the caveats in the documentation: https://pandas.pydata.org/pandas-docs/stable/user_guide/indexing.html#returning-a-view-versus-a-copy\n",
      "  df_pickuptime_standard['ready_to_pickup'] = df_pickuptime_standard['pickuptime'] - df_pickuptime_standard['expected_pickup_time']\n",
      "/var/folders/zb/5pjlmnyj1wdg0qvcvbw6ysv80000gn/T/ipykernel_3028/3000218530.py:2: SettingWithCopyWarning: \n",
      "A value is trying to be set on a copy of a slice from a DataFrame.\n",
      "Try using .loc[row_indexer,col_indexer] = value instead\n",
      "\n",
      "See the caveats in the documentation: https://pandas.pydata.org/pandas-docs/stable/user_guide/indexing.html#returning-a-view-versus-a-copy\n",
      "  df_pickuptime_standard['ready_to_pickup_y/n'] = df_pickuptime_standard['ready_to_pickup'].apply(lambda x: 'yes' if x <= 0 else 'no')\n"
     ]
    }
   ],
   "source": [
    "df_pickuptime_standard['ready_to_pickup'] = df_pickuptime_standard['pickuptime'] - df_pickuptime_standard['expected_pickup_time']\n",
    "df_pickuptime_standard['ready_to_pickup_y/n'] = df_pickuptime_standard['ready_to_pickup'].apply(lambda x: 'yes' if x <= 0 else 'no')"
   ]
  },
  {
   "cell_type": "code",
   "execution_count": 75,
   "metadata": {},
   "outputs": [
    {
     "name": "stderr",
     "output_type": "stream",
     "text": [
      "/var/folders/zb/5pjlmnyj1wdg0qvcvbw6ysv80000gn/T/ipykernel_3028/1671726458.py:1: SettingWithCopyWarning: \n",
      "A value is trying to be set on a copy of a slice from a DataFrame.\n",
      "Try using .loc[row_indexer,col_indexer] = value instead\n",
      "\n",
      "See the caveats in the documentation: https://pandas.pydata.org/pandas-docs/stable/user_guide/indexing.html#returning-a-view-versus-a-copy\n",
      "  df_pickuptime_express['ready_to_pickup'] = df_pickuptime_express['pickuptime'] - df_pickuptime_express['expected_pickup_time']\n",
      "/var/folders/zb/5pjlmnyj1wdg0qvcvbw6ysv80000gn/T/ipykernel_3028/1671726458.py:2: SettingWithCopyWarning: \n",
      "A value is trying to be set on a copy of a slice from a DataFrame.\n",
      "Try using .loc[row_indexer,col_indexer] = value instead\n",
      "\n",
      "See the caveats in the documentation: https://pandas.pydata.org/pandas-docs/stable/user_guide/indexing.html#returning-a-view-versus-a-copy\n",
      "  df_pickuptime_express['ready_to_pickup_y/n'] = df_pickuptime_express['ready_to_pickup'].apply(lambda x: 'yes' if x <= 0 else 'no')\n"
     ]
    }
   ],
   "source": [
    "df_pickuptime_express['ready_to_pickup'] = df_pickuptime_express['pickuptime'] - df_pickuptime_express['expected_pickup_time']\n",
    "df_pickuptime_express['ready_to_pickup_y/n'] = df_pickuptime_express['ready_to_pickup'].apply(lambda x: 'yes' if x <= 0 else 'no')"
   ]
  },
  {
   "cell_type": "code",
   "execution_count": 76,
   "metadata": {},
   "outputs": [],
   "source": [
    "# df_merged_express['shipped_on_time'] = df_merged_express['timetoship'] - df_merged_express['expected_order_truck_time']\n",
    "# df_merged_express['shipped_on_time_y/n'] = df_merged_express['shipped_on_time'].apply(lambda x: 'yes' if x <= 0 else 'no')"
   ]
  },
  {
   "cell_type": "code",
   "execution_count": 77,
   "metadata": {},
   "outputs": [],
   "source": [
    "# df_std_gp_day = df_merged_standard.groupby('order_weekday').mean()['timetoship']\n",
    "\n",
    "# df_std_gp_day"
   ]
  },
  {
   "cell_type": "code",
   "execution_count": 78,
   "metadata": {},
   "outputs": [],
   "source": [
    "# fig, ax = plt.subplots(figsize=(10,5))\n",
    "# (\n",
    "#     df_merged_standard\n",
    "#    .groupby('order_weekday') # aggregate data to level of airline\n",
    "#    .mean()['timetoship'] # count the observations\n",
    "#   .plot.bar() # Make a bar chart based on the dataframe\n",
    "# )\n",
    "\n",
    "# ax.set_xticks(ticks=[0, 1, 2, 3, 4, 5, 6], labels=['Mon', 'Tue', 'Wed', 'Thu', 'Fri', 'Sat', 'Sun'])\n",
    "\n",
    "\n",
    "# ax.bar()"
   ]
  },
  {
   "cell_type": "code",
   "execution_count": 79,
   "metadata": {},
   "outputs": [],
   "source": [
    "# fig, ax = plt.subplots(figsize=(10,5))\n",
    "# (\n",
    "#     df_merged_express\n",
    "#    .groupby('order_weekday') # aggregate data to level of airline\n",
    "#    .mean()['timetoship'] # count the observations\n",
    "#   .plot.bar() # Make a bar chart based on the dataframe\n",
    "# )\n",
    "\n",
    "# ax.set_xticks(ticks=[0, 1, 2, 3, 4, 5, 6], labels=['Mon', 'Tue', 'Wed', 'Thu', 'Fri', 'Sat', 'Sun'])\n",
    "\n",
    "\n",
    "# ax.bar()"
   ]
  },
  {
   "cell_type": "code",
   "execution_count": 80,
   "metadata": {},
   "outputs": [],
   "source": [
    "# df_processing_express = df_merged_express[df_merged_express['ordertoready'] >= 0]\n",
    "# df_processing_express.info()[df_processing_standard['processed_on_time_y/n']=='yes'].count()"
   ]
  },
  {
   "cell_type": "code",
   "execution_count": 81,
   "metadata": {},
   "outputs": [],
   "source": [
    "# df_processing_standard[df_processing_standard['processed_on_time_y/n']=='yes'].count()"
   ]
  },
  {
   "cell_type": "code",
   "execution_count": 82,
   "metadata": {},
   "outputs": [
    {
     "data": {
      "text/html": [
       "<div>\n",
       "<style scoped>\n",
       "    .dataframe tbody tr th:only-of-type {\n",
       "        vertical-align: middle;\n",
       "    }\n",
       "\n",
       "    .dataframe tbody tr th {\n",
       "        vertical-align: top;\n",
       "    }\n",
       "\n",
       "    .dataframe thead th {\n",
       "        text-align: right;\n",
       "    }\n",
       "</style>\n",
       "<table border=\"1\" class=\"dataframe\">\n",
       "  <thead>\n",
       "    <tr style=\"text-align: right;\">\n",
       "      <th></th>\n",
       "      <th>order_id</th>\n",
       "      <th>order_date</th>\n",
       "      <th>on_truck_scan_date</th>\n",
       "      <th>ship_mode</th>\n",
       "      <th>ready_to_ship_date</th>\n",
       "      <th>arrival_scan_date</th>\n",
       "      <th>order_weekday</th>\n",
       "      <th>ordertoready</th>\n",
       "      <th>timetoship</th>\n",
       "      <th>transittime</th>\n",
       "      <th>expected_processing_time</th>\n",
       "      <th>expected_pickup_time</th>\n",
       "      <th>pickuptime</th>\n",
       "      <th>ready_to_pickup</th>\n",
       "      <th>ready_to_pickup_y/n</th>\n",
       "    </tr>\n",
       "  </thead>\n",
       "  <tbody>\n",
       "    <tr>\n",
       "      <th>669</th>\n",
       "      <td>CA-2019-106278</td>\n",
       "      <td>2019-09-02</td>\n",
       "      <td>2019-09-06</td>\n",
       "      <td>Standard Processing</td>\n",
       "      <td>2019-09-05</td>\n",
       "      <td>2019-09-10</td>\n",
       "      <td>0</td>\n",
       "      <td>3.0</td>\n",
       "      <td>4</td>\n",
       "      <td>4.0</td>\n",
       "      <td>2</td>\n",
       "      <td>2</td>\n",
       "      <td>1.0</td>\n",
       "      <td>-1.0</td>\n",
       "      <td>yes</td>\n",
       "    </tr>\n",
       "    <tr>\n",
       "      <th>678</th>\n",
       "      <td>CA-2019-130407</td>\n",
       "      <td>2019-09-02</td>\n",
       "      <td>2019-09-09</td>\n",
       "      <td>Standard Processing</td>\n",
       "      <td>2019-09-06</td>\n",
       "      <td>NaT</td>\n",
       "      <td>0</td>\n",
       "      <td>4.0</td>\n",
       "      <td>7</td>\n",
       "      <td>NaN</td>\n",
       "      <td>2</td>\n",
       "      <td>2</td>\n",
       "      <td>3.0</td>\n",
       "      <td>1.0</td>\n",
       "      <td>no</td>\n",
       "    </tr>\n",
       "    <tr>\n",
       "      <th>679</th>\n",
       "      <td>CA-2019-106950</td>\n",
       "      <td>2019-09-02</td>\n",
       "      <td>2019-09-09</td>\n",
       "      <td>Standard Processing</td>\n",
       "      <td>2019-09-06</td>\n",
       "      <td>NaT</td>\n",
       "      <td>0</td>\n",
       "      <td>4.0</td>\n",
       "      <td>7</td>\n",
       "      <td>NaN</td>\n",
       "      <td>2</td>\n",
       "      <td>2</td>\n",
       "      <td>3.0</td>\n",
       "      <td>1.0</td>\n",
       "      <td>no</td>\n",
       "    </tr>\n",
       "    <tr>\n",
       "      <th>680</th>\n",
       "      <td>CA-2019-126732</td>\n",
       "      <td>2019-09-02</td>\n",
       "      <td>2019-09-09</td>\n",
       "      <td>Standard Processing</td>\n",
       "      <td>2019-09-06</td>\n",
       "      <td>NaT</td>\n",
       "      <td>0</td>\n",
       "      <td>4.0</td>\n",
       "      <td>7</td>\n",
       "      <td>NaN</td>\n",
       "      <td>2</td>\n",
       "      <td>2</td>\n",
       "      <td>3.0</td>\n",
       "      <td>1.0</td>\n",
       "      <td>no</td>\n",
       "    </tr>\n",
       "    <tr>\n",
       "      <th>684</th>\n",
       "      <td>US-2019-147711</td>\n",
       "      <td>2019-09-03</td>\n",
       "      <td>2019-09-11</td>\n",
       "      <td>Standard Processing</td>\n",
       "      <td>2019-09-09</td>\n",
       "      <td>NaT</td>\n",
       "      <td>1</td>\n",
       "      <td>6.0</td>\n",
       "      <td>8</td>\n",
       "      <td>NaN</td>\n",
       "      <td>2</td>\n",
       "      <td>1</td>\n",
       "      <td>2.0</td>\n",
       "      <td>1.0</td>\n",
       "      <td>no</td>\n",
       "    </tr>\n",
       "  </tbody>\n",
       "</table>\n",
       "</div>"
      ],
      "text/plain": [
       "           order_id order_date on_truck_scan_date            ship_mode  \\\n",
       "669  CA-2019-106278 2019-09-02         2019-09-06  Standard Processing   \n",
       "678  CA-2019-130407 2019-09-02         2019-09-09  Standard Processing   \n",
       "679  CA-2019-106950 2019-09-02         2019-09-09  Standard Processing   \n",
       "680  CA-2019-126732 2019-09-02         2019-09-09  Standard Processing   \n",
       "684  US-2019-147711 2019-09-03         2019-09-11  Standard Processing   \n",
       "\n",
       "    ready_to_ship_date arrival_scan_date  order_weekday  ordertoready  \\\n",
       "669         2019-09-05        2019-09-10              0           3.0   \n",
       "678         2019-09-06               NaT              0           4.0   \n",
       "679         2019-09-06               NaT              0           4.0   \n",
       "680         2019-09-06               NaT              0           4.0   \n",
       "684         2019-09-09               NaT              1           6.0   \n",
       "\n",
       "     timetoship  transittime  expected_processing_time  expected_pickup_time  \\\n",
       "669           4          4.0                         2                     2   \n",
       "678           7          NaN                         2                     2   \n",
       "679           7          NaN                         2                     2   \n",
       "680           7          NaN                         2                     2   \n",
       "684           8          NaN                         2                     1   \n",
       "\n",
       "     pickuptime  ready_to_pickup ready_to_pickup_y/n  \n",
       "669         1.0             -1.0                 yes  \n",
       "678         3.0              1.0                  no  \n",
       "679         3.0              1.0                  no  \n",
       "680         3.0              1.0                  no  \n",
       "684         2.0              1.0                  no  "
      ]
     },
     "execution_count": 82,
     "metadata": {},
     "output_type": "execute_result"
    }
   ],
   "source": [
    "df_pickuptime_standard.head()"
   ]
  },
  {
   "cell_type": "code",
   "execution_count": 83,
   "metadata": {},
   "outputs": [
    {
     "data": {
      "text/plain": [
       "count      53\n",
       "unique      2\n",
       "top       yes\n",
       "freq       44\n",
       "Name: ready_to_pickup_y/n, dtype: object"
      ]
     },
     "execution_count": 83,
     "metadata": {},
     "output_type": "execute_result"
    }
   ],
   "source": [
    "df_pickuptime_express['ready_to_pickup_y/n'].describe()"
   ]
  },
  {
   "cell_type": "code",
   "execution_count": 84,
   "metadata": {},
   "outputs": [
    {
     "data": {
      "text/plain": [
       "[Text(0, 0, 'Yes'), Text(1, 0, 'No')]"
      ]
     },
     "execution_count": 84,
     "metadata": {},
     "output_type": "execute_result"
    },
    {
     "data": {
      "image/png": "[encoded data removed]",
      "text/plain": [
       "<Figure size 600x500 with 1 Axes>"
      ]
     },
     "metadata": {},
     "output_type": "display_data"
    }
   ],
   "source": [
    "fig, ax = plt.subplots(1, figsize=(6,5))\n",
    "df_pickuptime_standard\n",
    "#fig.light_palette('seagreen')\n",
    "ax=sns.countplot(x=df_pickuptime_standard['ready_to_pickup_y/n'], order=['yes', 'no'], palette='Paired', width=0.4)\n",
    "fig.suptitle('Pickup Time - Standard Delivery')\n",
    "ax.set_xlabel('Picked Up On Time')\n",
    "ax.set_ylabel('Count of Orders')\n",
    "ax.set_xticklabels(('Yes', 'No'))"
   ]
  },
  {
   "cell_type": "code",
   "execution_count": 85,
   "metadata": {},
   "outputs": [
    {
     "data": {
      "text/plain": [
       "[Text(0, 0, 'Yes'), Text(1, 0, 'No')]"
      ]
     },
     "execution_count": 85,
     "metadata": {},
     "output_type": "execute_result"
    },
    {
     "data": {
      "image/png": "[encoded data removed]",
      "text/plain": [
       "<Figure size 600x500 with 1 Axes>"
      ]
     },
     "metadata": {},
     "output_type": "display_data"
    }
   ],
   "source": [
    "fig, ax = plt.subplots(1, figsize=(6,5))\n",
    "df_pickuptime_standard\n",
    "#fig.light_palette('seagreen')\n",
    "ax=sns.countplot(x=df_pickuptime_express['ready_to_pickup_y/n'], order=['yes', 'no'], palette='Paired', width=0.4)\n",
    "fig.suptitle('Pickup Time - Express Delivery')\n",
    "ax.set_xlabel('Picked Up On Time')\n",
    "ax.set_ylabel('Count of Orders')\n",
    "ax.set_xticklabels(('Yes', 'No'))"
   ]
  },
  {
   "cell_type": "markdown",
   "metadata": {},
   "source": [
    "# Order shipping Time analysis #\n",
    "\n",
    "To analyze the time taken from the Order received till it is on the truck.\n",
    "\n",
    "We are not using this in the presentation"
   ]
  },
  {
   "cell_type": "code",
   "execution_count": 86,
   "metadata": {},
   "outputs": [],
   "source": [
    "# df_merged_standard['shipped_on_time'] = df_merged_standard['timetoship'] - df_merged_standard['expected_order_truck_time']\n",
    "# df_merged_standard['shipped_on_time_y/n'] = df_merged_standard['shipped_on_time'].apply(lambda x: 'yes' if x <= 0 else 'no')"
   ]
  },
  {
   "cell_type": "code",
   "execution_count": 87,
   "metadata": {},
   "outputs": [],
   "source": [
    "# fig, ax = plt.subplots(1, figsize=(6,5))\n",
    "\n",
    "# #fig.light_palette('seagreen')\n",
    "# ax=sns.countplot(x=df_merged_standard['shipped_on_time_y/n'], order=['yes', 'no'], palette='Paired', width=0.4)\n",
    "# fig.suptitle('Shipment Time - Standard Delivery')\n",
    "# ax.set_xlabel('Shipped On Time')\n",
    "# ax.set_ylabel('Count of Orders')\n",
    "# ax.set_xticklabels(('Yes', 'No'))"
   ]
  },
  {
   "cell_type": "code",
   "execution_count": 88,
   "metadata": {},
   "outputs": [],
   "source": [
    "# fig, ax = plt.subplots(figsize=(6,5))\n",
    "\n",
    "# sns.countplot(x=df_merged_express['shipped_on_time_y/n'], palette='Paired', width=0.4)\n",
    "\n",
    "# fig.suptitle('Shipment Time - Express Delivery')\n",
    "# ax.set_xlabel('Shipped On Time')\n",
    "# ax.set_ylabel('Count of Orders')\n",
    "# ax.set_xticklabels(('Yes', 'No'))"
   ]
  },
  {
   "cell_type": "code",
   "execution_count": 89,
   "metadata": {},
   "outputs": [],
   "source": [
    "# g = sns.catplot(x='ship_mode',hue='shipped_on_time_y/n', data=df_merge, kind='count')\n",
    "# #g.set_xticklabels(])\n",
    "# g.set_titles(\"Express Processing Orders Shipping\")\n",
    "# g.set_xlabels('Shipped On Time')\n",
    "# g.set_ylabels('Count of orders')\n",
    "# g.set_ylim(0,5000)"
   ]
  },
  {
   "cell_type": "code",
   "execution_count": 90,
   "metadata": {},
   "outputs": [],
   "source": [
    "# fig, ax = plt.subplots(1, 2, figsize=(10,5))\n",
    "# fig.suptitle('Shipment On Time - Standard Delivery')\n",
    "\n",
    "# ax[0]=sns.countplot(x=df_merged_standard['shipped_on_time_y/n'], order=['yes', 'no'], color='blue', palette='Set2', width=0.5);\n",
    "# ax[0].set_xlabel('Shipped On Time')\n",
    "# ax[0].set_ylabel('Count of Orders')\n",
    "# ax[0].set_xticklabels(('Yes', 'No'))\n",
    "\n",
    "# ax[1]=sns.countplot(x=df_merged_express['shipped_on_time_y/n'], color='blue', palette='Set2', width=0.5);\n",
    "# ax[1].set_xlabel('Shipped On Time')\n",
    "# ax[1].set_ylabel('Count of Orders')\n",
    "# ax[1].set_xticklabels(('Yes', 'No'))"
   ]
  },
  {
   "cell_type": "code",
   "execution_count": 91,
   "metadata": {},
   "outputs": [],
   "source": [
    "# g = sns.catplot(x='order_weekday',hue='shipped_on_time_y/n', data=df_merged_standard, kind='count')\n",
    "# g.set_xticklabels([\"Mon\", \"Tue\", \"Wed\", \"Thu\", \"Fri\", \"Sat\", \"Sun\"])\n",
    "# g.set_titles(\"Standard Processing Orders Shipping\")\n",
    "# g.set_xlabels('Order Day')\n",
    "# g.set_ylabels('Count of orders')"
   ]
  },
  {
   "cell_type": "code",
   "execution_count": 92,
   "metadata": {},
   "outputs": [],
   "source": [
    "# g = sns.catplot(x='order_weekday',hue='shipped_on_time_y/n', data=df_merged_express, kind='count')\n",
    "# g.set_xticklabels([\"Mon\", \"Tue\", \"Wed\", \"Thu\", \"Fri\", \"Sat\", \"Sun\"])\n",
    "# g.set_titles(\"Express Processing Orders Shipping\")\n",
    "# g.set_xlabels('Order Day')\n",
    "# g.set_ylabels('Count of orders')"
   ]
  },
  {
   "cell_type": "markdown",
   "metadata": {},
   "source": [
    "# On Transit Graphs #\n",
    "\n",
    "The time taken from the order picked up by the logistics to the time it is delivered to the customer."
   ]
  },
  {
   "cell_type": "code",
   "execution_count": 93,
   "metadata": {},
   "outputs": [],
   "source": [
    "Standard_transit_time = {0: 3, 1: 3, 2: 4, 3: 5, 4: 5, 5: 5, 6: 5}\n",
    "Express_transit_time = {0: 5, 1: 3, 2: 3, 3: 3, 4: 5, 5: 5, 6: 5}"
   ]
  },
  {
   "cell_type": "code",
   "execution_count": 94,
   "metadata": {},
   "outputs": [
    {
     "name": "stderr",
     "output_type": "stream",
     "text": [
      "/var/folders/zb/5pjlmnyj1wdg0qvcvbw6ysv80000gn/T/ipykernel_3028/2132864394.py:1: SettingWithCopyWarning: \n",
      "A value is trying to be set on a copy of a slice from a DataFrame.\n",
      "Try using .loc[row_indexer,col_indexer] = value instead\n",
      "\n",
      "See the caveats in the documentation: https://pandas.pydata.org/pandas-docs/stable/user_guide/indexing.html#returning-a-view-versus-a-copy\n",
      "  df_merged_standard[\"expected_transit_time\"] =  df_merged_standard['order_weekday'].map(Standard_processing_Time)\n",
      "/var/folders/zb/5pjlmnyj1wdg0qvcvbw6ysv80000gn/T/ipykernel_3028/2132864394.py:2: SettingWithCopyWarning: \n",
      "A value is trying to be set on a copy of a slice from a DataFrame.\n",
      "Try using .loc[row_indexer,col_indexer] = value instead\n",
      "\n",
      "See the caveats in the documentation: https://pandas.pydata.org/pandas-docs/stable/user_guide/indexing.html#returning-a-view-versus-a-copy\n",
      "  df_merged_express[\"expected_transit_time\"] =  df_merged_express['order_weekday'].map(Express_processing_time)\n"
     ]
    }
   ],
   "source": [
    "df_merged_standard[\"expected_transit_time\"] =  df_merged_standard['order_weekday'].map(Standard_processing_Time)\n",
    "df_merged_express[\"expected_transit_time\"] =  df_merged_express['order_weekday'].map(Express_processing_time)"
   ]
  },
  {
   "cell_type": "code",
   "execution_count": 95,
   "metadata": {},
   "outputs": [
    {
     "data": {
      "text/html": [
       "<div>\n",
       "<style scoped>\n",
       "    .dataframe tbody tr th:only-of-type {\n",
       "        vertical-align: middle;\n",
       "    }\n",
       "\n",
       "    .dataframe tbody tr th {\n",
       "        vertical-align: top;\n",
       "    }\n",
       "\n",
       "    .dataframe thead th {\n",
       "        text-align: right;\n",
       "    }\n",
       "</style>\n",
       "<table border=\"1\" class=\"dataframe\">\n",
       "  <thead>\n",
       "    <tr style=\"text-align: right;\">\n",
       "      <th></th>\n",
       "      <th>order_id</th>\n",
       "      <th>order_date</th>\n",
       "      <th>on_truck_scan_date</th>\n",
       "      <th>ship_mode</th>\n",
       "      <th>ready_to_ship_date</th>\n",
       "      <th>arrival_scan_date</th>\n",
       "      <th>order_weekday</th>\n",
       "      <th>ordertoready</th>\n",
       "      <th>timetoship</th>\n",
       "      <th>transittime</th>\n",
       "      <th>expected_processing_time</th>\n",
       "      <th>expected_pickup_time</th>\n",
       "      <th>pickuptime</th>\n",
       "      <th>expected_transit_time</th>\n",
       "    </tr>\n",
       "  </thead>\n",
       "  <tbody>\n",
       "    <tr>\n",
       "      <th>248</th>\n",
       "      <td>CA-2019-109666</td>\n",
       "      <td>2019-04-19</td>\n",
       "      <td>2019-04-29</td>\n",
       "      <td>Standard Processing</td>\n",
       "      <td>NaT</td>\n",
       "      <td>2019-05-03</td>\n",
       "      <td>4</td>\n",
       "      <td>NaN</td>\n",
       "      <td>10</td>\n",
       "      <td>4.0</td>\n",
       "      <td>4</td>\n",
       "      <td>1</td>\n",
       "      <td>NaN</td>\n",
       "      <td>4</td>\n",
       "    </tr>\n",
       "    <tr>\n",
       "      <th>249</th>\n",
       "      <td>CA-2019-113061</td>\n",
       "      <td>2019-04-22</td>\n",
       "      <td>2019-04-29</td>\n",
       "      <td>Standard Processing</td>\n",
       "      <td>NaT</td>\n",
       "      <td>2019-05-06</td>\n",
       "      <td>0</td>\n",
       "      <td>NaN</td>\n",
       "      <td>7</td>\n",
       "      <td>7.0</td>\n",
       "      <td>2</td>\n",
       "      <td>2</td>\n",
       "      <td>NaN</td>\n",
       "      <td>2</td>\n",
       "    </tr>\n",
       "    <tr>\n",
       "      <th>250</th>\n",
       "      <td>CA-2019-168081</td>\n",
       "      <td>2019-04-24</td>\n",
       "      <td>2019-05-01</td>\n",
       "      <td>Standard Processing</td>\n",
       "      <td>NaT</td>\n",
       "      <td>2019-05-06</td>\n",
       "      <td>2</td>\n",
       "      <td>NaN</td>\n",
       "      <td>7</td>\n",
       "      <td>5.0</td>\n",
       "      <td>2</td>\n",
       "      <td>3</td>\n",
       "      <td>NaN</td>\n",
       "      <td>2</td>\n",
       "    </tr>\n",
       "    <tr>\n",
       "      <th>251</th>\n",
       "      <td>US-2019-150147</td>\n",
       "      <td>2019-04-25</td>\n",
       "      <td>2019-05-01</td>\n",
       "      <td>Standard Processing</td>\n",
       "      <td>NaT</td>\n",
       "      <td>2019-05-07</td>\n",
       "      <td>3</td>\n",
       "      <td>NaN</td>\n",
       "      <td>6</td>\n",
       "      <td>6.0</td>\n",
       "      <td>4</td>\n",
       "      <td>2</td>\n",
       "      <td>NaN</td>\n",
       "      <td>4</td>\n",
       "    </tr>\n",
       "    <tr>\n",
       "      <th>253</th>\n",
       "      <td>CA-2019-109869</td>\n",
       "      <td>2019-04-22</td>\n",
       "      <td>2019-05-01</td>\n",
       "      <td>Standard Processing</td>\n",
       "      <td>NaT</td>\n",
       "      <td>2019-05-07</td>\n",
       "      <td>0</td>\n",
       "      <td>NaN</td>\n",
       "      <td>9</td>\n",
       "      <td>6.0</td>\n",
       "      <td>2</td>\n",
       "      <td>2</td>\n",
       "      <td>NaN</td>\n",
       "      <td>2</td>\n",
       "    </tr>\n",
       "  </tbody>\n",
       "</table>\n",
       "</div>"
      ],
      "text/plain": [
       "           order_id order_date on_truck_scan_date            ship_mode  \\\n",
       "248  CA-2019-109666 2019-04-19         2019-04-29  Standard Processing   \n",
       "249  CA-2019-113061 2019-04-22         2019-04-29  Standard Processing   \n",
       "250  CA-2019-168081 2019-04-24         2019-05-01  Standard Processing   \n",
       "251  US-2019-150147 2019-04-25         2019-05-01  Standard Processing   \n",
       "253  CA-2019-109869 2019-04-22         2019-05-01  Standard Processing   \n",
       "\n",
       "    ready_to_ship_date arrival_scan_date  order_weekday  ordertoready  \\\n",
       "248                NaT        2019-05-03              4           NaN   \n",
       "249                NaT        2019-05-06              0           NaN   \n",
       "250                NaT        2019-05-06              2           NaN   \n",
       "251                NaT        2019-05-07              3           NaN   \n",
       "253                NaT        2019-05-07              0           NaN   \n",
       "\n",
       "     timetoship  transittime  expected_processing_time  expected_pickup_time  \\\n",
       "248          10          4.0                         4                     1   \n",
       "249           7          7.0                         2                     2   \n",
       "250           7          5.0                         2                     3   \n",
       "251           6          6.0                         4                     2   \n",
       "253           9          6.0                         2                     2   \n",
       "\n",
       "     pickuptime  expected_transit_time  \n",
       "248         NaN                      4  \n",
       "249         NaN                      2  \n",
       "250         NaN                      2  \n",
       "251         NaN                      4  \n",
       "253         NaN                      2  "
      ]
     },
     "execution_count": 95,
     "metadata": {},
     "output_type": "execute_result"
    }
   ],
   "source": [
    "df_transit_standard = df_merged_standard[df_merged_standard['transittime'] >= 0]\n",
    "df_transit_standard.head()"
   ]
  },
  {
   "cell_type": "code",
   "execution_count": 96,
   "metadata": {},
   "outputs": [
    {
     "data": {
      "text/html": [
       "<div>\n",
       "<style scoped>\n",
       "    .dataframe tbody tr th:only-of-type {\n",
       "        vertical-align: middle;\n",
       "    }\n",
       "\n",
       "    .dataframe tbody tr th {\n",
       "        vertical-align: top;\n",
       "    }\n",
       "\n",
       "    .dataframe thead th {\n",
       "        text-align: right;\n",
       "    }\n",
       "</style>\n",
       "<table border=\"1\" class=\"dataframe\">\n",
       "  <thead>\n",
       "    <tr style=\"text-align: right;\">\n",
       "      <th></th>\n",
       "      <th>order_id</th>\n",
       "      <th>order_date</th>\n",
       "      <th>on_truck_scan_date</th>\n",
       "      <th>ship_mode</th>\n",
       "      <th>ready_to_ship_date</th>\n",
       "      <th>arrival_scan_date</th>\n",
       "      <th>order_weekday</th>\n",
       "      <th>ordertoready</th>\n",
       "      <th>timetoship</th>\n",
       "      <th>transittime</th>\n",
       "      <th>expected_processing_time</th>\n",
       "      <th>expected_pickup_time</th>\n",
       "      <th>pickuptime</th>\n",
       "      <th>expected_transit_time</th>\n",
       "    </tr>\n",
       "  </thead>\n",
       "  <tbody>\n",
       "    <tr>\n",
       "      <th>246</th>\n",
       "      <td>CA-2019-138933</td>\n",
       "      <td>2019-04-24</td>\n",
       "      <td>2019-04-29</td>\n",
       "      <td>Express</td>\n",
       "      <td>NaT</td>\n",
       "      <td>2019-05-03</td>\n",
       "      <td>2</td>\n",
       "      <td>NaN</td>\n",
       "      <td>5</td>\n",
       "      <td>4.0</td>\n",
       "      <td>2</td>\n",
       "      <td>0</td>\n",
       "      <td>NaN</td>\n",
       "      <td>2</td>\n",
       "    </tr>\n",
       "    <tr>\n",
       "      <th>260</th>\n",
       "      <td>CA-2019-161816</td>\n",
       "      <td>2019-04-28</td>\n",
       "      <td>2019-05-03</td>\n",
       "      <td>Express</td>\n",
       "      <td>NaT</td>\n",
       "      <td>2019-05-07</td>\n",
       "      <td>6</td>\n",
       "      <td>NaN</td>\n",
       "      <td>5</td>\n",
       "      <td>4.0</td>\n",
       "      <td>2</td>\n",
       "      <td>1</td>\n",
       "      <td>NaN</td>\n",
       "      <td>2</td>\n",
       "    </tr>\n",
       "    <tr>\n",
       "      <th>261</th>\n",
       "      <td>CA-2019-146836</td>\n",
       "      <td>2019-05-02</td>\n",
       "      <td>2019-05-03</td>\n",
       "      <td>Express</td>\n",
       "      <td>NaT</td>\n",
       "      <td>2019-05-06</td>\n",
       "      <td>3</td>\n",
       "      <td>NaN</td>\n",
       "      <td>1</td>\n",
       "      <td>3.0</td>\n",
       "      <td>4</td>\n",
       "      <td>0</td>\n",
       "      <td>NaN</td>\n",
       "      <td>4</td>\n",
       "    </tr>\n",
       "    <tr>\n",
       "      <th>265</th>\n",
       "      <td>CA-2019-129280</td>\n",
       "      <td>2019-05-03</td>\n",
       "      <td>2019-05-06</td>\n",
       "      <td>Express</td>\n",
       "      <td>NaT</td>\n",
       "      <td>2019-05-13</td>\n",
       "      <td>4</td>\n",
       "      <td>NaN</td>\n",
       "      <td>3</td>\n",
       "      <td>7.0</td>\n",
       "      <td>4</td>\n",
       "      <td>1</td>\n",
       "      <td>NaN</td>\n",
       "      <td>4</td>\n",
       "    </tr>\n",
       "    <tr>\n",
       "      <th>267</th>\n",
       "      <td>CA-2019-145247</td>\n",
       "      <td>2019-05-05</td>\n",
       "      <td>2019-05-08</td>\n",
       "      <td>Express</td>\n",
       "      <td>NaT</td>\n",
       "      <td>2019-05-10</td>\n",
       "      <td>6</td>\n",
       "      <td>NaN</td>\n",
       "      <td>3</td>\n",
       "      <td>2.0</td>\n",
       "      <td>2</td>\n",
       "      <td>1</td>\n",
       "      <td>NaN</td>\n",
       "      <td>2</td>\n",
       "    </tr>\n",
       "  </tbody>\n",
       "</table>\n",
       "</div>"
      ],
      "text/plain": [
       "           order_id order_date on_truck_scan_date ship_mode  \\\n",
       "246  CA-2019-138933 2019-04-24         2019-04-29   Express   \n",
       "260  CA-2019-161816 2019-04-28         2019-05-03   Express   \n",
       "261  CA-2019-146836 2019-05-02         2019-05-03   Express   \n",
       "265  CA-2019-129280 2019-05-03         2019-05-06   Express   \n",
       "267  CA-2019-145247 2019-05-05         2019-05-08   Express   \n",
       "\n",
       "    ready_to_ship_date arrival_scan_date  order_weekday  ordertoready  \\\n",
       "246                NaT        2019-05-03              2           NaN   \n",
       "260                NaT        2019-05-07              6           NaN   \n",
       "261                NaT        2019-05-06              3           NaN   \n",
       "265                NaT        2019-05-13              4           NaN   \n",
       "267                NaT        2019-05-10              6           NaN   \n",
       "\n",
       "     timetoship  transittime  expected_processing_time  expected_pickup_time  \\\n",
       "246           5          4.0                         2                     0   \n",
       "260           5          4.0                         2                     1   \n",
       "261           1          3.0                         4                     0   \n",
       "265           3          7.0                         4                     1   \n",
       "267           3          2.0                         2                     1   \n",
       "\n",
       "     pickuptime  expected_transit_time  \n",
       "246         NaN                      2  \n",
       "260         NaN                      2  \n",
       "261         NaN                      4  \n",
       "265         NaN                      4  \n",
       "267         NaN                      2  "
      ]
     },
     "execution_count": 96,
     "metadata": {},
     "output_type": "execute_result"
    }
   ],
   "source": [
    "df_transit_express = df_merged_express[df_merged_express['transittime'] >= 0]\n",
    "df_transit_express.head()"
   ]
  },
  {
   "cell_type": "code",
   "execution_count": 97,
   "metadata": {},
   "outputs": [
    {
     "name": "stderr",
     "output_type": "stream",
     "text": [
      "/var/folders/zb/5pjlmnyj1wdg0qvcvbw6ysv80000gn/T/ipykernel_3028/141910295.py:1: SettingWithCopyWarning: \n",
      "A value is trying to be set on a copy of a slice from a DataFrame.\n",
      "Try using .loc[row_indexer,col_indexer] = value instead\n",
      "\n",
      "See the caveats in the documentation: https://pandas.pydata.org/pandas-docs/stable/user_guide/indexing.html#returning-a-view-versus-a-copy\n",
      "  df_transit_standard['transit_time'] = df_transit_standard['transittime'] - df_transit_standard['expected_transit_time']\n",
      "/var/folders/zb/5pjlmnyj1wdg0qvcvbw6ysv80000gn/T/ipykernel_3028/141910295.py:2: SettingWithCopyWarning: \n",
      "A value is trying to be set on a copy of a slice from a DataFrame.\n",
      "Try using .loc[row_indexer,col_indexer] = value instead\n",
      "\n",
      "See the caveats in the documentation: https://pandas.pydata.org/pandas-docs/stable/user_guide/indexing.html#returning-a-view-versus-a-copy\n",
      "  df_transit_standard['transition_on_time_y/n'] = df_transit_standard['transit_time'].apply(lambda x: 'yes' if x <= 0 else 'no')\n"
     ]
    }
   ],
   "source": [
    "df_transit_standard['transit_time'] = df_transit_standard['transittime'] - df_transit_standard['expected_transit_time']\n",
    "df_transit_standard['transition_on_time_y/n'] = df_transit_standard['transit_time'].apply(lambda x: 'yes' if x <= 0 else 'no')"
   ]
  },
  {
   "cell_type": "code",
   "execution_count": 98,
   "metadata": {},
   "outputs": [
    {
     "name": "stderr",
     "output_type": "stream",
     "text": [
      "/var/folders/zb/5pjlmnyj1wdg0qvcvbw6ysv80000gn/T/ipykernel_3028/1503700279.py:1: SettingWithCopyWarning: \n",
      "A value is trying to be set on a copy of a slice from a DataFrame.\n",
      "Try using .loc[row_indexer,col_indexer] = value instead\n",
      "\n",
      "See the caveats in the documentation: https://pandas.pydata.org/pandas-docs/stable/user_guide/indexing.html#returning-a-view-versus-a-copy\n",
      "  df_transit_express['transit_time'] = df_transit_express['transittime'] - df_transit_express['expected_transit_time']\n",
      "/var/folders/zb/5pjlmnyj1wdg0qvcvbw6ysv80000gn/T/ipykernel_3028/1503700279.py:2: SettingWithCopyWarning: \n",
      "A value is trying to be set on a copy of a slice from a DataFrame.\n",
      "Try using .loc[row_indexer,col_indexer] = value instead\n",
      "\n",
      "See the caveats in the documentation: https://pandas.pydata.org/pandas-docs/stable/user_guide/indexing.html#returning-a-view-versus-a-copy\n",
      "  df_transit_express['transition_on_time_y/n'] = df_transit_express['transit_time'].apply(lambda x: 'yes' if x <= 0 else 'no')\n"
     ]
    }
   ],
   "source": [
    "df_transit_express['transit_time'] = df_transit_express['transittime'] - df_transit_express['expected_transit_time']\n",
    "df_transit_express['transition_on_time_y/n'] = df_transit_express['transit_time'].apply(lambda x: 'yes' if x <= 0 else 'no')"
   ]
  },
  {
   "cell_type": "code",
   "execution_count": 99,
   "metadata": {},
   "outputs": [
    {
     "data": {
      "text/plain": [
       "count     75\n",
       "unique     2\n",
       "top       no\n",
       "freq      61\n",
       "Name: transition_on_time_y/n, dtype: object"
      ]
     },
     "execution_count": 99,
     "metadata": {},
     "output_type": "execute_result"
    }
   ],
   "source": [
    "df_transit_express['transition_on_time_y/n'].describe()"
   ]
  },
  {
   "cell_type": "code",
   "execution_count": 100,
   "metadata": {},
   "outputs": [
    {
     "data": {
      "image/png": "[encoded data removed]",
      "text/plain": [
       "<Figure size 600x500 with 2 Axes>"
      ]
     },
     "metadata": {},
     "output_type": "display_data"
    }
   ],
   "source": [
    "fig, (ax1, ax2) = plt.subplots(1,2, figsize=(6,5))\n",
    "fig.tight_layout(w_pad = 4)\n",
    "\n",
    "sns.countplot(x=df_transit_standard['transition_on_time_y/n'], palette='Paired', width=0.4, ax=ax1)\n",
    "ax1.set_title('Transition Time - Standard Delivery')\n",
    "ax1.set_xlabel('Transition On Time')\n",
    "ax1.set_ylabel('Count of Orders')\n",
    "ax1.set_xticklabels(('Yes', 'No'))\n",
    "ax1.grid=True\n",
    "\n",
    "sns.countplot(x=df_transit_express['transition_on_time_y/n'], palette='Paired', width=0.4, ax=ax2)\n",
    "ax2.set_title('Transition Time - Express Delivery')\n",
    "ax2.set_xlabel('Transition On Time')\n",
    "ax2.set_ylabel('Count of Orders')\n",
    "ax2.set_xticklabels(('Yes', 'No'))\n",
    "ax2.grid = True"
   ]
  },
  {
   "cell_type": "code",
   "execution_count": 101,
   "metadata": {},
   "outputs": [
    {
     "data": {
      "text/plain": [
       "[Text(0, 0, 'Yes'), Text(1, 0, 'No')]"
      ]
     },
     "execution_count": 101,
     "metadata": {},
     "output_type": "execute_result"
    },
    {
     "data": {
      "image/png": "[encoded data removed]",
      "text/plain": [
       "<Figure size 600x500 with 1 Axes>"
      ]
     },
     "metadata": {},
     "output_type": "display_data"
    }
   ],
   "source": [
    "fig, ax = plt.subplots(figsize=(6,5))\n",
    "\n",
    "sns.countplot(x=df_transit_standard['transition_on_time_y/n'], palette='Paired', width=0.4)\n",
    "\n",
    "fig.suptitle('Transition Time - Standard Delivery')\n",
    "ax.set_xlabel('Transition On Time')\n",
    "ax.set_ylabel('Count of Orders')\n",
    "ax.set_xticklabels(('Yes', 'No'))"
   ]
  },
  {
   "cell_type": "code",
   "execution_count": 102,
   "metadata": {},
   "outputs": [
    {
     "data": {
      "text/plain": [
       "[Text(0, 0, 'Yes'), Text(1, 0, 'No')]"
      ]
     },
     "execution_count": 102,
     "metadata": {},
     "output_type": "execute_result"
    },
    {
     "data": {
      "image/png": "[encoded data removed]",
      "text/plain": [
       "<Figure size 600x500 with 1 Axes>"
      ]
     },
     "metadata": {},
     "output_type": "display_data"
    }
   ],
   "source": [
    "fig, ax = plt.subplots(figsize=(6,5))\n",
    "\n",
    "sns.countplot(x=df_transit_express['transition_on_time_y/n'], palette='Paired', width=0.4)\n",
    "\n",
    "fig.suptitle('Transition Time - Express Delivery')\n",
    "ax.set_xlabel('Transition On Time')\n",
    "ax.set_ylabel('Count of Orders')\n",
    "ax.set_xticklabels(('Yes', 'No'))"
   ]
  },
  {
   "cell_type": "markdown",
   "metadata": {},
   "source": [
    "# Mean Order Realization Time #\n",
    "\n",
    "To find the mean days for the complete order flow from order placement to order received by the customer. The relation is based on the day which day of the week is order received."
   ]
  },
  {
   "cell_type": "code",
   "execution_count": 103,
   "metadata": {},
   "outputs": [],
   "source": [
    "df_sample = order_arrival.copy()"
   ]
  },
  {
   "cell_type": "code",
   "execution_count": 104,
   "metadata": {},
   "outputs": [
    {
     "data": {
      "text/html": [
       "<div>\n",
       "<style scoped>\n",
       "    .dataframe tbody tr th:only-of-type {\n",
       "        vertical-align: middle;\n",
       "    }\n",
       "\n",
       "    .dataframe tbody tr th {\n",
       "        vertical-align: top;\n",
       "    }\n",
       "\n",
       "    .dataframe thead th {\n",
       "        text-align: right;\n",
       "    }\n",
       "</style>\n",
       "<table border=\"1\" class=\"dataframe\">\n",
       "  <thead>\n",
       "    <tr style=\"text-align: right;\">\n",
       "      <th></th>\n",
       "      <th>order_id</th>\n",
       "      <th>order_date</th>\n",
       "      <th>on_truck_scan_date</th>\n",
       "      <th>ship_mode</th>\n",
       "      <th>ready_to_ship_date</th>\n",
       "      <th>arrival_scan_date</th>\n",
       "      <th>order_weekday</th>\n",
       "      <th>ordertoready</th>\n",
       "      <th>timetoship</th>\n",
       "      <th>transittime</th>\n",
       "    </tr>\n",
       "  </thead>\n",
       "  <tbody>\n",
       "    <tr>\n",
       "      <th>0</th>\n",
       "      <td>CA-2019-125206</td>\n",
       "      <td>2019-01-03</td>\n",
       "      <td>2019-01-07</td>\n",
       "      <td>Express</td>\n",
       "      <td>NaT</td>\n",
       "      <td>NaT</td>\n",
       "      <td>3</td>\n",
       "      <td>NaN</td>\n",
       "      <td>4</td>\n",
       "      <td>NaN</td>\n",
       "    </tr>\n",
       "    <tr>\n",
       "      <th>1</th>\n",
       "      <td>CA-2019-160304</td>\n",
       "      <td>2019-01-02</td>\n",
       "      <td>2019-01-09</td>\n",
       "      <td>Standard Processing</td>\n",
       "      <td>NaT</td>\n",
       "      <td>NaT</td>\n",
       "      <td>2</td>\n",
       "      <td>NaN</td>\n",
       "      <td>7</td>\n",
       "      <td>NaN</td>\n",
       "    </tr>\n",
       "    <tr>\n",
       "      <th>2</th>\n",
       "      <td>US-2019-116365</td>\n",
       "      <td>2019-01-03</td>\n",
       "      <td>2019-01-09</td>\n",
       "      <td>Standard Processing</td>\n",
       "      <td>NaT</td>\n",
       "      <td>NaT</td>\n",
       "      <td>3</td>\n",
       "      <td>NaN</td>\n",
       "      <td>6</td>\n",
       "      <td>NaN</td>\n",
       "    </tr>\n",
       "    <tr>\n",
       "      <th>3</th>\n",
       "      <td>CA-2019-105207</td>\n",
       "      <td>2019-01-03</td>\n",
       "      <td>2019-01-09</td>\n",
       "      <td>Standard Processing</td>\n",
       "      <td>NaT</td>\n",
       "      <td>NaT</td>\n",
       "      <td>3</td>\n",
       "      <td>NaN</td>\n",
       "      <td>6</td>\n",
       "      <td>NaN</td>\n",
       "    </tr>\n",
       "    <tr>\n",
       "      <th>4</th>\n",
       "      <td>CA-2019-158211</td>\n",
       "      <td>2019-01-04</td>\n",
       "      <td>2019-01-09</td>\n",
       "      <td>Standard Processing</td>\n",
       "      <td>NaT</td>\n",
       "      <td>NaT</td>\n",
       "      <td>4</td>\n",
       "      <td>NaN</td>\n",
       "      <td>5</td>\n",
       "      <td>NaN</td>\n",
       "    </tr>\n",
       "  </tbody>\n",
       "</table>\n",
       "</div>"
      ],
      "text/plain": [
       "         order_id order_date on_truck_scan_date            ship_mode  \\\n",
       "0  CA-2019-125206 2019-01-03         2019-01-07              Express   \n",
       "1  CA-2019-160304 2019-01-02         2019-01-09  Standard Processing   \n",
       "2  US-2019-116365 2019-01-03         2019-01-09  Standard Processing   \n",
       "3  CA-2019-105207 2019-01-03         2019-01-09  Standard Processing   \n",
       "4  CA-2019-158211 2019-01-04         2019-01-09  Standard Processing   \n",
       "\n",
       "  ready_to_ship_date arrival_scan_date  order_weekday  ordertoready  \\\n",
       "0                NaT               NaT              3           NaN   \n",
       "1                NaT               NaT              2           NaN   \n",
       "2                NaT               NaT              3           NaN   \n",
       "3                NaT               NaT              3           NaN   \n",
       "4                NaT               NaT              4           NaN   \n",
       "\n",
       "   timetoship  transittime  \n",
       "0           4          NaN  \n",
       "1           7          NaN  \n",
       "2           6          NaN  \n",
       "3           6          NaN  \n",
       "4           5          NaN  "
      ]
     },
     "execution_count": 104,
     "metadata": {},
     "output_type": "execute_result"
    }
   ],
   "source": [
    "df_sample.head()"
   ]
  },
  {
   "cell_type": "code",
   "execution_count": 105,
   "metadata": {},
   "outputs": [],
   "source": [
    "df_sample['order_reaching_days'] = df_sample['arrival_scan_date'] - df_sample['order_date']"
   ]
  },
  {
   "cell_type": "code",
   "execution_count": 106,
   "metadata": {},
   "outputs": [
    {
     "data": {
      "text/html": [
       "<div>\n",
       "<style scoped>\n",
       "    .dataframe tbody tr th:only-of-type {\n",
       "        vertical-align: middle;\n",
       "    }\n",
       "\n",
       "    .dataframe tbody tr th {\n",
       "        vertical-align: top;\n",
       "    }\n",
       "\n",
       "    .dataframe thead th {\n",
       "        text-align: right;\n",
       "    }\n",
       "</style>\n",
       "<table border=\"1\" class=\"dataframe\">\n",
       "  <thead>\n",
       "    <tr style=\"text-align: right;\">\n",
       "      <th></th>\n",
       "      <th>order_id</th>\n",
       "      <th>order_date</th>\n",
       "      <th>on_truck_scan_date</th>\n",
       "      <th>ship_mode</th>\n",
       "      <th>ready_to_ship_date</th>\n",
       "      <th>arrival_scan_date</th>\n",
       "      <th>order_weekday</th>\n",
       "      <th>ordertoready</th>\n",
       "      <th>timetoship</th>\n",
       "      <th>transittime</th>\n",
       "      <th>order_reaching_days</th>\n",
       "    </tr>\n",
       "  </thead>\n",
       "  <tbody>\n",
       "    <tr>\n",
       "      <th>0</th>\n",
       "      <td>CA-2019-125206</td>\n",
       "      <td>2019-01-03</td>\n",
       "      <td>2019-01-07</td>\n",
       "      <td>Express</td>\n",
       "      <td>NaT</td>\n",
       "      <td>NaT</td>\n",
       "      <td>3</td>\n",
       "      <td>NaN</td>\n",
       "      <td>4</td>\n",
       "      <td>NaN</td>\n",
       "      <td>NaT</td>\n",
       "    </tr>\n",
       "    <tr>\n",
       "      <th>1</th>\n",
       "      <td>CA-2019-160304</td>\n",
       "      <td>2019-01-02</td>\n",
       "      <td>2019-01-09</td>\n",
       "      <td>Standard Processing</td>\n",
       "      <td>NaT</td>\n",
       "      <td>NaT</td>\n",
       "      <td>2</td>\n",
       "      <td>NaN</td>\n",
       "      <td>7</td>\n",
       "      <td>NaN</td>\n",
       "      <td>NaT</td>\n",
       "    </tr>\n",
       "    <tr>\n",
       "      <th>2</th>\n",
       "      <td>US-2019-116365</td>\n",
       "      <td>2019-01-03</td>\n",
       "      <td>2019-01-09</td>\n",
       "      <td>Standard Processing</td>\n",
       "      <td>NaT</td>\n",
       "      <td>NaT</td>\n",
       "      <td>3</td>\n",
       "      <td>NaN</td>\n",
       "      <td>6</td>\n",
       "      <td>NaN</td>\n",
       "      <td>NaT</td>\n",
       "    </tr>\n",
       "    <tr>\n",
       "      <th>3</th>\n",
       "      <td>CA-2019-105207</td>\n",
       "      <td>2019-01-03</td>\n",
       "      <td>2019-01-09</td>\n",
       "      <td>Standard Processing</td>\n",
       "      <td>NaT</td>\n",
       "      <td>NaT</td>\n",
       "      <td>3</td>\n",
       "      <td>NaN</td>\n",
       "      <td>6</td>\n",
       "      <td>NaN</td>\n",
       "      <td>NaT</td>\n",
       "    </tr>\n",
       "    <tr>\n",
       "      <th>4</th>\n",
       "      <td>CA-2019-158211</td>\n",
       "      <td>2019-01-04</td>\n",
       "      <td>2019-01-09</td>\n",
       "      <td>Standard Processing</td>\n",
       "      <td>NaT</td>\n",
       "      <td>NaT</td>\n",
       "      <td>4</td>\n",
       "      <td>NaN</td>\n",
       "      <td>5</td>\n",
       "      <td>NaN</td>\n",
       "      <td>NaT</td>\n",
       "    </tr>\n",
       "  </tbody>\n",
       "</table>\n",
       "</div>"
      ],
      "text/plain": [
       "         order_id order_date on_truck_scan_date            ship_mode  \\\n",
       "0  CA-2019-125206 2019-01-03         2019-01-07              Express   \n",
       "1  CA-2019-160304 2019-01-02         2019-01-09  Standard Processing   \n",
       "2  US-2019-116365 2019-01-03         2019-01-09  Standard Processing   \n",
       "3  CA-2019-105207 2019-01-03         2019-01-09  Standard Processing   \n",
       "4  CA-2019-158211 2019-01-04         2019-01-09  Standard Processing   \n",
       "\n",
       "  ready_to_ship_date arrival_scan_date  order_weekday  ordertoready  \\\n",
       "0                NaT               NaT              3           NaN   \n",
       "1                NaT               NaT              2           NaN   \n",
       "2                NaT               NaT              3           NaN   \n",
       "3                NaT               NaT              3           NaN   \n",
       "4                NaT               NaT              4           NaN   \n",
       "\n",
       "   timetoship  transittime order_reaching_days  \n",
       "0           4          NaN                 NaT  \n",
       "1           7          NaN                 NaT  \n",
       "2           6          NaN                 NaT  \n",
       "3           6          NaN                 NaT  \n",
       "4           5          NaN                 NaT  "
      ]
     },
     "execution_count": 106,
     "metadata": {},
     "output_type": "execute_result"
    }
   ],
   "source": [
    "df_sample.head()"
   ]
  },
  {
   "cell_type": "code",
   "execution_count": 107,
   "metadata": {},
   "outputs": [
    {
     "data": {
      "text/html": [
       "<div>\n",
       "<style scoped>\n",
       "    .dataframe tbody tr th:only-of-type {\n",
       "        vertical-align: middle;\n",
       "    }\n",
       "\n",
       "    .dataframe tbody tr th {\n",
       "        vertical-align: top;\n",
       "    }\n",
       "\n",
       "    .dataframe thead th {\n",
       "        text-align: right;\n",
       "    }\n",
       "</style>\n",
       "<table border=\"1\" class=\"dataframe\">\n",
       "  <thead>\n",
       "    <tr style=\"text-align: right;\">\n",
       "      <th></th>\n",
       "      <th>order_id</th>\n",
       "      <th>order_date</th>\n",
       "      <th>on_truck_scan_date</th>\n",
       "      <th>ship_mode</th>\n",
       "      <th>ready_to_ship_date</th>\n",
       "      <th>arrival_scan_date</th>\n",
       "      <th>order_weekday</th>\n",
       "      <th>ordertoready</th>\n",
       "      <th>timetoship</th>\n",
       "      <th>transittime</th>\n",
       "      <th>order_realization_days</th>\n",
       "    </tr>\n",
       "  </thead>\n",
       "  <tbody>\n",
       "    <tr>\n",
       "      <th>246</th>\n",
       "      <td>CA-2019-138933</td>\n",
       "      <td>2019-04-24</td>\n",
       "      <td>2019-04-29</td>\n",
       "      <td>Express</td>\n",
       "      <td>NaT</td>\n",
       "      <td>2019-05-03</td>\n",
       "      <td>2</td>\n",
       "      <td>NaN</td>\n",
       "      <td>5</td>\n",
       "      <td>4.0</td>\n",
       "      <td>9.0</td>\n",
       "    </tr>\n",
       "    <tr>\n",
       "      <th>248</th>\n",
       "      <td>CA-2019-109666</td>\n",
       "      <td>2019-04-19</td>\n",
       "      <td>2019-04-29</td>\n",
       "      <td>Standard Processing</td>\n",
       "      <td>NaT</td>\n",
       "      <td>2019-05-03</td>\n",
       "      <td>4</td>\n",
       "      <td>NaN</td>\n",
       "      <td>10</td>\n",
       "      <td>4.0</td>\n",
       "      <td>14.0</td>\n",
       "    </tr>\n",
       "    <tr>\n",
       "      <th>249</th>\n",
       "      <td>CA-2019-113061</td>\n",
       "      <td>2019-04-22</td>\n",
       "      <td>2019-04-29</td>\n",
       "      <td>Standard Processing</td>\n",
       "      <td>NaT</td>\n",
       "      <td>2019-05-06</td>\n",
       "      <td>0</td>\n",
       "      <td>NaN</td>\n",
       "      <td>7</td>\n",
       "      <td>7.0</td>\n",
       "      <td>14.0</td>\n",
       "    </tr>\n",
       "    <tr>\n",
       "      <th>250</th>\n",
       "      <td>CA-2019-168081</td>\n",
       "      <td>2019-04-24</td>\n",
       "      <td>2019-05-01</td>\n",
       "      <td>Standard Processing</td>\n",
       "      <td>NaT</td>\n",
       "      <td>2019-05-06</td>\n",
       "      <td>2</td>\n",
       "      <td>NaN</td>\n",
       "      <td>7</td>\n",
       "      <td>5.0</td>\n",
       "      <td>12.0</td>\n",
       "    </tr>\n",
       "    <tr>\n",
       "      <th>251</th>\n",
       "      <td>US-2019-150147</td>\n",
       "      <td>2019-04-25</td>\n",
       "      <td>2019-05-01</td>\n",
       "      <td>Standard Processing</td>\n",
       "      <td>NaT</td>\n",
       "      <td>2019-05-07</td>\n",
       "      <td>3</td>\n",
       "      <td>NaN</td>\n",
       "      <td>6</td>\n",
       "      <td>6.0</td>\n",
       "      <td>12.0</td>\n",
       "    </tr>\n",
       "  </tbody>\n",
       "</table>\n",
       "</div>"
      ],
      "text/plain": [
       "           order_id order_date on_truck_scan_date            ship_mode  \\\n",
       "246  CA-2019-138933 2019-04-24         2019-04-29              Express   \n",
       "248  CA-2019-109666 2019-04-19         2019-04-29  Standard Processing   \n",
       "249  CA-2019-113061 2019-04-22         2019-04-29  Standard Processing   \n",
       "250  CA-2019-168081 2019-04-24         2019-05-01  Standard Processing   \n",
       "251  US-2019-150147 2019-04-25         2019-05-01  Standard Processing   \n",
       "\n",
       "    ready_to_ship_date arrival_scan_date  order_weekday  ordertoready  \\\n",
       "246                NaT        2019-05-03              2           NaN   \n",
       "248                NaT        2019-05-03              4           NaN   \n",
       "249                NaT        2019-05-06              0           NaN   \n",
       "250                NaT        2019-05-06              2           NaN   \n",
       "251                NaT        2019-05-07              3           NaN   \n",
       "\n",
       "     timetoship  transittime  order_realization_days  \n",
       "246           5          4.0                     9.0  \n",
       "248          10          4.0                    14.0  \n",
       "249           7          7.0                    14.0  \n",
       "250           7          5.0                    12.0  \n",
       "251           6          6.0                    12.0  "
      ]
     },
     "execution_count": 107,
     "metadata": {},
     "output_type": "execute_result"
    }
   ],
   "source": [
    "df_sample['order_realization_days'] = df_sample['order_reaching_days'].apply(lambda x: x.days)\n",
    "df_sample.drop(columns='order_reaching_days', inplace=True)\n",
    "df_sample_active = df_sample[df_sample['order_realization_days'] >= 0]\n",
    "df_sample_active.head()"
   ]
  },
  {
   "cell_type": "code",
   "execution_count": 108,
   "metadata": {},
   "outputs": [
    {
     "data": {
      "text/plain": [
       "count    333.000000\n",
       "mean      10.834835\n",
       "std        2.862257\n",
       "min        3.000000\n",
       "25%        9.000000\n",
       "50%       11.000000\n",
       "75%       13.000000\n",
       "max       17.000000\n",
       "Name: order_realization_days, dtype: float64"
      ]
     },
     "execution_count": 108,
     "metadata": {},
     "output_type": "execute_result"
    }
   ],
   "source": [
    "df_sample_active['order_realization_days'].describe()"
   ]
  },
  {
   "cell_type": "code",
   "execution_count": 109,
   "metadata": {},
   "outputs": [
    {
     "data": {
      "text/html": [
       "<div>\n",
       "<style scoped>\n",
       "    .dataframe tbody tr th:only-of-type {\n",
       "        vertical-align: middle;\n",
       "    }\n",
       "\n",
       "    .dataframe tbody tr th {\n",
       "        vertical-align: top;\n",
       "    }\n",
       "\n",
       "    .dataframe thead th {\n",
       "        text-align: right;\n",
       "    }\n",
       "</style>\n",
       "<table border=\"1\" class=\"dataframe\">\n",
       "  <thead>\n",
       "    <tr style=\"text-align: right;\">\n",
       "      <th></th>\n",
       "      <th>order_id</th>\n",
       "      <th>order_date</th>\n",
       "      <th>on_truck_scan_date</th>\n",
       "      <th>ship_mode</th>\n",
       "      <th>ready_to_ship_date</th>\n",
       "      <th>arrival_scan_date</th>\n",
       "      <th>order_weekday</th>\n",
       "      <th>ordertoready</th>\n",
       "      <th>timetoship</th>\n",
       "      <th>transittime</th>\n",
       "      <th>order_realization_days</th>\n",
       "    </tr>\n",
       "  </thead>\n",
       "  <tbody>\n",
       "    <tr>\n",
       "      <th>248</th>\n",
       "      <td>CA-2019-109666</td>\n",
       "      <td>2019-04-19</td>\n",
       "      <td>2019-04-29</td>\n",
       "      <td>Standard Processing</td>\n",
       "      <td>NaT</td>\n",
       "      <td>2019-05-03</td>\n",
       "      <td>4</td>\n",
       "      <td>NaN</td>\n",
       "      <td>10</td>\n",
       "      <td>4.0</td>\n",
       "      <td>14.0</td>\n",
       "    </tr>\n",
       "    <tr>\n",
       "      <th>249</th>\n",
       "      <td>CA-2019-113061</td>\n",
       "      <td>2019-04-22</td>\n",
       "      <td>2019-04-29</td>\n",
       "      <td>Standard Processing</td>\n",
       "      <td>NaT</td>\n",
       "      <td>2019-05-06</td>\n",
       "      <td>0</td>\n",
       "      <td>NaN</td>\n",
       "      <td>7</td>\n",
       "      <td>7.0</td>\n",
       "      <td>14.0</td>\n",
       "    </tr>\n",
       "    <tr>\n",
       "      <th>250</th>\n",
       "      <td>CA-2019-168081</td>\n",
       "      <td>2019-04-24</td>\n",
       "      <td>2019-05-01</td>\n",
       "      <td>Standard Processing</td>\n",
       "      <td>NaT</td>\n",
       "      <td>2019-05-06</td>\n",
       "      <td>2</td>\n",
       "      <td>NaN</td>\n",
       "      <td>7</td>\n",
       "      <td>5.0</td>\n",
       "      <td>12.0</td>\n",
       "    </tr>\n",
       "    <tr>\n",
       "      <th>251</th>\n",
       "      <td>US-2019-150147</td>\n",
       "      <td>2019-04-25</td>\n",
       "      <td>2019-05-01</td>\n",
       "      <td>Standard Processing</td>\n",
       "      <td>NaT</td>\n",
       "      <td>2019-05-07</td>\n",
       "      <td>3</td>\n",
       "      <td>NaN</td>\n",
       "      <td>6</td>\n",
       "      <td>6.0</td>\n",
       "      <td>12.0</td>\n",
       "    </tr>\n",
       "    <tr>\n",
       "      <th>253</th>\n",
       "      <td>CA-2019-109869</td>\n",
       "      <td>2019-04-22</td>\n",
       "      <td>2019-05-01</td>\n",
       "      <td>Standard Processing</td>\n",
       "      <td>NaT</td>\n",
       "      <td>2019-05-07</td>\n",
       "      <td>0</td>\n",
       "      <td>NaN</td>\n",
       "      <td>9</td>\n",
       "      <td>6.0</td>\n",
       "      <td>15.0</td>\n",
       "    </tr>\n",
       "  </tbody>\n",
       "</table>\n",
       "</div>"
      ],
      "text/plain": [
       "           order_id order_date on_truck_scan_date            ship_mode  \\\n",
       "248  CA-2019-109666 2019-04-19         2019-04-29  Standard Processing   \n",
       "249  CA-2019-113061 2019-04-22         2019-04-29  Standard Processing   \n",
       "250  CA-2019-168081 2019-04-24         2019-05-01  Standard Processing   \n",
       "251  US-2019-150147 2019-04-25         2019-05-01  Standard Processing   \n",
       "253  CA-2019-109869 2019-04-22         2019-05-01  Standard Processing   \n",
       "\n",
       "    ready_to_ship_date arrival_scan_date  order_weekday  ordertoready  \\\n",
       "248                NaT        2019-05-03              4           NaN   \n",
       "249                NaT        2019-05-06              0           NaN   \n",
       "250                NaT        2019-05-06              2           NaN   \n",
       "251                NaT        2019-05-07              3           NaN   \n",
       "253                NaT        2019-05-07              0           NaN   \n",
       "\n",
       "     timetoship  transittime  order_realization_days  \n",
       "248          10          4.0                    14.0  \n",
       "249           7          7.0                    14.0  \n",
       "250           7          5.0                    12.0  \n",
       "251           6          6.0                    12.0  \n",
       "253           9          6.0                    15.0  "
      ]
     },
     "execution_count": 109,
     "metadata": {},
     "output_type": "execute_result"
    }
   ],
   "source": [
    "df_sample_standard = df_sample_active[df_sample_active['ship_mode'] == 'Standard Processing']\n",
    "df_sample_standard.head()"
   ]
  },
  {
   "cell_type": "code",
   "execution_count": 110,
   "metadata": {},
   "outputs": [
    {
     "name": "stderr",
     "output_type": "stream",
     "text": [
      "/var/folders/zb/5pjlmnyj1wdg0qvcvbw6ysv80000gn/T/ipykernel_3028/2654460794.py:1: FutureWarning: The default value of numeric_only in DataFrame.quantile is deprecated. In a future version, it will default to False. Select only valid columns or specify the value of numeric_only to silence this warning.\n",
      "  df_sample_standard.quantile(0.95)['order_realization_days']\n"
     ]
    },
    {
     "data": {
      "text/plain": [
       "15.0"
      ]
     },
     "execution_count": 110,
     "metadata": {},
     "output_type": "execute_result"
    }
   ],
   "source": [
    "df_sample_standard.quantile(0.95)['order_realization_days']"
   ]
  },
  {
   "cell_type": "code",
   "execution_count": 111,
   "metadata": {},
   "outputs": [
    {
     "name": "stderr",
     "output_type": "stream",
     "text": [
      "/var/folders/zb/5pjlmnyj1wdg0qvcvbw6ysv80000gn/T/ipykernel_3028/2669349721.py:3: FutureWarning: The default value of numeric_only in DataFrameGroupBy.mean is deprecated. In a future version, numeric_only will default to False. Either specify numeric_only or select only columns which should be valid for the function.\n",
      "  df_sample_standard\n",
      "/var/folders/zb/5pjlmnyj1wdg0qvcvbw6ysv80000gn/T/ipykernel_3028/2669349721.py:14: FutureWarning: The default value of numeric_only in DataFrameGroupBy.quantile is deprecated. In a future version, numeric_only will default to False. Either specify numeric_only or select only columns which should be valid for the function.\n",
      "  df_sample_standard.groupby('order_weekday')\n"
     ]
    },
    {
     "data": {
      "image/png": "[encoded data removed]",
      "text/plain": [
       "<Figure size 800x500 with 1 Axes>"
      ]
     },
     "metadata": {},
     "output_type": "display_data"
    }
   ],
   "source": [
    "fig, ax = plt.subplots(figsize=(8,5))\n",
    "ax=(\n",
    "    df_sample_standard\n",
    "   .groupby('order_weekday') # aggregate data to level of airline\n",
    "   .mean()['order_realization_days'] # count the observations\n",
    "  .plot.bar(color='grey',) # Make a bar chart based on the dataframe\n",
    ")\n",
    "fig.suptitle('Mean Order Realization Days - Standard')\n",
    "ax.set_ylim(0,20)\n",
    "ax.set(xlabel='Order Day', ylabel='Mean Days')\n",
    "ax.set_xticks(ticks=[0, 1, 2, 3, 4, 5, 6], labels=['Mon', 'Tue', 'Wed', 'Thu', 'Fri', 'Sat', 'Sun'])\n",
    "\n",
    "ax=(\n",
    "    df_sample_standard.groupby('order_weekday')\n",
    "    .quantile(0.95)['order_realization_days']\n",
    "    .plot.line()\n",
    ")\n"
   ]
  },
  {
   "cell_type": "code",
   "execution_count": 112,
   "metadata": {},
   "outputs": [
    {
     "data": {
      "text/html": [
       "<div>\n",
       "<style scoped>\n",
       "    .dataframe tbody tr th:only-of-type {\n",
       "        vertical-align: middle;\n",
       "    }\n",
       "\n",
       "    .dataframe tbody tr th {\n",
       "        vertical-align: top;\n",
       "    }\n",
       "\n",
       "    .dataframe thead th {\n",
       "        text-align: right;\n",
       "    }\n",
       "</style>\n",
       "<table border=\"1\" class=\"dataframe\">\n",
       "  <thead>\n",
       "    <tr style=\"text-align: right;\">\n",
       "      <th></th>\n",
       "      <th>order_id</th>\n",
       "      <th>order_date</th>\n",
       "      <th>on_truck_scan_date</th>\n",
       "      <th>ship_mode</th>\n",
       "      <th>ready_to_ship_date</th>\n",
       "      <th>arrival_scan_date</th>\n",
       "      <th>order_weekday</th>\n",
       "      <th>ordertoready</th>\n",
       "      <th>timetoship</th>\n",
       "      <th>transittime</th>\n",
       "      <th>order_realization_days</th>\n",
       "    </tr>\n",
       "  </thead>\n",
       "  <tbody>\n",
       "    <tr>\n",
       "      <th>248</th>\n",
       "      <td>CA-2019-109666</td>\n",
       "      <td>2019-04-19</td>\n",
       "      <td>2019-04-29</td>\n",
       "      <td>Standard Processing</td>\n",
       "      <td>NaT</td>\n",
       "      <td>2019-05-03</td>\n",
       "      <td>4</td>\n",
       "      <td>NaN</td>\n",
       "      <td>10</td>\n",
       "      <td>4.0</td>\n",
       "      <td>14.0</td>\n",
       "    </tr>\n",
       "    <tr>\n",
       "      <th>249</th>\n",
       "      <td>CA-2019-113061</td>\n",
       "      <td>2019-04-22</td>\n",
       "      <td>2019-04-29</td>\n",
       "      <td>Standard Processing</td>\n",
       "      <td>NaT</td>\n",
       "      <td>2019-05-06</td>\n",
       "      <td>0</td>\n",
       "      <td>NaN</td>\n",
       "      <td>7</td>\n",
       "      <td>7.0</td>\n",
       "      <td>14.0</td>\n",
       "    </tr>\n",
       "    <tr>\n",
       "      <th>250</th>\n",
       "      <td>CA-2019-168081</td>\n",
       "      <td>2019-04-24</td>\n",
       "      <td>2019-05-01</td>\n",
       "      <td>Standard Processing</td>\n",
       "      <td>NaT</td>\n",
       "      <td>2019-05-06</td>\n",
       "      <td>2</td>\n",
       "      <td>NaN</td>\n",
       "      <td>7</td>\n",
       "      <td>5.0</td>\n",
       "      <td>12.0</td>\n",
       "    </tr>\n",
       "    <tr>\n",
       "      <th>251</th>\n",
       "      <td>US-2019-150147</td>\n",
       "      <td>2019-04-25</td>\n",
       "      <td>2019-05-01</td>\n",
       "      <td>Standard Processing</td>\n",
       "      <td>NaT</td>\n",
       "      <td>2019-05-07</td>\n",
       "      <td>3</td>\n",
       "      <td>NaN</td>\n",
       "      <td>6</td>\n",
       "      <td>6.0</td>\n",
       "      <td>12.0</td>\n",
       "    </tr>\n",
       "    <tr>\n",
       "      <th>253</th>\n",
       "      <td>CA-2019-109869</td>\n",
       "      <td>2019-04-22</td>\n",
       "      <td>2019-05-01</td>\n",
       "      <td>Standard Processing</td>\n",
       "      <td>NaT</td>\n",
       "      <td>2019-05-07</td>\n",
       "      <td>0</td>\n",
       "      <td>NaN</td>\n",
       "      <td>9</td>\n",
       "      <td>6.0</td>\n",
       "      <td>15.0</td>\n",
       "    </tr>\n",
       "  </tbody>\n",
       "</table>\n",
       "</div>"
      ],
      "text/plain": [
       "           order_id order_date on_truck_scan_date            ship_mode  \\\n",
       "248  CA-2019-109666 2019-04-19         2019-04-29  Standard Processing   \n",
       "249  CA-2019-113061 2019-04-22         2019-04-29  Standard Processing   \n",
       "250  CA-2019-168081 2019-04-24         2019-05-01  Standard Processing   \n",
       "251  US-2019-150147 2019-04-25         2019-05-01  Standard Processing   \n",
       "253  CA-2019-109869 2019-04-22         2019-05-01  Standard Processing   \n",
       "\n",
       "    ready_to_ship_date arrival_scan_date  order_weekday  ordertoready  \\\n",
       "248                NaT        2019-05-03              4           NaN   \n",
       "249                NaT        2019-05-06              0           NaN   \n",
       "250                NaT        2019-05-06              2           NaN   \n",
       "251                NaT        2019-05-07              3           NaN   \n",
       "253                NaT        2019-05-07              0           NaN   \n",
       "\n",
       "     timetoship  transittime  order_realization_days  \n",
       "248          10          4.0                    14.0  \n",
       "249           7          7.0                    14.0  \n",
       "250           7          5.0                    12.0  \n",
       "251           6          6.0                    12.0  \n",
       "253           9          6.0                    15.0  "
      ]
     },
     "execution_count": 112,
     "metadata": {},
     "output_type": "execute_result"
    }
   ],
   "source": [
    "df_sample_standard.head(5)"
   ]
  },
  {
   "cell_type": "code",
   "execution_count": 113,
   "metadata": {},
   "outputs": [
    {
     "data": {
      "text/plain": [
       "<AxesSubplot: xlabel='order_weekday', ylabel='order_id'>"
      ]
     },
     "execution_count": 113,
     "metadata": {},
     "output_type": "execute_result"
    },
    {
     "data": {
      "image/png": "[encoded data removed]",
      "text/plain": [
       "<Figure size 640x480 with 1 Axes>"
      ]
     },
     "metadata": {},
     "output_type": "display_data"
    }
   ],
   "source": [
    "#df_view = df_sample_standard.groupby('order_weekday').mean()['order_realization_days'].reset_index()\n",
    "sns.scatterplot(data=df_sample_standard, x='order_weekday', y='order_id', hue='timetoship')\n",
    "#df_view"
   ]
  },
  {
   "cell_type": "code",
   "execution_count": 114,
   "metadata": {},
   "outputs": [
    {
     "data": {
      "text/html": [
       "<div>\n",
       "<style scoped>\n",
       "    .dataframe tbody tr th:only-of-type {\n",
       "        vertical-align: middle;\n",
       "    }\n",
       "\n",
       "    .dataframe tbody tr th {\n",
       "        vertical-align: top;\n",
       "    }\n",
       "\n",
       "    .dataframe thead th {\n",
       "        text-align: right;\n",
       "    }\n",
       "</style>\n",
       "<table border=\"1\" class=\"dataframe\">\n",
       "  <thead>\n",
       "    <tr style=\"text-align: right;\">\n",
       "      <th></th>\n",
       "      <th>order_id</th>\n",
       "      <th>order_date</th>\n",
       "      <th>on_truck_scan_date</th>\n",
       "      <th>ship_mode</th>\n",
       "      <th>ready_to_ship_date</th>\n",
       "      <th>arrival_scan_date</th>\n",
       "      <th>order_weekday</th>\n",
       "      <th>ordertoready</th>\n",
       "      <th>timetoship</th>\n",
       "      <th>transittime</th>\n",
       "      <th>order_realization_days</th>\n",
       "    </tr>\n",
       "  </thead>\n",
       "  <tbody>\n",
       "    <tr>\n",
       "      <th>246</th>\n",
       "      <td>CA-2019-138933</td>\n",
       "      <td>2019-04-24</td>\n",
       "      <td>2019-04-29</td>\n",
       "      <td>Express</td>\n",
       "      <td>NaT</td>\n",
       "      <td>2019-05-03</td>\n",
       "      <td>2</td>\n",
       "      <td>NaN</td>\n",
       "      <td>5</td>\n",
       "      <td>4.0</td>\n",
       "      <td>9.0</td>\n",
       "    </tr>\n",
       "    <tr>\n",
       "      <th>260</th>\n",
       "      <td>CA-2019-161816</td>\n",
       "      <td>2019-04-28</td>\n",
       "      <td>2019-05-03</td>\n",
       "      <td>Express</td>\n",
       "      <td>NaT</td>\n",
       "      <td>2019-05-07</td>\n",
       "      <td>6</td>\n",
       "      <td>NaN</td>\n",
       "      <td>5</td>\n",
       "      <td>4.0</td>\n",
       "      <td>9.0</td>\n",
       "    </tr>\n",
       "    <tr>\n",
       "      <th>261</th>\n",
       "      <td>CA-2019-146836</td>\n",
       "      <td>2019-05-02</td>\n",
       "      <td>2019-05-03</td>\n",
       "      <td>Express</td>\n",
       "      <td>NaT</td>\n",
       "      <td>2019-05-06</td>\n",
       "      <td>3</td>\n",
       "      <td>NaN</td>\n",
       "      <td>1</td>\n",
       "      <td>3.0</td>\n",
       "      <td>4.0</td>\n",
       "    </tr>\n",
       "    <tr>\n",
       "      <th>265</th>\n",
       "      <td>CA-2019-129280</td>\n",
       "      <td>2019-05-03</td>\n",
       "      <td>2019-05-06</td>\n",
       "      <td>Express</td>\n",
       "      <td>NaT</td>\n",
       "      <td>2019-05-13</td>\n",
       "      <td>4</td>\n",
       "      <td>NaN</td>\n",
       "      <td>3</td>\n",
       "      <td>7.0</td>\n",
       "      <td>10.0</td>\n",
       "    </tr>\n",
       "    <tr>\n",
       "      <th>267</th>\n",
       "      <td>CA-2019-145247</td>\n",
       "      <td>2019-05-05</td>\n",
       "      <td>2019-05-08</td>\n",
       "      <td>Express</td>\n",
       "      <td>NaT</td>\n",
       "      <td>2019-05-10</td>\n",
       "      <td>6</td>\n",
       "      <td>NaN</td>\n",
       "      <td>3</td>\n",
       "      <td>2.0</td>\n",
       "      <td>5.0</td>\n",
       "    </tr>\n",
       "  </tbody>\n",
       "</table>\n",
       "</div>"
      ],
      "text/plain": [
       "           order_id order_date on_truck_scan_date ship_mode  \\\n",
       "246  CA-2019-138933 2019-04-24         2019-04-29   Express   \n",
       "260  CA-2019-161816 2019-04-28         2019-05-03   Express   \n",
       "261  CA-2019-146836 2019-05-02         2019-05-03   Express   \n",
       "265  CA-2019-129280 2019-05-03         2019-05-06   Express   \n",
       "267  CA-2019-145247 2019-05-05         2019-05-08   Express   \n",
       "\n",
       "    ready_to_ship_date arrival_scan_date  order_weekday  ordertoready  \\\n",
       "246                NaT        2019-05-03              2           NaN   \n",
       "260                NaT        2019-05-07              6           NaN   \n",
       "261                NaT        2019-05-06              3           NaN   \n",
       "265                NaT        2019-05-13              4           NaN   \n",
       "267                NaT        2019-05-10              6           NaN   \n",
       "\n",
       "     timetoship  transittime  order_realization_days  \n",
       "246           5          4.0                     9.0  \n",
       "260           5          4.0                     9.0  \n",
       "261           1          3.0                     4.0  \n",
       "265           3          7.0                    10.0  \n",
       "267           3          2.0                     5.0  "
      ]
     },
     "execution_count": 114,
     "metadata": {},
     "output_type": "execute_result"
    }
   ],
   "source": [
    "df_sample_express = df_sample_active[df_sample_active['ship_mode'] == 'Express']\n",
    "df_sample_express.head()"
   ]
  },
  {
   "cell_type": "code",
   "execution_count": 115,
   "metadata": {},
   "outputs": [
    {
     "name": "stderr",
     "output_type": "stream",
     "text": [
      "/var/folders/zb/5pjlmnyj1wdg0qvcvbw6ysv80000gn/T/ipykernel_3028/2906608688.py:3: FutureWarning: The default value of numeric_only in DataFrameGroupBy.mean is deprecated. In a future version, numeric_only will default to False. Either specify numeric_only or select only columns which should be valid for the function.\n",
      "  df_sample_express\n"
     ]
    },
    {
     "ename": "TypeError",
     "evalue": "bar() missing 2 required positional arguments: 'x' and 'height'",
     "output_type": "error",
     "traceback": [
      "\u001b[0;31m---------------------------------------------------------------------------\u001b[0m",
      "\u001b[0;31mTypeError\u001b[0m                                 Traceback (most recent call last)",
      "Cell \u001b[0;32mIn [115], line 14\u001b[0m\n\u001b[1;32m     10\u001b[0m ax\u001b[39m.\u001b[39mset(xlabel\u001b[39m=\u001b[39m\u001b[39m'\u001b[39m\u001b[39mOrder Day\u001b[39m\u001b[39m'\u001b[39m, ylabel\u001b[39m=\u001b[39m\u001b[39m'\u001b[39m\u001b[39mMean Days\u001b[39m\u001b[39m'\u001b[39m)\n\u001b[1;32m     11\u001b[0m ax\u001b[39m.\u001b[39mset_xticks(ticks\u001b[39m=\u001b[39m[\u001b[39m0\u001b[39m, \u001b[39m1\u001b[39m, \u001b[39m2\u001b[39m, \u001b[39m3\u001b[39m, \u001b[39m4\u001b[39m, \u001b[39m5\u001b[39m, \u001b[39m6\u001b[39m], labels\u001b[39m=\u001b[39m[\u001b[39m'\u001b[39m\u001b[39mMon\u001b[39m\u001b[39m'\u001b[39m, \u001b[39m'\u001b[39m\u001b[39mTue\u001b[39m\u001b[39m'\u001b[39m, \u001b[39m'\u001b[39m\u001b[39mWed\u001b[39m\u001b[39m'\u001b[39m, \u001b[39m'\u001b[39m\u001b[39mThu\u001b[39m\u001b[39m'\u001b[39m, \u001b[39m'\u001b[39m\u001b[39mFri\u001b[39m\u001b[39m'\u001b[39m, \u001b[39m'\u001b[39m\u001b[39mSat\u001b[39m\u001b[39m'\u001b[39m, \u001b[39m'\u001b[39m\u001b[39mSun\u001b[39m\u001b[39m'\u001b[39m])\n\u001b[0;32m---> 14\u001b[0m ax\u001b[39m.\u001b[39;49mbar()\n",
      "File \u001b[0;32m/opt/homebrew/Caskroom/miniconda/base/envs/nf_base/lib/python3.9/site-packages/matplotlib/__init__.py:1423\u001b[0m, in \u001b[0;36m_preprocess_data.<locals>.inner\u001b[0;34m(ax, data, *args, **kwargs)\u001b[0m\n\u001b[1;32m   1420\u001b[0m \u001b[39m@functools\u001b[39m\u001b[39m.\u001b[39mwraps(func)\n\u001b[1;32m   1421\u001b[0m \u001b[39mdef\u001b[39;00m \u001b[39minner\u001b[39m(ax, \u001b[39m*\u001b[39margs, data\u001b[39m=\u001b[39m\u001b[39mNone\u001b[39;00m, \u001b[39m*\u001b[39m\u001b[39m*\u001b[39mkwargs):\n\u001b[1;32m   1422\u001b[0m     \u001b[39mif\u001b[39;00m data \u001b[39mis\u001b[39;00m \u001b[39mNone\u001b[39;00m:\n\u001b[0;32m-> 1423\u001b[0m         \u001b[39mreturn\u001b[39;00m func(ax, \u001b[39m*\u001b[39;49m\u001b[39mmap\u001b[39;49m(sanitize_sequence, args), \u001b[39m*\u001b[39;49m\u001b[39m*\u001b[39;49mkwargs)\n\u001b[1;32m   1425\u001b[0m     bound \u001b[39m=\u001b[39m new_sig\u001b[39m.\u001b[39mbind(ax, \u001b[39m*\u001b[39margs, \u001b[39m*\u001b[39m\u001b[39m*\u001b[39mkwargs)\n\u001b[1;32m   1426\u001b[0m     auto_label \u001b[39m=\u001b[39m (bound\u001b[39m.\u001b[39marguments\u001b[39m.\u001b[39mget(label_namer)\n\u001b[1;32m   1427\u001b[0m                   \u001b[39mor\u001b[39;00m bound\u001b[39m.\u001b[39mkwargs\u001b[39m.\u001b[39mget(label_namer))\n",
      "\u001b[0;31mTypeError\u001b[0m: bar() missing 2 required positional arguments: 'x' and 'height'"
     ]
    },
    {
     "data": {
      "image/png": "[encoded data removed]",
      "text/plain": [
       "<Figure size 800x500 with 1 Axes>"
      ]
     },
     "metadata": {},
     "output_type": "display_data"
    }
   ],
   "source": [
    "fig, ax = plt.subplots(figsize=(8,5))\n",
    "(\n",
    "    df_sample_express\n",
    "   .groupby('order_weekday') # aggregate data to level of airline\n",
    "   .mean()['order_realization_days'] # count the observations\n",
    "  .plot.bar(color='khaki') # Make a bar chart based on the dataframe\n",
    ")\n",
    "ax.set_ylim(0,14)\n",
    "fig.suptitle('Mean Order Realization Days - Express')\n",
    "ax.set(xlabel='Order Day', ylabel='Mean Days')\n",
    "ax.set_xticks(ticks=[0, 1, 2, 3, 4, 5, 6], labels=['Mon', 'Tue', 'Wed', 'Thu', 'Fri', 'Sat', 'Sun'])\n",
    "\n",
    "\n",
    "ax.bar()"
   ]
  },
  {
   "cell_type": "markdown",
   "metadata": {},
   "source": []
  },
  {
   "cell_type": "code",
   "execution_count": null,
   "metadata": {},
   "outputs": [],
   "source": [
    "pv_table_cancelled = pd.pivot_table(final_table_df[final_table_df['cancelled']==1], index='flight_date', values=('tail_number'), aggfunc={'tail_number':'count'}).copy()\n",
    "pv_table_delayed = pd.pivot_table(final_table_df[final_table_df['cancelled']!=1], index='flight_date', values=('tail_number'), aggfunc={'tail_number':'count'}).copy()\n",
    "fig, ax = plt.subplots(5,1, figsize=(10,8))\n",
    "fig.tight_layout(h_pad = 4)\n",
    "sns.lineplot(data=final_table_df, x='flight_date', y='prcp', ax=ax[0])\n",
    "sns.lineplot(data=final_table_df, x='flight_date', y='wspd', ax=ax[1])\n",
    "sns.lineplot(data=final_table_df, x='flight_date', y='pres', ax=ax[2])\n",
    "sns.lineplot(data=pv_table_cancelled, x='flight_date', y='tail_number', ax=ax[3])\n",
    "sns.lineplot(data=pv_table_delayed, x='flight_date', y='tail_number', ax=ax[4])"
   ]
  }
 ],
 "metadata": {
  "kernelspec": {
   "display_name": "Python 3.9.13 ('nf_base')",
   "language": "python",
   "name": "python3"
  },
  "language_info": {
   "codemirror_mode": {
    "name": "ipython",
    "version": 3
   },
   "file_extension": ".py",
   "mimetype": "text/x-python",
   "name": "python",
   "nbconvert_exporter": "python",
   "pygments_lexer": "ipython3",
   "version": "3.9.13"
  },
  "orig_nbformat": 4,
  "vscode": {
   "interpreter": {
    "hash": "ab3d85a18739f6fff6a9c8c504adc2ff9340867b576dede986e2ee74c099e4e5"
   }
  }
 },
 "nbformat": 4,
 "nbformat_minor": 2
}
